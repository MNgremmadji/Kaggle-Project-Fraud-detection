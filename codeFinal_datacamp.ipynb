{
  "nbformat": 4,
  "nbformat_minor": 0,
  "metadata": {
    "accelerator": "GPU",
    "colab": {
      "name": "code.ipynb",
      "provenance": [],
      "collapsed_sections": [
        "W6ikeHvy2ncd",
        "lKJXBYQ-2nch",
        "tk7uY0wJ2ncs",
        "jdxG7XYA2ncu",
        "Nngls47d2nc2",
        "DlVgS22h2ndg",
        "oSis36Jh2nel"
      ]
    },
    "kernelspec": {
      "name": "python3",
      "display_name": "Python 3"
    },
    "language_info": {
      "codemirror_mode": {
        "name": "ipython",
        "version": 3
      },
      "file_extension": ".py",
      "mimetype": "text/x-python",
      "name": "python",
      "nbconvert_exporter": "python",
      "pygments_lexer": "ipython3",
      "version": "3.7.1"
    }
  },
  "cells": [
    {
      "cell_type": "markdown",
      "metadata": {
        "colab_type": "text",
        "id": "eozD9CUr2nYv"
      },
      "source": [
        "# IEEE Fraud Detection"
      ]
    },
    {
      "cell_type": "markdown",
      "metadata": {
        "colab_type": "text",
        "id": "oFejEI-I2nYy"
      },
      "source": [
        "# Packages nécessaires"
      ]
    },
    {
      "cell_type": "code",
      "metadata": {
        "colab_type": "code",
        "id": "Fj81KV7F2nYy",
        "outputId": "d7457a68-4b67-4f6f-a6e9-13f407129f28",
        "colab": {
          "base_uri": "https://localhost:8080/",
          "height": 72
        }
      },
      "source": [
        "import os\n",
        "import numpy as np     \n",
        "import pandas as pd   \n",
        "import matplotlib.pyplot as plt   \n",
        "import seaborn as sns        \n",
        "\n",
        "from scipy import stats \n",
        "\n",
        "from sklearn.linear_model import LogisticRegression\n",
        "from sklearn.model_selection import train_test_split\n",
        "from sklearn.metrics import roc_auc_score\n",
        "from sklearn.model_selection import cross_val_score\n",
        "from sklearn.preprocessing import LabelEncoder\n",
        "from sklearn.preprocessing import OneHotEncoder\n",
        "from sklearn.neighbors import KNeighborsClassifier\n",
        "from sklearn.tree import DecisionTreeClassifier\n",
        "from sklearn.ensemble import AdaBoostClassifier\n",
        "from sklearn.model_selection import cross_val_score\n",
        "from sklearn.model_selection import GridSearchCV\n",
        "from sklearn.ensemble import RandomForestClassifier\n",
        "from sklearn.metrics import roc_auc_score\n",
        "from sklearn.model_selection import cross_val_score\n",
        "from sklearn.metrics import classification_report, confusion_matrix\n",
        "from sklearn.model_selection import RandomizedSearchCV\n",
        "from sklearn.naive_bayes import GaussianNB\n",
        "import time\n",
        "import random\n",
        "from sklearn import linear_model\n",
        "from sklearn.preprocessing import StandardScaler\n",
        "from sklearn import model_selection\n",
        "import warnings\n",
        "warnings.filterwarnings(\"ignore\")\n",
        "\n",
        "sns.set() "
      ],
      "execution_count": 1,
      "outputs": [
        {
          "output_type": "stream",
          "text": [
            "/usr/local/lib/python3.6/dist-packages/statsmodels/tools/_testing.py:19: FutureWarning: pandas.util.testing is deprecated. Use the functions in the public API at pandas.testing instead.\n",
            "  import pandas.util.testing as tm\n"
          ],
          "name": "stderr"
        }
      ]
    },
    {
      "cell_type": "code",
      "metadata": {
        "id": "9qx5N5eMk5JY",
        "colab_type": "code",
        "outputId": "6dc884e3-b74d-450e-e0c3-d6feee02b115",
        "colab": {
          "base_uri": "https://localhost:8080/",
          "height": 125
        }
      },
      "source": [
        "from google.colab import drive\n",
        "drive.mount('/content/drive')"
      ],
      "execution_count": 2,
      "outputs": [
        {
          "output_type": "stream",
          "text": [
            "Go to this URL in a browser: https://accounts.google.com/o/oauth2/auth?client_id=947318989803-6bn6qk8qdgf4n4g3pfee6491hc0brc4i.apps.googleusercontent.com&redirect_uri=urn%3aietf%3awg%3aoauth%3a2.0%3aoob&response_type=code&scope=email%20https%3a%2f%2fwww.googleapis.com%2fauth%2fdocs.test%20https%3a%2f%2fwww.googleapis.com%2fauth%2fdrive%20https%3a%2f%2fwww.googleapis.com%2fauth%2fdrive.photos.readonly%20https%3a%2f%2fwww.googleapis.com%2fauth%2fpeopleapi.readonly\n",
            "\n",
            "Enter your authorization code:\n",
            "··········\n",
            "Mounted at /content/drive\n"
          ],
          "name": "stdout"
        }
      ]
    },
    {
      "cell_type": "code",
      "metadata": {
        "id": "WoujTVHSk5re",
        "colab_type": "code",
        "outputId": "35d95975-fe69-4bbd-f6b8-933ef97f5c1f",
        "colab": {
          "base_uri": "https://localhost:8080/",
          "height": 34
        }
      },
      "source": [
        "drive.mount('/content/drive', force_remount=True)\n",
        "os.chdir(\"/content/drive/My Drive\")"
      ],
      "execution_count": 3,
      "outputs": [
        {
          "output_type": "stream",
          "text": [
            "Mounted at /content/drive\n"
          ],
          "name": "stdout"
        }
      ]
    },
    {
      "cell_type": "markdown",
      "metadata": {
        "colab_type": "text",
        "id": "yiIJ_-sv2nY3"
      },
      "source": [
        "# Import des données"
      ]
    },
    {
      "cell_type": "code",
      "metadata": {
        "colab_type": "code",
        "id": "WbORIiJW2nY4",
        "outputId": "3cc56d01-fdc8-4709-dfee-b700080dc2d4",
        "colab": {
          "base_uri": "https://localhost:8080/",
          "height": 195
        }
      },
      "source": [
        "data_sub = pd.read_csv('sample_submission.csv')\n",
        "data_sub.head()"
      ],
      "execution_count": 4,
      "outputs": [
        {
          "output_type": "execute_result",
          "data": {
            "text/html": [
              "<div>\n",
              "<style scoped>\n",
              "    .dataframe tbody tr th:only-of-type {\n",
              "        vertical-align: middle;\n",
              "    }\n",
              "\n",
              "    .dataframe tbody tr th {\n",
              "        vertical-align: top;\n",
              "    }\n",
              "\n",
              "    .dataframe thead th {\n",
              "        text-align: right;\n",
              "    }\n",
              "</style>\n",
              "<table border=\"1\" class=\"dataframe\">\n",
              "  <thead>\n",
              "    <tr style=\"text-align: right;\">\n",
              "      <th></th>\n",
              "      <th>TransactionID</th>\n",
              "      <th>isFraud</th>\n",
              "    </tr>\n",
              "  </thead>\n",
              "  <tbody>\n",
              "    <tr>\n",
              "      <th>0</th>\n",
              "      <td>3663549</td>\n",
              "      <td>0.5</td>\n",
              "    </tr>\n",
              "    <tr>\n",
              "      <th>1</th>\n",
              "      <td>3663550</td>\n",
              "      <td>0.5</td>\n",
              "    </tr>\n",
              "    <tr>\n",
              "      <th>2</th>\n",
              "      <td>3663551</td>\n",
              "      <td>0.5</td>\n",
              "    </tr>\n",
              "    <tr>\n",
              "      <th>3</th>\n",
              "      <td>3663552</td>\n",
              "      <td>0.5</td>\n",
              "    </tr>\n",
              "    <tr>\n",
              "      <th>4</th>\n",
              "      <td>3663553</td>\n",
              "      <td>0.5</td>\n",
              "    </tr>\n",
              "  </tbody>\n",
              "</table>\n",
              "</div>"
            ],
            "text/plain": [
              "   TransactionID  isFraud\n",
              "0        3663549      0.5\n",
              "1        3663550      0.5\n",
              "2        3663551      0.5\n",
              "3        3663552      0.5\n",
              "4        3663553      0.5"
            ]
          },
          "metadata": {
            "tags": []
          },
          "execution_count": 4
        }
      ]
    },
    {
      "cell_type": "code",
      "metadata": {
        "colab_type": "code",
        "id": "2Pen7AIq2nY9",
        "colab": {}
      },
      "source": [
        "del data_sub"
      ],
      "execution_count": 0,
      "outputs": []
    },
    {
      "cell_type": "code",
      "metadata": {
        "colab_type": "code",
        "id": "wlr-zIT72nZB",
        "colab": {}
      },
      "source": [
        "train_id = pd.read_csv('train_identity.csv')\n",
        "train_trans = pd.read_csv('train_transaction.csv')\n",
        "test_id = pd.read_csv('test_identity.csv')\n",
        "test_trans = pd.read_csv('test_transaction.csv')"
      ],
      "execution_count": 0,
      "outputs": []
    },
    {
      "cell_type": "code",
      "metadata": {
        "colab_type": "code",
        "id": "VZvdiIfH2nZE",
        "outputId": "7f08499d-41d6-4cd3-854f-e43b87f1786c",
        "colab": {
          "base_uri": "https://localhost:8080/",
          "height": 350
        }
      },
      "source": [
        "train_id.head()"
      ],
      "execution_count": 7,
      "outputs": [
        {
          "output_type": "execute_result",
          "data": {
            "text/html": [
              "<div>\n",
              "<style scoped>\n",
              "    .dataframe tbody tr th:only-of-type {\n",
              "        vertical-align: middle;\n",
              "    }\n",
              "\n",
              "    .dataframe tbody tr th {\n",
              "        vertical-align: top;\n",
              "    }\n",
              "\n",
              "    .dataframe thead th {\n",
              "        text-align: right;\n",
              "    }\n",
              "</style>\n",
              "<table border=\"1\" class=\"dataframe\">\n",
              "  <thead>\n",
              "    <tr style=\"text-align: right;\">\n",
              "      <th></th>\n",
              "      <th>TransactionID</th>\n",
              "      <th>id_01</th>\n",
              "      <th>id_02</th>\n",
              "      <th>id_03</th>\n",
              "      <th>id_04</th>\n",
              "      <th>id_05</th>\n",
              "      <th>id_06</th>\n",
              "      <th>id_07</th>\n",
              "      <th>id_08</th>\n",
              "      <th>id_09</th>\n",
              "      <th>id_10</th>\n",
              "      <th>id_11</th>\n",
              "      <th>id_12</th>\n",
              "      <th>id_13</th>\n",
              "      <th>id_14</th>\n",
              "      <th>id_15</th>\n",
              "      <th>id_16</th>\n",
              "      <th>id_17</th>\n",
              "      <th>id_18</th>\n",
              "      <th>id_19</th>\n",
              "      <th>id_20</th>\n",
              "      <th>id_21</th>\n",
              "      <th>id_22</th>\n",
              "      <th>id_23</th>\n",
              "      <th>id_24</th>\n",
              "      <th>id_25</th>\n",
              "      <th>id_26</th>\n",
              "      <th>id_27</th>\n",
              "      <th>id_28</th>\n",
              "      <th>id_29</th>\n",
              "      <th>id_30</th>\n",
              "      <th>id_31</th>\n",
              "      <th>id_32</th>\n",
              "      <th>id_33</th>\n",
              "      <th>id_34</th>\n",
              "      <th>id_35</th>\n",
              "      <th>id_36</th>\n",
              "      <th>id_37</th>\n",
              "      <th>id_38</th>\n",
              "      <th>DeviceType</th>\n",
              "      <th>DeviceInfo</th>\n",
              "    </tr>\n",
              "  </thead>\n",
              "  <tbody>\n",
              "    <tr>\n",
              "      <th>0</th>\n",
              "      <td>2987004</td>\n",
              "      <td>0.0</td>\n",
              "      <td>70787.0</td>\n",
              "      <td>NaN</td>\n",
              "      <td>NaN</td>\n",
              "      <td>NaN</td>\n",
              "      <td>NaN</td>\n",
              "      <td>NaN</td>\n",
              "      <td>NaN</td>\n",
              "      <td>NaN</td>\n",
              "      <td>NaN</td>\n",
              "      <td>100.0</td>\n",
              "      <td>NotFound</td>\n",
              "      <td>NaN</td>\n",
              "      <td>-480.0</td>\n",
              "      <td>New</td>\n",
              "      <td>NotFound</td>\n",
              "      <td>166.0</td>\n",
              "      <td>NaN</td>\n",
              "      <td>542.0</td>\n",
              "      <td>144.0</td>\n",
              "      <td>NaN</td>\n",
              "      <td>NaN</td>\n",
              "      <td>NaN</td>\n",
              "      <td>NaN</td>\n",
              "      <td>NaN</td>\n",
              "      <td>NaN</td>\n",
              "      <td>NaN</td>\n",
              "      <td>New</td>\n",
              "      <td>NotFound</td>\n",
              "      <td>Android 7.0</td>\n",
              "      <td>samsung browser 6.2</td>\n",
              "      <td>32.0</td>\n",
              "      <td>2220x1080</td>\n",
              "      <td>match_status:2</td>\n",
              "      <td>T</td>\n",
              "      <td>F</td>\n",
              "      <td>T</td>\n",
              "      <td>T</td>\n",
              "      <td>mobile</td>\n",
              "      <td>SAMSUNG SM-G892A Build/NRD90M</td>\n",
              "    </tr>\n",
              "    <tr>\n",
              "      <th>1</th>\n",
              "      <td>2987008</td>\n",
              "      <td>-5.0</td>\n",
              "      <td>98945.0</td>\n",
              "      <td>NaN</td>\n",
              "      <td>NaN</td>\n",
              "      <td>0.0</td>\n",
              "      <td>-5.0</td>\n",
              "      <td>NaN</td>\n",
              "      <td>NaN</td>\n",
              "      <td>NaN</td>\n",
              "      <td>NaN</td>\n",
              "      <td>100.0</td>\n",
              "      <td>NotFound</td>\n",
              "      <td>49.0</td>\n",
              "      <td>-300.0</td>\n",
              "      <td>New</td>\n",
              "      <td>NotFound</td>\n",
              "      <td>166.0</td>\n",
              "      <td>NaN</td>\n",
              "      <td>621.0</td>\n",
              "      <td>500.0</td>\n",
              "      <td>NaN</td>\n",
              "      <td>NaN</td>\n",
              "      <td>NaN</td>\n",
              "      <td>NaN</td>\n",
              "      <td>NaN</td>\n",
              "      <td>NaN</td>\n",
              "      <td>NaN</td>\n",
              "      <td>New</td>\n",
              "      <td>NotFound</td>\n",
              "      <td>iOS 11.1.2</td>\n",
              "      <td>mobile safari 11.0</td>\n",
              "      <td>32.0</td>\n",
              "      <td>1334x750</td>\n",
              "      <td>match_status:1</td>\n",
              "      <td>T</td>\n",
              "      <td>F</td>\n",
              "      <td>F</td>\n",
              "      <td>T</td>\n",
              "      <td>mobile</td>\n",
              "      <td>iOS Device</td>\n",
              "    </tr>\n",
              "    <tr>\n",
              "      <th>2</th>\n",
              "      <td>2987010</td>\n",
              "      <td>-5.0</td>\n",
              "      <td>191631.0</td>\n",
              "      <td>0.0</td>\n",
              "      <td>0.0</td>\n",
              "      <td>0.0</td>\n",
              "      <td>0.0</td>\n",
              "      <td>NaN</td>\n",
              "      <td>NaN</td>\n",
              "      <td>0.0</td>\n",
              "      <td>0.0</td>\n",
              "      <td>100.0</td>\n",
              "      <td>NotFound</td>\n",
              "      <td>52.0</td>\n",
              "      <td>NaN</td>\n",
              "      <td>Found</td>\n",
              "      <td>Found</td>\n",
              "      <td>121.0</td>\n",
              "      <td>NaN</td>\n",
              "      <td>410.0</td>\n",
              "      <td>142.0</td>\n",
              "      <td>NaN</td>\n",
              "      <td>NaN</td>\n",
              "      <td>NaN</td>\n",
              "      <td>NaN</td>\n",
              "      <td>NaN</td>\n",
              "      <td>NaN</td>\n",
              "      <td>NaN</td>\n",
              "      <td>Found</td>\n",
              "      <td>Found</td>\n",
              "      <td>NaN</td>\n",
              "      <td>chrome 62.0</td>\n",
              "      <td>NaN</td>\n",
              "      <td>NaN</td>\n",
              "      <td>NaN</td>\n",
              "      <td>F</td>\n",
              "      <td>F</td>\n",
              "      <td>T</td>\n",
              "      <td>T</td>\n",
              "      <td>desktop</td>\n",
              "      <td>Windows</td>\n",
              "    </tr>\n",
              "    <tr>\n",
              "      <th>3</th>\n",
              "      <td>2987011</td>\n",
              "      <td>-5.0</td>\n",
              "      <td>221832.0</td>\n",
              "      <td>NaN</td>\n",
              "      <td>NaN</td>\n",
              "      <td>0.0</td>\n",
              "      <td>-6.0</td>\n",
              "      <td>NaN</td>\n",
              "      <td>NaN</td>\n",
              "      <td>NaN</td>\n",
              "      <td>NaN</td>\n",
              "      <td>100.0</td>\n",
              "      <td>NotFound</td>\n",
              "      <td>52.0</td>\n",
              "      <td>NaN</td>\n",
              "      <td>New</td>\n",
              "      <td>NotFound</td>\n",
              "      <td>225.0</td>\n",
              "      <td>NaN</td>\n",
              "      <td>176.0</td>\n",
              "      <td>507.0</td>\n",
              "      <td>NaN</td>\n",
              "      <td>NaN</td>\n",
              "      <td>NaN</td>\n",
              "      <td>NaN</td>\n",
              "      <td>NaN</td>\n",
              "      <td>NaN</td>\n",
              "      <td>NaN</td>\n",
              "      <td>New</td>\n",
              "      <td>NotFound</td>\n",
              "      <td>NaN</td>\n",
              "      <td>chrome 62.0</td>\n",
              "      <td>NaN</td>\n",
              "      <td>NaN</td>\n",
              "      <td>NaN</td>\n",
              "      <td>F</td>\n",
              "      <td>F</td>\n",
              "      <td>T</td>\n",
              "      <td>T</td>\n",
              "      <td>desktop</td>\n",
              "      <td>NaN</td>\n",
              "    </tr>\n",
              "    <tr>\n",
              "      <th>4</th>\n",
              "      <td>2987016</td>\n",
              "      <td>0.0</td>\n",
              "      <td>7460.0</td>\n",
              "      <td>0.0</td>\n",
              "      <td>0.0</td>\n",
              "      <td>1.0</td>\n",
              "      <td>0.0</td>\n",
              "      <td>NaN</td>\n",
              "      <td>NaN</td>\n",
              "      <td>0.0</td>\n",
              "      <td>0.0</td>\n",
              "      <td>100.0</td>\n",
              "      <td>NotFound</td>\n",
              "      <td>NaN</td>\n",
              "      <td>-300.0</td>\n",
              "      <td>Found</td>\n",
              "      <td>Found</td>\n",
              "      <td>166.0</td>\n",
              "      <td>15.0</td>\n",
              "      <td>529.0</td>\n",
              "      <td>575.0</td>\n",
              "      <td>NaN</td>\n",
              "      <td>NaN</td>\n",
              "      <td>NaN</td>\n",
              "      <td>NaN</td>\n",
              "      <td>NaN</td>\n",
              "      <td>NaN</td>\n",
              "      <td>NaN</td>\n",
              "      <td>Found</td>\n",
              "      <td>Found</td>\n",
              "      <td>Mac OS X 10_11_6</td>\n",
              "      <td>chrome 62.0</td>\n",
              "      <td>24.0</td>\n",
              "      <td>1280x800</td>\n",
              "      <td>match_status:2</td>\n",
              "      <td>T</td>\n",
              "      <td>F</td>\n",
              "      <td>T</td>\n",
              "      <td>T</td>\n",
              "      <td>desktop</td>\n",
              "      <td>MacOS</td>\n",
              "    </tr>\n",
              "  </tbody>\n",
              "</table>\n",
              "</div>"
            ],
            "text/plain": [
              "   TransactionID  id_01  ...  DeviceType                     DeviceInfo\n",
              "0        2987004    0.0  ...      mobile  SAMSUNG SM-G892A Build/NRD90M\n",
              "1        2987008   -5.0  ...      mobile                     iOS Device\n",
              "2        2987010   -5.0  ...     desktop                        Windows\n",
              "3        2987011   -5.0  ...     desktop                            NaN\n",
              "4        2987016    0.0  ...     desktop                          MacOS\n",
              "\n",
              "[5 rows x 41 columns]"
            ]
          },
          "metadata": {
            "tags": []
          },
          "execution_count": 7
        }
      ]
    },
    {
      "cell_type": "code",
      "metadata": {
        "colab_type": "code",
        "id": "5rAHUCdj2nZI",
        "colab": {}
      },
      "source": [
        "TransactionID = test_id[\"TransactionID\"]"
      ],
      "execution_count": 0,
      "outputs": []
    },
    {
      "cell_type": "code",
      "metadata": {
        "colab_type": "code",
        "id": "Dwl62GtJ2nZN",
        "colab": {}
      },
      "source": [
        "#On rassemble les données train et test via la variable TransactionID.\n",
        "train = pd.merge(train_trans, train_id, on='TransactionID', how='left')\n",
        "test = pd.merge(test_trans, test_id, on='TransactionID', how='left')"
      ],
      "execution_count": 0,
      "outputs": []
    },
    {
      "cell_type": "code",
      "metadata": {
        "colab_type": "code",
        "id": "cXDvHnQk2nZQ",
        "colab": {}
      },
      "source": [
        "del train_id, train_trans, test_id, test_trans"
      ],
      "execution_count": 0,
      "outputs": []
    },
    {
      "cell_type": "code",
      "metadata": {
        "colab_type": "code",
        "id": "dX_0Q1ic2nZU",
        "colab": {}
      },
      "source": [
        "def reduce_mem_usage(df, verbose=True):\n",
        "    \"\"\"Réduction de la mémoire\n",
        "\n",
        "    Parameters\n",
        "    ----------\n",
        "    df : data frame\n",
        "    verbose : Booléen\n",
        "        Afficher le pourcentage de réduction de mémoire\n",
        "\n",
        "\n",
        "    Returns\n",
        "    -------\n",
        "    data frame\n",
        "        Le data frame dont la mémoire est réduite\n",
        "    \"\"\"\n",
        "    numerics = ['int16', 'int32', 'int64', 'float16', 'float32', 'float64']\n",
        "    start_mem = df.memory_usage().sum() / 1024**2    \n",
        "    for col in df.columns:\n",
        "        col_type = df[col].dtypes\n",
        "        if col_type in numerics:\n",
        "            c_min = df[col].min()\n",
        "            c_max = df[col].max()\n",
        "            if str(col_type)[:3] == 'int':\n",
        "                if c_min > np.iinfo(np.int8).min and c_max < np.iinfo(np.int8).max:\n",
        "                    df[col] = df[col].astype(np.int8)\n",
        "                elif c_min > np.iinfo(np.int16).min and c_max < np.iinfo(np.int16).max:\n",
        "                    df[col] = df[col].astype(np.int16)\n",
        "                elif c_min > np.iinfo(np.int32).min and c_max < np.iinfo(np.int32).max:\n",
        "                    df[col] = df[col].astype(np.int32)\n",
        "                elif c_min > np.iinfo(np.int64).min and c_max < np.iinfo(np.int64).max:\n",
        "                    df[col] = df[col].astype(np.int64)  \n",
        "            else:\n",
        "                if c_min > np.finfo(np.float16).min and c_max < np.finfo(np.float16).max:\n",
        "                    df[col] = df[col].astype(np.float16)\n",
        "                elif c_min > np.finfo(np.float32).min and c_max < np.finfo(np.float32).max:\n",
        "                    df[col] = df[col].astype(np.float32)\n",
        "                else:\n",
        "                    df[col] = df[col].astype(np.float64)    \n",
        "    end_mem = df.memory_usage().sum() / 1024**2\n",
        "    if verbose: \n",
        "        print('Mem. usage decreased to {:5.2f} Mb ({:.1f}% reduction)'.format(end_mem, 100 * (start_mem - end_mem) / start_mem))\n",
        "    return df"
      ],
      "execution_count": 0,
      "outputs": []
    },
    {
      "cell_type": "code",
      "metadata": {
        "colab_type": "code",
        "id": "MAB5H9Ob2nZY",
        "outputId": "e5fda0a0-b90e-4302-e7f1-4ff95bf25794",
        "colab": {
          "base_uri": "https://localhost:8080/",
          "height": 52
        }
      },
      "source": [
        "train = reduce_mem_usage(train)\n",
        "test = reduce_mem_usage(test)"
      ],
      "execution_count": 12,
      "outputs": [
        {
          "output_type": "stream",
          "text": [
            "Mem. usage decreased to 650.48 Mb (66.8% reduction)\n",
            "Mem. usage decreased to 565.37 Mb (66.3% reduction)\n"
          ],
          "name": "stdout"
        }
      ]
    },
    {
      "cell_type": "markdown",
      "metadata": {
        "colab_type": "text",
        "id": "LwI731SC2nZd"
      },
      "source": [
        "# Visualisation des données"
      ]
    },
    {
      "cell_type": "markdown",
      "metadata": {
        "colab_type": "text",
        "id": "Can6-DuA2nZe"
      },
      "source": [
        "**Données \"object\"**"
      ]
    },
    {
      "cell_type": "code",
      "metadata": {
        "colab_type": "code",
        "id": "DWjTx7B12nZf",
        "outputId": "235f5695-857c-4400-b4ef-b6ac1b082ef5",
        "colab": {
          "base_uri": "https://localhost:8080/",
          "height": 54
        }
      },
      "source": [
        "cat_cols = list(train.select_dtypes(include=['object']).columns)\n",
        "print(cat_cols)"
      ],
      "execution_count": 13,
      "outputs": [
        {
          "output_type": "stream",
          "text": [
            "['ProductCD', 'card4', 'card6', 'P_emaildomain', 'R_emaildomain', 'M1', 'M2', 'M3', 'M4', 'M5', 'M6', 'M7', 'M8', 'M9', 'id_12', 'id_15', 'id_16', 'id_23', 'id_27', 'id_28', 'id_29', 'id_30', 'id_31', 'id_33', 'id_34', 'id_35', 'id_36', 'id_37', 'id_38', 'DeviceType', 'DeviceInfo']\n"
          ],
          "name": "stdout"
        }
      ]
    },
    {
      "cell_type": "markdown",
      "metadata": {
        "colab_type": "text",
        "id": "C2jgwx-42nZk"
      },
      "source": [
        "## Target : isFraud"
      ]
    },
    {
      "cell_type": "code",
      "metadata": {
        "colab_type": "code",
        "id": "LDaOFF6V2nZl",
        "outputId": "d83ee09d-edd8-4f3d-a020-4603ea5200fd",
        "colab": {
          "base_uri": "https://localhost:8080/",
          "height": 229
        }
      },
      "source": [
        "train.groupby('isFraud') \\\n",
        "    .count()['TransactionID'] \\\n",
        "    .plot(kind='barh',\n",
        "          title='Distribution of Target in Train',\n",
        "          figsize=(15, 3))\n",
        "plt.show()"
      ],
      "execution_count": 0,
      "outputs": [
        {
          "output_type": "display_data",
          "data": {
            "image/png": "[encoded data removed]",
            "text/plain": [
              "<Figure size 1080x216 with 1 Axes>"
            ]
          },
          "metadata": {
            "tags": []
          }
        }
      ]
    },
    {
      "cell_type": "markdown",
      "metadata": {
        "colab_type": "text",
        "id": "7GvvcR-F2nZp"
      },
      "source": [
        "## Transaction Amt"
      ]
    },
    {
      "cell_type": "code",
      "metadata": {
        "colab_type": "code",
        "id": "Fbmk1ZvL2nZq",
        "colab": {}
      },
      "source": [
        "plt.style.use('ggplot')\n",
        "color_pal = [x['color'] for x in plt.rcParams['axes.prop_cycle']]"
      ],
      "execution_count": 0,
      "outputs": []
    },
    {
      "cell_type": "code",
      "metadata": {
        "colab_type": "code",
        "id": "8wcotrd32nZu",
        "outputId": "40ec3400-54cf-490c-a2af-b92ccd58f1f3",
        "colab": {
          "base_uri": "https://localhost:8080/",
          "height": 394
        }
      },
      "source": [
        "fig, ((ax1, ax2), (ax3, ax4)) = plt.subplots(2, 2, figsize=(15, 6))\n",
        "train.loc[train['isFraud'] == 1] \\\n",
        "    ['TransactionAmt'].apply(np.log) \\\n",
        "    .plot(kind='hist',\n",
        "          bins=100,\n",
        "          title='Log Transaction Amt - Fraud',\n",
        "          color=color_pal[1],\n",
        "          xlim=(-3, 10),\n",
        "         ax= ax1)\n",
        "train.loc[train['isFraud'] == 0] \\\n",
        "    ['TransactionAmt'].apply(np.log) \\\n",
        "    .plot(kind='hist',\n",
        "          bins=100,\n",
        "          title='Log Transaction Amt - Not Fraud',\n",
        "          color=color_pal[2],\n",
        "          xlim=(-3, 10),\n",
        "         ax=ax2)\n",
        "train.loc[train['isFraud'] == 1] \\\n",
        "    ['TransactionAmt'] \\\n",
        "    .plot(kind='hist',\n",
        "          bins=100,\n",
        "          title='Transaction Amt - Fraud',\n",
        "          color=color_pal[1],\n",
        "         ax= ax3)\n",
        "train.loc[train['isFraud'] == 0] \\\n",
        "    ['TransactionAmt'] \\\n",
        "    .plot(kind='hist',\n",
        "          bins=100,\n",
        "          title='Transaction Amt - Not Fraud',\n",
        "          color=color_pal[2],\n",
        "         ax=ax4)\n",
        "plt.show()\n"
      ],
      "execution_count": 0,
      "outputs": [
        {
          "output_type": "display_data",
          "data": {
            "image/png": "[encoded data removed]",
            "text/plain": [
              "<Figure size 1080x432 with 4 Axes>"
            ]
          },
          "metadata": {
            "tags": []
          }
        }
      ]
    },
    {
      "cell_type": "code",
      "metadata": {
        "colab_type": "code",
        "id": "YMQjqVau2nZy",
        "outputId": "3f99364c-85e1-4ba4-9982-7661037fcca4",
        "colab": {
          "base_uri": "https://localhost:8080/",
          "height": 52
        }
      },
      "source": [
        "print('Mean transaction amt for fraud is {:.4f}'.format(train.loc[train['isFraud'] == 1]['TransactionAmt'].mean()))\n",
        "print('Mean transaction amt for non-fraud is {:.4f}'.format(train.loc[train['isFraud'] == 0]['TransactionAmt'].mean()))"
      ],
      "execution_count": 0,
      "outputs": [
        {
          "output_type": "stream",
          "text": [
            "Mean transaction amt for fraud is inf\n",
            "Mean transaction amt for non-fraud is nan\n"
          ],
          "name": "stdout"
        }
      ]
    },
    {
      "cell_type": "code",
      "metadata": {
        "colab_type": "code",
        "id": "owJQMhq62nZ3",
        "outputId": "9bc7f4aa-c61b-4955-d297-59efabf5a7cc",
        "colab": {
          "base_uri": "https://localhost:8080/",
          "height": 34
        }
      },
      "source": [
        "from scipy import stats\n",
        "print(stats.ttest_ind(train.loc[train['isFraud'] == 1] \\\n",
        "    ['TransactionAmt'] ,train.loc[train['isFraud'] == 0] \\\n",
        "    ['TransactionAmt'] ,equal_var=False))"
      ],
      "execution_count": 0,
      "outputs": [
        {
          "output_type": "stream",
          "text": [
            "Ttest_indResult(statistic=0.0, pvalue=1.0)\n"
          ],
          "name": "stdout"
        }
      ]
    },
    {
      "cell_type": "markdown",
      "metadata": {
        "colab_type": "text",
        "id": "iW0iJ3vE2nZ6"
      },
      "source": [
        "## ProductCD"
      ]
    },
    {
      "cell_type": "markdown",
      "metadata": {
        "colab_type": "text",
        "id": "S-aXzvUC2nZ7"
      },
      "source": [
        "Le produit pour chaque transaction."
      ]
    },
    {
      "cell_type": "code",
      "metadata": {
        "colab_type": "code",
        "id": "fdSF5jew2nZ7",
        "outputId": "ece178e0-7efe-4116-ebda-7bfa8223421f",
        "colab": {
          "base_uri": "https://localhost:8080/",
          "height": 230
        }
      },
      "source": [
        "train.groupby('ProductCD') \\\n",
        "    ['TransactionID'].count() \\\n",
        "    .sort_index() \\\n",
        "    .plot(kind='barh',\n",
        "          figsize=(15, 3),\n",
        "         title='Count of Observations by ProductCD')\n",
        "plt.show()"
      ],
      "execution_count": 0,
      "outputs": [
        {
          "output_type": "display_data",
          "data": {
            "image/png": "[encoded data removed]",
            "text/plain": [
              "<Figure size 1080x216 with 1 Axes>"
            ]
          },
          "metadata": {
            "tags": []
          }
        }
      ]
    },
    {
      "cell_type": "code",
      "metadata": {
        "colab_type": "code",
        "id": "wt_CL_5R2nZ-",
        "outputId": "889f9a65-aa96-4f3b-c270-8d5d7299c9b0",
        "colab": {
          "base_uri": "https://localhost:8080/",
          "height": 230
        }
      },
      "source": [
        "train.groupby('ProductCD')['isFraud'] \\\n",
        "    .mean() \\\n",
        "    .sort_index() \\\n",
        "    .plot(kind='barh',\n",
        "          figsize=(15, 3),\n",
        "         title='Percentage of Fraud by ProductCD')\n",
        "plt.show()"
      ],
      "execution_count": 0,
      "outputs": [
        {
          "output_type": "display_data",
          "data": {
            "image/png": "[encoded data removed]",
            "text/plain": [
              "<Figure size 1080x216 with 1 Axes>"
            ]
          },
          "metadata": {
            "tags": []
          }
        }
      ]
    },
    {
      "cell_type": "markdown",
      "metadata": {
        "colab_type": "text",
        "id": "Gjs_VOtv2naB"
      },
      "source": [
        "## card1 - card6\n",
        "\n",
        "Informations sur les cartes de paiement."
      ]
    },
    {
      "cell_type": "code",
      "metadata": {
        "colab_type": "code",
        "id": "H8BUtSC52naB",
        "outputId": "27ae207c-b92f-4e90-e3da-e334d24f7b14",
        "colab": {
          "base_uri": "https://localhost:8080/",
          "height": 195
        }
      },
      "source": [
        "card_cols = [c for c in train.columns if 'card' in c]\n",
        "train[card_cols].head()"
      ],
      "execution_count": 0,
      "outputs": [
        {
          "output_type": "execute_result",
          "data": {
            "text/html": [
              "<div>\n",
              "<style scoped>\n",
              "    .dataframe tbody tr th:only-of-type {\n",
              "        vertical-align: middle;\n",
              "    }\n",
              "\n",
              "    .dataframe tbody tr th {\n",
              "        vertical-align: top;\n",
              "    }\n",
              "\n",
              "    .dataframe thead th {\n",
              "        text-align: right;\n",
              "    }\n",
              "</style>\n",
              "<table border=\"1\" class=\"dataframe\">\n",
              "  <thead>\n",
              "    <tr style=\"text-align: right;\">\n",
              "      <th></th>\n",
              "      <th>card1</th>\n",
              "      <th>card2</th>\n",
              "      <th>card3</th>\n",
              "      <th>card4</th>\n",
              "      <th>card5</th>\n",
              "      <th>card6</th>\n",
              "    </tr>\n",
              "  </thead>\n",
              "  <tbody>\n",
              "    <tr>\n",
              "      <th>0</th>\n",
              "      <td>13926</td>\n",
              "      <td>NaN</td>\n",
              "      <td>150.0</td>\n",
              "      <td>discover</td>\n",
              "      <td>142.0</td>\n",
              "      <td>credit</td>\n",
              "    </tr>\n",
              "    <tr>\n",
              "      <th>1</th>\n",
              "      <td>2755</td>\n",
              "      <td>404.0</td>\n",
              "      <td>150.0</td>\n",
              "      <td>mastercard</td>\n",
              "      <td>102.0</td>\n",
              "      <td>credit</td>\n",
              "    </tr>\n",
              "    <tr>\n",
              "      <th>2</th>\n",
              "      <td>4663</td>\n",
              "      <td>490.0</td>\n",
              "      <td>150.0</td>\n",
              "      <td>visa</td>\n",
              "      <td>166.0</td>\n",
              "      <td>debit</td>\n",
              "    </tr>\n",
              "    <tr>\n",
              "      <th>3</th>\n",
              "      <td>18132</td>\n",
              "      <td>567.0</td>\n",
              "      <td>150.0</td>\n",
              "      <td>mastercard</td>\n",
              "      <td>117.0</td>\n",
              "      <td>debit</td>\n",
              "    </tr>\n",
              "    <tr>\n",
              "      <th>4</th>\n",
              "      <td>4497</td>\n",
              "      <td>514.0</td>\n",
              "      <td>150.0</td>\n",
              "      <td>mastercard</td>\n",
              "      <td>102.0</td>\n",
              "      <td>credit</td>\n",
              "    </tr>\n",
              "  </tbody>\n",
              "</table>\n",
              "</div>"
            ],
            "text/plain": [
              "   card1  card2  card3       card4  card5   card6\n",
              "0  13926    NaN  150.0    discover  142.0  credit\n",
              "1   2755  404.0  150.0  mastercard  102.0  credit\n",
              "2   4663  490.0  150.0        visa  166.0   debit\n",
              "3  18132  567.0  150.0  mastercard  117.0   debit\n",
              "4   4497  514.0  150.0  mastercard  102.0  credit"
            ]
          },
          "metadata": {
            "tags": []
          },
          "execution_count": 77
        }
      ]
    },
    {
      "cell_type": "code",
      "metadata": {
        "colab_type": "code",
        "id": "QjW8MHa92naE",
        "colab": {}
      },
      "source": [
        "color_idx = 0\n",
        "for c in card_cols:\n",
        "    if train[c].dtype in ['float64','int64']:\n",
        "        train[c].plot(kind='hist',\n",
        "                                      title=c,\n",
        "                                      bins=50,\n",
        "                                      figsize=(15, 2),\n",
        "                                      color=color_pal[color_idx])\n",
        "    color_idx += 1\n",
        "    plt.show()"
      ],
      "execution_count": 0,
      "outputs": []
    },
    {
      "cell_type": "code",
      "metadata": {
        "colab_type": "code",
        "id": "X1MylAiL2naI",
        "outputId": "cfd44aae-b866-4e2c-c711-f7627d4b62b2",
        "colab": {
          "base_uri": "https://localhost:8080/",
          "height": 502
        }
      },
      "source": [
        "train_fr = train.loc[train['isFraud'] == 1]\n",
        "train_nofr = train.loc[train['isFraud'] == 0]\n",
        "fig, ((ax1, ax2), (ax3, ax4)) = plt.subplots(2, 2, figsize=(15, 8))\n",
        "train_fr.groupby('card4')['card4'].count().plot(kind='barh', ax=ax1, title='Count of card4 fraud')\n",
        "train_nofr.groupby('card4')['card4'].count().plot(kind='barh', ax=ax2, title='Count of card4 non-fraud')\n",
        "train_fr.groupby('card6')['card6'].count().plot(kind='barh', ax=ax3, title='Count of card6 fraud')\n",
        "train_nofr.groupby('card6')['card6'].count().plot(kind='barh', ax=ax4, title='Count of card6 non-fraud')\n",
        "plt.show()"
      ],
      "execution_count": 0,
      "outputs": [
        {
          "output_type": "display_data",
          "data": {
            "image/png": "[encoded data removed]",
            "text/plain": [
              "<Figure size 1080x576 with 4 Axes>"
            ]
          },
          "metadata": {
            "tags": []
          }
        }
      ]
    },
    {
      "cell_type": "markdown",
      "metadata": {
        "colab_type": "text",
        "id": "maIV118r2naL"
      },
      "source": [
        "## DeviceType"
      ]
    },
    {
      "cell_type": "code",
      "metadata": {
        "colab_type": "code",
        "id": "IcyKvKKf2naM",
        "outputId": "5ac80336-2b69-4003-95ae-080c1670a445",
        "colab": {
          "base_uri": "https://localhost:8080/",
          "height": 339
        }
      },
      "source": [
        "train.groupby('DeviceType') \\\n",
        "    .mean()['isFraud'] \\\n",
        "    .sort_values() \\\n",
        "    .plot(kind='barh',\n",
        "          figsize=(15, 5),\n",
        "          title='Percentage of Fraud by Device Type')\n",
        "plt.show()"
      ],
      "execution_count": 0,
      "outputs": [
        {
          "output_type": "display_data",
          "data": {
            "image/png": "[encoded data removed]",
            "text/plain": [
              "<Figure size 1080x360 with 1 Axes>"
            ]
          },
          "metadata": {
            "tags": []
          }
        }
      ]
    },
    {
      "cell_type": "markdown",
      "metadata": {
        "colab_type": "text",
        "id": "lZTsgrge2naP"
      },
      "source": [
        "## DeviceInfo"
      ]
    },
    {
      "cell_type": "code",
      "metadata": {
        "colab_type": "code",
        "id": "IO3SruoU2naQ",
        "outputId": "c90a9728-ada6-47d4-87f7-bbaccb82d166",
        "colab": {
          "base_uri": "https://localhost:8080/",
          "height": 339
        }
      },
      "source": [
        "train.groupby('DeviceInfo') \\\n",
        "    .count()['TransactionID'] \\\n",
        "    .sort_values(ascending=False) \\\n",
        "    .head(20) \\\n",
        "    .plot(kind='barh', figsize=(15, 5), title='Top 20 Devices in Train')\n",
        "plt.show()"
      ],
      "execution_count": 0,
      "outputs": [
        {
          "output_type": "display_data",
          "data": {
            "image/png": "[encoded data removed]",
            "text/plain": [
              "<Figure size 1080x360 with 1 Axes>"
            ]
          },
          "metadata": {
            "tags": []
          }
        }
      ]
    },
    {
      "cell_type": "markdown",
      "metadata": {
        "colab_type": "text",
        "id": "_TR9ijSo2naT"
      },
      "source": [
        "## TransactionDT"
      ]
    },
    {
      "cell_type": "code",
      "metadata": {
        "colab_type": "code",
        "id": "g7zGPp3d2naU",
        "outputId": "13ee05c1-71fd-4b93-85d4-41927b8fbc58",
        "colab": {
          "base_uri": "https://localhost:8080/",
          "height": 298
        }
      },
      "source": [
        "plt.hist(train['TransactionDT'], label='train');\n",
        "plt.hist(test['TransactionDT'], label='test');\n",
        "plt.legend();\n",
        "plt.title('Transaction dates');"
      ],
      "execution_count": 0,
      "outputs": [
        {
          "output_type": "display_data",
          "data": {
            "image/png": "[encoded data removed]",
            "text/plain": [
              "<Figure size 432x288 with 1 Axes>"
            ]
          },
          "metadata": {
            "tags": []
          }
        }
      ]
    },
    {
      "cell_type": "markdown",
      "metadata": {
        "colab_type": "text",
        "id": "2Gb0j3p72naY"
      },
      "source": [
        "Ci-dessus, on voit que les dates des données Train et Test ont une intersection vide."
      ]
    },
    {
      "cell_type": "code",
      "metadata": {
        "colab_type": "code",
        "id": "r3ft7Mlt2naY",
        "outputId": "ad83b9fc-b35b-41f7-efac-8ccfe48e63a9",
        "colab": {
          "base_uri": "https://localhost:8080/",
          "height": 34
        }
      },
      "source": [
        "y_train = train.isFraud\n",
        "train = train.drop(['isFraud', 'TransactionID'],axis= 1)\n",
        "transactionIDTest = test['TransactionID']\n",
        "test = test.drop('TransactionID', axis= 1)\n",
        "train.shape, test.shape"
      ],
      "execution_count": 14,
      "outputs": [
        {
          "output_type": "execute_result",
          "data": {
            "text/plain": [
              "((590540, 432), (506691, 432))"
            ]
          },
          "metadata": {
            "tags": []
          },
          "execution_count": 14
        }
      ]
    },
    {
      "cell_type": "markdown",
      "metadata": {
        "colab_type": "text",
        "id": "_J4akzkh2nac"
      },
      "source": [
        "# Valeurs manquantes"
      ]
    },
    {
      "cell_type": "markdown",
      "metadata": {
        "colab_type": "text",
        "id": "5Mx30q0a2nac"
      },
      "source": [
        "**Nettoyage des NaN**"
      ]
    },
    {
      "cell_type": "markdown",
      "metadata": {
        "colab_type": "text",
        "id": "nRNBFUv02nad"
      },
      "source": [
        "**Train**"
      ]
    },
    {
      "cell_type": "code",
      "metadata": {
        "colab_type": "code",
        "id": "Mepe4mBx2nae",
        "outputId": "8573065c-1d4b-4df3-8409-73580f6e2049",
        "colab": {
          "base_uri": "https://localhost:8080/",
          "height": 228
        }
      },
      "source": [
        "missing_values_count = train.isnull().sum()\n",
        "print (missing_values_count[0:10])\n",
        "total_cells = np.product(train.shape)\n",
        "total_missing = missing_values_count.sum()\n",
        "print (\"% of missing data = \",(total_missing/total_cells) * 100)"
      ],
      "execution_count": 15,
      "outputs": [
        {
          "output_type": "stream",
          "text": [
            "TransactionDT         0\n",
            "TransactionAmt        0\n",
            "ProductCD             0\n",
            "card1                 0\n",
            "card2              8933\n",
            "card3              1565\n",
            "card4              1577\n",
            "card5              4259\n",
            "card6              1571\n",
            "addr1             65706\n",
            "dtype: int64\n",
            "% of missing data =  45.283049553515994\n"
          ],
          "name": "stdout"
        }
      ]
    },
    {
      "cell_type": "markdown",
      "metadata": {
        "colab_type": "text",
        "id": "MP4ib2Y02nah"
      },
      "source": [
        "On peut voir que 45% des données du train sont des valeurs manquantes, nettoyons tout ça !"
      ]
    },
    {
      "cell_type": "code",
      "metadata": {
        "colab_type": "code",
        "id": "6kCRhAsG2nai",
        "outputId": "88ce00f4-cb94-487a-b008-c686a32091b6",
        "colab": {
          "base_uri": "https://localhost:8080/",
          "height": 122
        }
      },
      "source": [
        "train['id_03'].value_counts(dropna=False, normalize=True).head()"
      ],
      "execution_count": 16,
      "outputs": [
        {
          "output_type": "execute_result",
          "data": {
            "text/plain": [
              "NaN    0.887689\n",
              "0.0    0.108211\n",
              "1.0    0.001461\n",
              "3.0    0.001131\n",
              "2.0    0.000713\n",
              "Name: id_03, dtype: float64"
            ]
          },
          "metadata": {
            "tags": []
          },
          "execution_count": 16
        }
      ]
    },
    {
      "cell_type": "markdown",
      "metadata": {
        "colab_type": "text",
        "id": "1gAvUvj62nal"
      },
      "source": [
        " - On supprime les variables qui ont plus de 80% de NA"
      ]
    },
    {
      "cell_type": "code",
      "metadata": {
        "colab_type": "code",
        "id": "Fpse4BrW2nal",
        "colab": {}
      },
      "source": [
        "def get_too_many_null_attr(data):\n",
        "    many_null_cols = [col for col in data.columns if data[col].isnull().sum() / data.shape[0] > 0.8]\n",
        "    return many_null_cols"
      ],
      "execution_count": 0,
      "outputs": []
    },
    {
      "cell_type": "code",
      "metadata": {
        "colab_type": "code",
        "id": "VPuqOEzX2nao",
        "colab": {}
      },
      "source": [
        "null_cols = get_too_many_null_attr(train)\n",
        "train.drop(null_cols,1,inplace=True)"
      ],
      "execution_count": 0,
      "outputs": []
    },
    {
      "cell_type": "code",
      "metadata": {
        "colab_type": "code",
        "id": "XqfJdW4V2naq",
        "colab": {}
      },
      "source": [
        "def get_too_many_repeated_val(data):\n",
        "    big_top_value_cols = [col for col in train.columns if train[col].value_counts(dropna=False, normalize=True).values[0] > 0.9]\n",
        "    return big_top_value_cols"
      ],
      "execution_count": 0,
      "outputs": []
    },
    {
      "cell_type": "markdown",
      "metadata": {
        "colab_type": "text",
        "id": "rLh8u12y2nau"
      },
      "source": [
        "On peut voir que 88% des données sont des NaN, et 10% sont des valeurs nulles. Soit 98% des données sont des valeurs manquantes, donc inutiles !"
      ]
    },
    {
      "cell_type": "markdown",
      "metadata": {
        "colab_type": "text",
        "id": "kX8VoxMh2nav"
      },
      "source": [
        "On sépare les variables qualitatives et quantitatives : "
      ]
    },
    {
      "cell_type": "code",
      "metadata": {
        "colab_type": "code",
        "id": "TYfcvPES2nav",
        "outputId": "6ee05130-4d96-4d6b-9b18-95f534acf608",
        "colab": {
          "base_uri": "https://localhost:8080/",
          "height": 249
        }
      },
      "source": [
        "mask1 = train.dtypes==object\n",
        "categoricalColumns = train.columns[mask1]\n",
        "categoricalFeatures = train[categoricalColumns]\n",
        "categoricalFeatures.head()"
      ],
      "execution_count": 21,
      "outputs": [
        {
          "output_type": "execute_result",
          "data": {
            "text/html": [
              "<div>\n",
              "<style scoped>\n",
              "    .dataframe tbody tr th:only-of-type {\n",
              "        vertical-align: middle;\n",
              "    }\n",
              "\n",
              "    .dataframe tbody tr th {\n",
              "        vertical-align: top;\n",
              "    }\n",
              "\n",
              "    .dataframe thead th {\n",
              "        text-align: right;\n",
              "    }\n",
              "</style>\n",
              "<table border=\"1\" class=\"dataframe\">\n",
              "  <thead>\n",
              "    <tr style=\"text-align: right;\">\n",
              "      <th></th>\n",
              "      <th>ProductCD</th>\n",
              "      <th>card4</th>\n",
              "      <th>card6</th>\n",
              "      <th>P_emaildomain</th>\n",
              "      <th>R_emaildomain</th>\n",
              "      <th>M1</th>\n",
              "      <th>M2</th>\n",
              "      <th>M3</th>\n",
              "      <th>M4</th>\n",
              "      <th>M5</th>\n",
              "      <th>M6</th>\n",
              "      <th>M7</th>\n",
              "      <th>M8</th>\n",
              "      <th>M9</th>\n",
              "      <th>id_12</th>\n",
              "      <th>id_15</th>\n",
              "      <th>id_16</th>\n",
              "      <th>id_28</th>\n",
              "      <th>id_29</th>\n",
              "      <th>id_31</th>\n",
              "      <th>id_35</th>\n",
              "      <th>id_36</th>\n",
              "      <th>id_37</th>\n",
              "      <th>id_38</th>\n",
              "      <th>DeviceType</th>\n",
              "      <th>DeviceInfo</th>\n",
              "    </tr>\n",
              "  </thead>\n",
              "  <tbody>\n",
              "    <tr>\n",
              "      <th>0</th>\n",
              "      <td>W</td>\n",
              "      <td>discover</td>\n",
              "      <td>credit</td>\n",
              "      <td>NaN</td>\n",
              "      <td>NaN</td>\n",
              "      <td>T</td>\n",
              "      <td>T</td>\n",
              "      <td>T</td>\n",
              "      <td>M2</td>\n",
              "      <td>F</td>\n",
              "      <td>T</td>\n",
              "      <td>NaN</td>\n",
              "      <td>NaN</td>\n",
              "      <td>NaN</td>\n",
              "      <td>NaN</td>\n",
              "      <td>NaN</td>\n",
              "      <td>NaN</td>\n",
              "      <td>NaN</td>\n",
              "      <td>NaN</td>\n",
              "      <td>NaN</td>\n",
              "      <td>NaN</td>\n",
              "      <td>NaN</td>\n",
              "      <td>NaN</td>\n",
              "      <td>NaN</td>\n",
              "      <td>NaN</td>\n",
              "      <td>NaN</td>\n",
              "    </tr>\n",
              "    <tr>\n",
              "      <th>1</th>\n",
              "      <td>W</td>\n",
              "      <td>mastercard</td>\n",
              "      <td>credit</td>\n",
              "      <td>gmail.com</td>\n",
              "      <td>NaN</td>\n",
              "      <td>NaN</td>\n",
              "      <td>NaN</td>\n",
              "      <td>NaN</td>\n",
              "      <td>M0</td>\n",
              "      <td>T</td>\n",
              "      <td>T</td>\n",
              "      <td>NaN</td>\n",
              "      <td>NaN</td>\n",
              "      <td>NaN</td>\n",
              "      <td>NaN</td>\n",
              "      <td>NaN</td>\n",
              "      <td>NaN</td>\n",
              "      <td>NaN</td>\n",
              "      <td>NaN</td>\n",
              "      <td>NaN</td>\n",
              "      <td>NaN</td>\n",
              "      <td>NaN</td>\n",
              "      <td>NaN</td>\n",
              "      <td>NaN</td>\n",
              "      <td>NaN</td>\n",
              "      <td>NaN</td>\n",
              "    </tr>\n",
              "    <tr>\n",
              "      <th>2</th>\n",
              "      <td>W</td>\n",
              "      <td>visa</td>\n",
              "      <td>debit</td>\n",
              "      <td>outlook.com</td>\n",
              "      <td>NaN</td>\n",
              "      <td>T</td>\n",
              "      <td>T</td>\n",
              "      <td>T</td>\n",
              "      <td>M0</td>\n",
              "      <td>F</td>\n",
              "      <td>F</td>\n",
              "      <td>F</td>\n",
              "      <td>F</td>\n",
              "      <td>F</td>\n",
              "      <td>NaN</td>\n",
              "      <td>NaN</td>\n",
              "      <td>NaN</td>\n",
              "      <td>NaN</td>\n",
              "      <td>NaN</td>\n",
              "      <td>NaN</td>\n",
              "      <td>NaN</td>\n",
              "      <td>NaN</td>\n",
              "      <td>NaN</td>\n",
              "      <td>NaN</td>\n",
              "      <td>NaN</td>\n",
              "      <td>NaN</td>\n",
              "    </tr>\n",
              "    <tr>\n",
              "      <th>3</th>\n",
              "      <td>W</td>\n",
              "      <td>mastercard</td>\n",
              "      <td>debit</td>\n",
              "      <td>yahoo.com</td>\n",
              "      <td>NaN</td>\n",
              "      <td>NaN</td>\n",
              "      <td>NaN</td>\n",
              "      <td>NaN</td>\n",
              "      <td>M0</td>\n",
              "      <td>T</td>\n",
              "      <td>F</td>\n",
              "      <td>NaN</td>\n",
              "      <td>NaN</td>\n",
              "      <td>NaN</td>\n",
              "      <td>NaN</td>\n",
              "      <td>NaN</td>\n",
              "      <td>NaN</td>\n",
              "      <td>NaN</td>\n",
              "      <td>NaN</td>\n",
              "      <td>NaN</td>\n",
              "      <td>NaN</td>\n",
              "      <td>NaN</td>\n",
              "      <td>NaN</td>\n",
              "      <td>NaN</td>\n",
              "      <td>NaN</td>\n",
              "      <td>NaN</td>\n",
              "    </tr>\n",
              "    <tr>\n",
              "      <th>4</th>\n",
              "      <td>H</td>\n",
              "      <td>mastercard</td>\n",
              "      <td>credit</td>\n",
              "      <td>gmail.com</td>\n",
              "      <td>NaN</td>\n",
              "      <td>NaN</td>\n",
              "      <td>NaN</td>\n",
              "      <td>NaN</td>\n",
              "      <td>NaN</td>\n",
              "      <td>NaN</td>\n",
              "      <td>NaN</td>\n",
              "      <td>NaN</td>\n",
              "      <td>NaN</td>\n",
              "      <td>NaN</td>\n",
              "      <td>NotFound</td>\n",
              "      <td>New</td>\n",
              "      <td>NotFound</td>\n",
              "      <td>New</td>\n",
              "      <td>NotFound</td>\n",
              "      <td>samsung browser 6.2</td>\n",
              "      <td>T</td>\n",
              "      <td>F</td>\n",
              "      <td>T</td>\n",
              "      <td>T</td>\n",
              "      <td>mobile</td>\n",
              "      <td>SAMSUNG SM-G892A Build/NRD90M</td>\n",
              "    </tr>\n",
              "  </tbody>\n",
              "</table>\n",
              "</div>"
            ],
            "text/plain": [
              "  ProductCD       card4   card6  ... id_38 DeviceType                     DeviceInfo\n",
              "0         W    discover  credit  ...   NaN        NaN                            NaN\n",
              "1         W  mastercard  credit  ...   NaN        NaN                            NaN\n",
              "2         W        visa   debit  ...   NaN        NaN                            NaN\n",
              "3         W  mastercard   debit  ...   NaN        NaN                            NaN\n",
              "4         H  mastercard  credit  ...     T     mobile  SAMSUNG SM-G892A Build/NRD90M\n",
              "\n",
              "[5 rows x 26 columns]"
            ]
          },
          "metadata": {
            "tags": []
          },
          "execution_count": 21
        }
      ]
    },
    {
      "cell_type": "code",
      "metadata": {
        "colab_type": "code",
        "id": "0c-hO4QR2naz",
        "outputId": "c7d6ee4d-b5ad-4e3b-f0e9-4a5e1177e0c9",
        "colab": {
          "base_uri": "https://localhost:8080/",
          "height": 244
        }
      },
      "source": [
        "mask2 = train.dtypes!=object\n",
        "numericalColumns = train.columns[mask2]\n",
        "numericalFeatures = train[numericalColumns]\n",
        "numericalFeatures.head()"
      ],
      "execution_count": 22,
      "outputs": [
        {
          "output_type": "execute_result",
          "data": {
            "text/html": [
              "<div>\n",
              "<style scoped>\n",
              "    .dataframe tbody tr th:only-of-type {\n",
              "        vertical-align: middle;\n",
              "    }\n",
              "\n",
              "    .dataframe tbody tr th {\n",
              "        vertical-align: top;\n",
              "    }\n",
              "\n",
              "    .dataframe thead th {\n",
              "        text-align: right;\n",
              "    }\n",
              "</style>\n",
              "<table border=\"1\" class=\"dataframe\">\n",
              "  <thead>\n",
              "    <tr style=\"text-align: right;\">\n",
              "      <th></th>\n",
              "      <th>TransactionDT</th>\n",
              "      <th>TransactionAmt</th>\n",
              "      <th>card1</th>\n",
              "      <th>card2</th>\n",
              "      <th>card3</th>\n",
              "      <th>card5</th>\n",
              "      <th>addr1</th>\n",
              "      <th>addr2</th>\n",
              "      <th>dist1</th>\n",
              "      <th>C1</th>\n",
              "      <th>C2</th>\n",
              "      <th>C3</th>\n",
              "      <th>C4</th>\n",
              "      <th>C5</th>\n",
              "      <th>C6</th>\n",
              "      <th>C7</th>\n",
              "      <th>C8</th>\n",
              "      <th>C9</th>\n",
              "      <th>C10</th>\n",
              "      <th>C11</th>\n",
              "      <th>C12</th>\n",
              "      <th>C13</th>\n",
              "      <th>C14</th>\n",
              "      <th>D1</th>\n",
              "      <th>D2</th>\n",
              "      <th>D3</th>\n",
              "      <th>D4</th>\n",
              "      <th>D5</th>\n",
              "      <th>D10</th>\n",
              "      <th>D11</th>\n",
              "      <th>D15</th>\n",
              "      <th>V1</th>\n",
              "      <th>V2</th>\n",
              "      <th>V3</th>\n",
              "      <th>V4</th>\n",
              "      <th>V5</th>\n",
              "      <th>V6</th>\n",
              "      <th>V7</th>\n",
              "      <th>V8</th>\n",
              "      <th>V9</th>\n",
              "      <th>...</th>\n",
              "      <th>V291</th>\n",
              "      <th>V292</th>\n",
              "      <th>V293</th>\n",
              "      <th>V294</th>\n",
              "      <th>V295</th>\n",
              "      <th>V296</th>\n",
              "      <th>V297</th>\n",
              "      <th>V298</th>\n",
              "      <th>V299</th>\n",
              "      <th>V300</th>\n",
              "      <th>V301</th>\n",
              "      <th>V302</th>\n",
              "      <th>V303</th>\n",
              "      <th>V304</th>\n",
              "      <th>V305</th>\n",
              "      <th>V306</th>\n",
              "      <th>V307</th>\n",
              "      <th>V308</th>\n",
              "      <th>V309</th>\n",
              "      <th>V310</th>\n",
              "      <th>V311</th>\n",
              "      <th>V312</th>\n",
              "      <th>V313</th>\n",
              "      <th>V314</th>\n",
              "      <th>V315</th>\n",
              "      <th>V316</th>\n",
              "      <th>V317</th>\n",
              "      <th>V318</th>\n",
              "      <th>V319</th>\n",
              "      <th>V320</th>\n",
              "      <th>V321</th>\n",
              "      <th>id_01</th>\n",
              "      <th>id_02</th>\n",
              "      <th>id_05</th>\n",
              "      <th>id_06</th>\n",
              "      <th>id_11</th>\n",
              "      <th>id_13</th>\n",
              "      <th>id_17</th>\n",
              "      <th>id_19</th>\n",
              "      <th>id_20</th>\n",
              "    </tr>\n",
              "  </thead>\n",
              "  <tbody>\n",
              "    <tr>\n",
              "      <th>0</th>\n",
              "      <td>86400</td>\n",
              "      <td>68.5</td>\n",
              "      <td>13926</td>\n",
              "      <td>NaN</td>\n",
              "      <td>150.0</td>\n",
              "      <td>142.0</td>\n",
              "      <td>315.0</td>\n",
              "      <td>87.0</td>\n",
              "      <td>19.0</td>\n",
              "      <td>1.0</td>\n",
              "      <td>1.0</td>\n",
              "      <td>0.0</td>\n",
              "      <td>0.0</td>\n",
              "      <td>0.0</td>\n",
              "      <td>1.0</td>\n",
              "      <td>0.0</td>\n",
              "      <td>0.0</td>\n",
              "      <td>1.0</td>\n",
              "      <td>0.0</td>\n",
              "      <td>2.0</td>\n",
              "      <td>0.0</td>\n",
              "      <td>1.0</td>\n",
              "      <td>1.0</td>\n",
              "      <td>14.0</td>\n",
              "      <td>NaN</td>\n",
              "      <td>13.0</td>\n",
              "      <td>NaN</td>\n",
              "      <td>NaN</td>\n",
              "      <td>13.0</td>\n",
              "      <td>13.0</td>\n",
              "      <td>0.0</td>\n",
              "      <td>1.0</td>\n",
              "      <td>1.0</td>\n",
              "      <td>1.0</td>\n",
              "      <td>1.0</td>\n",
              "      <td>1.0</td>\n",
              "      <td>1.0</td>\n",
              "      <td>1.0</td>\n",
              "      <td>1.0</td>\n",
              "      <td>1.0</td>\n",
              "      <td>...</td>\n",
              "      <td>1.0</td>\n",
              "      <td>1.0</td>\n",
              "      <td>0.0</td>\n",
              "      <td>1.0</td>\n",
              "      <td>0.0</td>\n",
              "      <td>0.0</td>\n",
              "      <td>0.0</td>\n",
              "      <td>0.0</td>\n",
              "      <td>0.0</td>\n",
              "      <td>0.0</td>\n",
              "      <td>0.0</td>\n",
              "      <td>0.0</td>\n",
              "      <td>0.0</td>\n",
              "      <td>0.0</td>\n",
              "      <td>1.0</td>\n",
              "      <td>0.0</td>\n",
              "      <td>117.0</td>\n",
              "      <td>0.0</td>\n",
              "      <td>0.0</td>\n",
              "      <td>0.0</td>\n",
              "      <td>0.0</td>\n",
              "      <td>0.0</td>\n",
              "      <td>0.0</td>\n",
              "      <td>0.0</td>\n",
              "      <td>0.0</td>\n",
              "      <td>0.0</td>\n",
              "      <td>117.0</td>\n",
              "      <td>0.0</td>\n",
              "      <td>0.0</td>\n",
              "      <td>0.0</td>\n",
              "      <td>0.0</td>\n",
              "      <td>NaN</td>\n",
              "      <td>NaN</td>\n",
              "      <td>NaN</td>\n",
              "      <td>NaN</td>\n",
              "      <td>NaN</td>\n",
              "      <td>NaN</td>\n",
              "      <td>NaN</td>\n",
              "      <td>NaN</td>\n",
              "      <td>NaN</td>\n",
              "    </tr>\n",
              "    <tr>\n",
              "      <th>1</th>\n",
              "      <td>86401</td>\n",
              "      <td>29.0</td>\n",
              "      <td>2755</td>\n",
              "      <td>404.0</td>\n",
              "      <td>150.0</td>\n",
              "      <td>102.0</td>\n",
              "      <td>325.0</td>\n",
              "      <td>87.0</td>\n",
              "      <td>NaN</td>\n",
              "      <td>1.0</td>\n",
              "      <td>1.0</td>\n",
              "      <td>0.0</td>\n",
              "      <td>0.0</td>\n",
              "      <td>0.0</td>\n",
              "      <td>1.0</td>\n",
              "      <td>0.0</td>\n",
              "      <td>0.0</td>\n",
              "      <td>0.0</td>\n",
              "      <td>0.0</td>\n",
              "      <td>1.0</td>\n",
              "      <td>0.0</td>\n",
              "      <td>1.0</td>\n",
              "      <td>1.0</td>\n",
              "      <td>0.0</td>\n",
              "      <td>NaN</td>\n",
              "      <td>NaN</td>\n",
              "      <td>0.0</td>\n",
              "      <td>NaN</td>\n",
              "      <td>0.0</td>\n",
              "      <td>NaN</td>\n",
              "      <td>0.0</td>\n",
              "      <td>NaN</td>\n",
              "      <td>NaN</td>\n",
              "      <td>NaN</td>\n",
              "      <td>NaN</td>\n",
              "      <td>NaN</td>\n",
              "      <td>NaN</td>\n",
              "      <td>NaN</td>\n",
              "      <td>NaN</td>\n",
              "      <td>NaN</td>\n",
              "      <td>...</td>\n",
              "      <td>1.0</td>\n",
              "      <td>1.0</td>\n",
              "      <td>0.0</td>\n",
              "      <td>0.0</td>\n",
              "      <td>0.0</td>\n",
              "      <td>0.0</td>\n",
              "      <td>0.0</td>\n",
              "      <td>0.0</td>\n",
              "      <td>0.0</td>\n",
              "      <td>0.0</td>\n",
              "      <td>0.0</td>\n",
              "      <td>0.0</td>\n",
              "      <td>0.0</td>\n",
              "      <td>0.0</td>\n",
              "      <td>1.0</td>\n",
              "      <td>0.0</td>\n",
              "      <td>0.0</td>\n",
              "      <td>0.0</td>\n",
              "      <td>0.0</td>\n",
              "      <td>0.0</td>\n",
              "      <td>0.0</td>\n",
              "      <td>0.0</td>\n",
              "      <td>0.0</td>\n",
              "      <td>0.0</td>\n",
              "      <td>0.0</td>\n",
              "      <td>0.0</td>\n",
              "      <td>0.0</td>\n",
              "      <td>0.0</td>\n",
              "      <td>0.0</td>\n",
              "      <td>0.0</td>\n",
              "      <td>0.0</td>\n",
              "      <td>NaN</td>\n",
              "      <td>NaN</td>\n",
              "      <td>NaN</td>\n",
              "      <td>NaN</td>\n",
              "      <td>NaN</td>\n",
              "      <td>NaN</td>\n",
              "      <td>NaN</td>\n",
              "      <td>NaN</td>\n",
              "      <td>NaN</td>\n",
              "    </tr>\n",
              "    <tr>\n",
              "      <th>2</th>\n",
              "      <td>86469</td>\n",
              "      <td>59.0</td>\n",
              "      <td>4663</td>\n",
              "      <td>490.0</td>\n",
              "      <td>150.0</td>\n",
              "      <td>166.0</td>\n",
              "      <td>330.0</td>\n",
              "      <td>87.0</td>\n",
              "      <td>287.0</td>\n",
              "      <td>1.0</td>\n",
              "      <td>1.0</td>\n",
              "      <td>0.0</td>\n",
              "      <td>0.0</td>\n",
              "      <td>0.0</td>\n",
              "      <td>1.0</td>\n",
              "      <td>0.0</td>\n",
              "      <td>0.0</td>\n",
              "      <td>1.0</td>\n",
              "      <td>0.0</td>\n",
              "      <td>1.0</td>\n",
              "      <td>0.0</td>\n",
              "      <td>1.0</td>\n",
              "      <td>1.0</td>\n",
              "      <td>0.0</td>\n",
              "      <td>NaN</td>\n",
              "      <td>NaN</td>\n",
              "      <td>0.0</td>\n",
              "      <td>NaN</td>\n",
              "      <td>0.0</td>\n",
              "      <td>315.0</td>\n",
              "      <td>315.0</td>\n",
              "      <td>1.0</td>\n",
              "      <td>1.0</td>\n",
              "      <td>1.0</td>\n",
              "      <td>1.0</td>\n",
              "      <td>1.0</td>\n",
              "      <td>1.0</td>\n",
              "      <td>1.0</td>\n",
              "      <td>1.0</td>\n",
              "      <td>1.0</td>\n",
              "      <td>...</td>\n",
              "      <td>1.0</td>\n",
              "      <td>1.0</td>\n",
              "      <td>0.0</td>\n",
              "      <td>0.0</td>\n",
              "      <td>0.0</td>\n",
              "      <td>0.0</td>\n",
              "      <td>0.0</td>\n",
              "      <td>0.0</td>\n",
              "      <td>0.0</td>\n",
              "      <td>0.0</td>\n",
              "      <td>0.0</td>\n",
              "      <td>0.0</td>\n",
              "      <td>0.0</td>\n",
              "      <td>0.0</td>\n",
              "      <td>1.0</td>\n",
              "      <td>0.0</td>\n",
              "      <td>0.0</td>\n",
              "      <td>0.0</td>\n",
              "      <td>0.0</td>\n",
              "      <td>0.0</td>\n",
              "      <td>0.0</td>\n",
              "      <td>0.0</td>\n",
              "      <td>0.0</td>\n",
              "      <td>0.0</td>\n",
              "      <td>0.0</td>\n",
              "      <td>0.0</td>\n",
              "      <td>0.0</td>\n",
              "      <td>0.0</td>\n",
              "      <td>0.0</td>\n",
              "      <td>0.0</td>\n",
              "      <td>0.0</td>\n",
              "      <td>NaN</td>\n",
              "      <td>NaN</td>\n",
              "      <td>NaN</td>\n",
              "      <td>NaN</td>\n",
              "      <td>NaN</td>\n",
              "      <td>NaN</td>\n",
              "      <td>NaN</td>\n",
              "      <td>NaN</td>\n",
              "      <td>NaN</td>\n",
              "    </tr>\n",
              "    <tr>\n",
              "      <th>3</th>\n",
              "      <td>86499</td>\n",
              "      <td>50.0</td>\n",
              "      <td>18132</td>\n",
              "      <td>567.0</td>\n",
              "      <td>150.0</td>\n",
              "      <td>117.0</td>\n",
              "      <td>476.0</td>\n",
              "      <td>87.0</td>\n",
              "      <td>NaN</td>\n",
              "      <td>2.0</td>\n",
              "      <td>5.0</td>\n",
              "      <td>0.0</td>\n",
              "      <td>0.0</td>\n",
              "      <td>0.0</td>\n",
              "      <td>4.0</td>\n",
              "      <td>0.0</td>\n",
              "      <td>0.0</td>\n",
              "      <td>1.0</td>\n",
              "      <td>0.0</td>\n",
              "      <td>1.0</td>\n",
              "      <td>0.0</td>\n",
              "      <td>25.0</td>\n",
              "      <td>1.0</td>\n",
              "      <td>112.0</td>\n",
              "      <td>112.0</td>\n",
              "      <td>0.0</td>\n",
              "      <td>94.0</td>\n",
              "      <td>0.0</td>\n",
              "      <td>84.0</td>\n",
              "      <td>NaN</td>\n",
              "      <td>111.0</td>\n",
              "      <td>NaN</td>\n",
              "      <td>NaN</td>\n",
              "      <td>NaN</td>\n",
              "      <td>NaN</td>\n",
              "      <td>NaN</td>\n",
              "      <td>NaN</td>\n",
              "      <td>NaN</td>\n",
              "      <td>NaN</td>\n",
              "      <td>NaN</td>\n",
              "      <td>...</td>\n",
              "      <td>1.0</td>\n",
              "      <td>1.0</td>\n",
              "      <td>1.0</td>\n",
              "      <td>38.0</td>\n",
              "      <td>24.0</td>\n",
              "      <td>0.0</td>\n",
              "      <td>0.0</td>\n",
              "      <td>0.0</td>\n",
              "      <td>0.0</td>\n",
              "      <td>0.0</td>\n",
              "      <td>0.0</td>\n",
              "      <td>0.0</td>\n",
              "      <td>0.0</td>\n",
              "      <td>0.0</td>\n",
              "      <td>1.0</td>\n",
              "      <td>50.0</td>\n",
              "      <td>1758.0</td>\n",
              "      <td>925.0</td>\n",
              "      <td>0.0</td>\n",
              "      <td>354.0</td>\n",
              "      <td>0.0</td>\n",
              "      <td>135.0</td>\n",
              "      <td>0.0</td>\n",
              "      <td>0.0</td>\n",
              "      <td>0.0</td>\n",
              "      <td>50.0</td>\n",
              "      <td>1404.0</td>\n",
              "      <td>790.0</td>\n",
              "      <td>0.0</td>\n",
              "      <td>0.0</td>\n",
              "      <td>0.0</td>\n",
              "      <td>NaN</td>\n",
              "      <td>NaN</td>\n",
              "      <td>NaN</td>\n",
              "      <td>NaN</td>\n",
              "      <td>NaN</td>\n",
              "      <td>NaN</td>\n",
              "      <td>NaN</td>\n",
              "      <td>NaN</td>\n",
              "      <td>NaN</td>\n",
              "    </tr>\n",
              "    <tr>\n",
              "      <th>4</th>\n",
              "      <td>86506</td>\n",
              "      <td>50.0</td>\n",
              "      <td>4497</td>\n",
              "      <td>514.0</td>\n",
              "      <td>150.0</td>\n",
              "      <td>102.0</td>\n",
              "      <td>420.0</td>\n",
              "      <td>87.0</td>\n",
              "      <td>NaN</td>\n",
              "      <td>1.0</td>\n",
              "      <td>1.0</td>\n",
              "      <td>0.0</td>\n",
              "      <td>0.0</td>\n",
              "      <td>0.0</td>\n",
              "      <td>1.0</td>\n",
              "      <td>0.0</td>\n",
              "      <td>1.0</td>\n",
              "      <td>0.0</td>\n",
              "      <td>1.0</td>\n",
              "      <td>1.0</td>\n",
              "      <td>0.0</td>\n",
              "      <td>1.0</td>\n",
              "      <td>1.0</td>\n",
              "      <td>0.0</td>\n",
              "      <td>NaN</td>\n",
              "      <td>NaN</td>\n",
              "      <td>NaN</td>\n",
              "      <td>NaN</td>\n",
              "      <td>NaN</td>\n",
              "      <td>NaN</td>\n",
              "      <td>NaN</td>\n",
              "      <td>NaN</td>\n",
              "      <td>NaN</td>\n",
              "      <td>NaN</td>\n",
              "      <td>NaN</td>\n",
              "      <td>NaN</td>\n",
              "      <td>NaN</td>\n",
              "      <td>NaN</td>\n",
              "      <td>NaN</td>\n",
              "      <td>NaN</td>\n",
              "      <td>...</td>\n",
              "      <td>1.0</td>\n",
              "      <td>1.0</td>\n",
              "      <td>0.0</td>\n",
              "      <td>0.0</td>\n",
              "      <td>0.0</td>\n",
              "      <td>0.0</td>\n",
              "      <td>0.0</td>\n",
              "      <td>0.0</td>\n",
              "      <td>0.0</td>\n",
              "      <td>0.0</td>\n",
              "      <td>0.0</td>\n",
              "      <td>1.0</td>\n",
              "      <td>1.0</td>\n",
              "      <td>1.0</td>\n",
              "      <td>1.0</td>\n",
              "      <td>0.0</td>\n",
              "      <td>0.0</td>\n",
              "      <td>0.0</td>\n",
              "      <td>0.0</td>\n",
              "      <td>0.0</td>\n",
              "      <td>0.0</td>\n",
              "      <td>0.0</td>\n",
              "      <td>0.0</td>\n",
              "      <td>0.0</td>\n",
              "      <td>0.0</td>\n",
              "      <td>0.0</td>\n",
              "      <td>0.0</td>\n",
              "      <td>0.0</td>\n",
              "      <td>0.0</td>\n",
              "      <td>0.0</td>\n",
              "      <td>0.0</td>\n",
              "      <td>0.0</td>\n",
              "      <td>70787.0</td>\n",
              "      <td>NaN</td>\n",
              "      <td>NaN</td>\n",
              "      <td>100.0</td>\n",
              "      <td>NaN</td>\n",
              "      <td>166.0</td>\n",
              "      <td>542.0</td>\n",
              "      <td>144.0</td>\n",
              "    </tr>\n",
              "  </tbody>\n",
              "</table>\n",
              "<p>5 rows × 332 columns</p>\n",
              "</div>"
            ],
            "text/plain": [
              "   TransactionDT  TransactionAmt  card1  card2  ...  id_13  id_17  id_19  id_20\n",
              "0          86400            68.5  13926    NaN  ...    NaN    NaN    NaN    NaN\n",
              "1          86401            29.0   2755  404.0  ...    NaN    NaN    NaN    NaN\n",
              "2          86469            59.0   4663  490.0  ...    NaN    NaN    NaN    NaN\n",
              "3          86499            50.0  18132  567.0  ...    NaN    NaN    NaN    NaN\n",
              "4          86506            50.0   4497  514.0  ...    NaN  166.0  542.0  144.0\n",
              "\n",
              "[5 rows x 332 columns]"
            ]
          },
          "metadata": {
            "tags": []
          },
          "execution_count": 22
        }
      ]
    },
    {
      "cell_type": "markdown",
      "metadata": {
        "colab_type": "text",
        "id": "Xt0Wzz_l2na1"
      },
      "source": [
        "## Corrélations entre les variables numériques"
      ]
    },
    {
      "cell_type": "markdown",
      "metadata": {
        "colab_type": "text",
        "id": "MAvJz64o2na2"
      },
      "source": [
        "On cherche à observer visuellement s'il existe des corrélations entre certaines variables."
      ]
    },
    {
      "cell_type": "code",
      "metadata": {
        "colab_type": "code",
        "id": "rvTUgytc2na5",
        "outputId": "5b243e24-aac5-4c39-ea76-ce3116fb1dbe",
        "colab": {
          "base_uri": "https://localhost:8080/",
          "height": 572
        }
      },
      "source": [
        "correlations = numericalFeatures[['id_01','id_02', 'id_05', 'id_06', 'id_11', 'id_13', 'id_17', 'id_19', 'id_20']].corr()\n",
        "fig = plt.figure()\n",
        "ax = fig.add_subplot(111)\n",
        "cax = ax.matshow(correlations, vmin=-1, vmax=1)\n",
        "fig.colorbar(cax)\n",
        "names = ['id_01','id_02', 'id_05', 'id_06', 'id_11', 'id_13', 'id_17', 'id_19', 'id_20']\n",
        "ax.set_xticklabels(names)\n",
        "ax.set_yticklabels(names)\n",
        "plt.show()\n",
        "correlations\n"
      ],
      "execution_count": 23,
      "outputs": [
        {
          "output_type": "display_data",
          "data": {
            "image/png": "[encoded data removed]",
            "text/plain": [
              "<Figure size 432x288 with 2 Axes>"
            ]
          },
          "metadata": {
            "tags": []
          }
        },
        {
          "output_type": "execute_result",
          "data": {
            "text/html": [
              "<div>\n",
              "<style scoped>\n",
              "    .dataframe tbody tr th:only-of-type {\n",
              "        vertical-align: middle;\n",
              "    }\n",
              "\n",
              "    .dataframe tbody tr th {\n",
              "        vertical-align: top;\n",
              "    }\n",
              "\n",
              "    .dataframe thead th {\n",
              "        text-align: right;\n",
              "    }\n",
              "</style>\n",
              "<table border=\"1\" class=\"dataframe\">\n",
              "  <thead>\n",
              "    <tr style=\"text-align: right;\">\n",
              "      <th></th>\n",
              "      <th>id_01</th>\n",
              "      <th>id_02</th>\n",
              "      <th>id_05</th>\n",
              "      <th>id_06</th>\n",
              "      <th>id_11</th>\n",
              "      <th>id_13</th>\n",
              "      <th>id_17</th>\n",
              "      <th>id_19</th>\n",
              "      <th>id_20</th>\n",
              "    </tr>\n",
              "  </thead>\n",
              "  <tbody>\n",
              "    <tr>\n",
              "      <th>id_01</th>\n",
              "      <td>1.000000</td>\n",
              "      <td>-0.142064</td>\n",
              "      <td>0.009666</td>\n",
              "      <td>0.201637</td>\n",
              "      <td>0.014431</td>\n",
              "      <td>0.088596</td>\n",
              "      <td>-0.180504</td>\n",
              "      <td>0.000519</td>\n",
              "      <td>-0.071238</td>\n",
              "    </tr>\n",
              "    <tr>\n",
              "      <th>id_02</th>\n",
              "      <td>-0.142064</td>\n",
              "      <td>1.000000</td>\n",
              "      <td>-0.101547</td>\n",
              "      <td>-0.047041</td>\n",
              "      <td>0.053744</td>\n",
              "      <td>-0.035814</td>\n",
              "      <td>0.412987</td>\n",
              "      <td>-0.093068</td>\n",
              "      <td>0.108523</td>\n",
              "    </tr>\n",
              "    <tr>\n",
              "      <th>id_05</th>\n",
              "      <td>0.009666</td>\n",
              "      <td>-0.101547</td>\n",
              "      <td>1.000000</td>\n",
              "      <td>-0.291584</td>\n",
              "      <td>-0.043001</td>\n",
              "      <td>-0.036637</td>\n",
              "      <td>-0.203021</td>\n",
              "      <td>-0.023800</td>\n",
              "      <td>-0.058070</td>\n",
              "    </tr>\n",
              "    <tr>\n",
              "      <th>id_06</th>\n",
              "      <td>0.201637</td>\n",
              "      <td>-0.047041</td>\n",
              "      <td>-0.291584</td>\n",
              "      <td>1.000000</td>\n",
              "      <td>0.020806</td>\n",
              "      <td>0.074835</td>\n",
              "      <td>-0.028708</td>\n",
              "      <td>0.029647</td>\n",
              "      <td>-0.071015</td>\n",
              "    </tr>\n",
              "    <tr>\n",
              "      <th>id_11</th>\n",
              "      <td>0.014431</td>\n",
              "      <td>0.053744</td>\n",
              "      <td>-0.043001</td>\n",
              "      <td>0.020806</td>\n",
              "      <td>1.000000</td>\n",
              "      <td>-0.063345</td>\n",
              "      <td>0.062676</td>\n",
              "      <td>0.004058</td>\n",
              "      <td>0.036318</td>\n",
              "    </tr>\n",
              "    <tr>\n",
              "      <th>id_13</th>\n",
              "      <td>0.088596</td>\n",
              "      <td>-0.035814</td>\n",
              "      <td>-0.036637</td>\n",
              "      <td>0.074835</td>\n",
              "      <td>-0.063345</td>\n",
              "      <td>1.000000</td>\n",
              "      <td>-0.075997</td>\n",
              "      <td>0.017657</td>\n",
              "      <td>-0.029427</td>\n",
              "    </tr>\n",
              "    <tr>\n",
              "      <th>id_17</th>\n",
              "      <td>-0.180504</td>\n",
              "      <td>0.412987</td>\n",
              "      <td>-0.203021</td>\n",
              "      <td>-0.028708</td>\n",
              "      <td>0.062676</td>\n",
              "      <td>-0.075997</td>\n",
              "      <td>1.000000</td>\n",
              "      <td>-0.214211</td>\n",
              "      <td>0.278472</td>\n",
              "    </tr>\n",
              "    <tr>\n",
              "      <th>id_19</th>\n",
              "      <td>0.000519</td>\n",
              "      <td>-0.093068</td>\n",
              "      <td>-0.023800</td>\n",
              "      <td>0.029647</td>\n",
              "      <td>0.004058</td>\n",
              "      <td>0.017657</td>\n",
              "      <td>-0.214211</td>\n",
              "      <td>1.000000</td>\n",
              "      <td>-0.088309</td>\n",
              "    </tr>\n",
              "    <tr>\n",
              "      <th>id_20</th>\n",
              "      <td>-0.071238</td>\n",
              "      <td>0.108523</td>\n",
              "      <td>-0.058070</td>\n",
              "      <td>-0.071015</td>\n",
              "      <td>0.036318</td>\n",
              "      <td>-0.029427</td>\n",
              "      <td>0.278472</td>\n",
              "      <td>-0.088309</td>\n",
              "      <td>1.000000</td>\n",
              "    </tr>\n",
              "  </tbody>\n",
              "</table>\n",
              "</div>"
            ],
            "text/plain": [
              "          id_01     id_02     id_05  ...     id_17     id_19     id_20\n",
              "id_01  1.000000 -0.142064  0.009666  ... -0.180504  0.000519 -0.071238\n",
              "id_02 -0.142064  1.000000 -0.101547  ...  0.412987 -0.093068  0.108523\n",
              "id_05  0.009666 -0.101547  1.000000  ... -0.203021 -0.023800 -0.058070\n",
              "id_06  0.201637 -0.047041 -0.291584  ... -0.028708  0.029647 -0.071015\n",
              "id_11  0.014431  0.053744 -0.043001  ...  0.062676  0.004058  0.036318\n",
              "id_13  0.088596 -0.035814 -0.036637  ... -0.075997  0.017657 -0.029427\n",
              "id_17 -0.180504  0.412987 -0.203021  ...  1.000000 -0.214211  0.278472\n",
              "id_19  0.000519 -0.093068 -0.023800  ... -0.214211  1.000000 -0.088309\n",
              "id_20 -0.071238  0.108523 -0.058070  ...  0.278472 -0.088309  1.000000\n",
              "\n",
              "[9 rows x 9 columns]"
            ]
          },
          "metadata": {
            "tags": []
          },
          "execution_count": 23
        }
      ]
    },
    {
      "cell_type": "code",
      "metadata": {
        "colab_type": "code",
        "id": "X93JW5IM2na8",
        "outputId": "d5b59c11-1366-4724-cfa0-0a3fd1b8d444",
        "colab": {
          "base_uri": "https://localhost:8080/",
          "height": 453
        }
      },
      "source": [
        "correlations = numericalFeatures[['TransactionAmt','TransactionDT','card2','card3','card5']].corr()\n",
        "fig = plt.figure()\n",
        "ax = fig.add_subplot(111)\n",
        "cax = ax.matshow(correlations, vmin=-1, vmax=1)\n",
        "fig.colorbar(cax)\n",
        "names = ['TransactionAmt','TransactionDT','card2','card3','card5']\n",
        "ax.set_xticklabels(names)\n",
        "ax.set_yticklabels(names)\n",
        "plt.show()\n",
        "correlations"
      ],
      "execution_count": 24,
      "outputs": [
        {
          "output_type": "display_data",
          "data": {
            "image/png": "[encoded data removed]",
            "text/plain": [
              "<Figure size 432x288 with 2 Axes>"
            ]
          },
          "metadata": {
            "tags": []
          }
        },
        {
          "output_type": "execute_result",
          "data": {
            "text/html": [
              "<div>\n",
              "<style scoped>\n",
              "    .dataframe tbody tr th:only-of-type {\n",
              "        vertical-align: middle;\n",
              "    }\n",
              "\n",
              "    .dataframe tbody tr th {\n",
              "        vertical-align: top;\n",
              "    }\n",
              "\n",
              "    .dataframe thead th {\n",
              "        text-align: right;\n",
              "    }\n",
              "</style>\n",
              "<table border=\"1\" class=\"dataframe\">\n",
              "  <thead>\n",
              "    <tr style=\"text-align: right;\">\n",
              "      <th></th>\n",
              "      <th>TransactionAmt</th>\n",
              "      <th>TransactionDT</th>\n",
              "      <th>card2</th>\n",
              "      <th>card3</th>\n",
              "      <th>card5</th>\n",
              "    </tr>\n",
              "  </thead>\n",
              "  <tbody>\n",
              "    <tr>\n",
              "      <th>TransactionAmt</th>\n",
              "      <td>1.000000</td>\n",
              "      <td>0.011920</td>\n",
              "      <td>0.016136</td>\n",
              "      <td>-0.109788</td>\n",
              "      <td>0.003061</td>\n",
              "    </tr>\n",
              "    <tr>\n",
              "      <th>TransactionDT</th>\n",
              "      <td>0.011920</td>\n",
              "      <td>1.000000</td>\n",
              "      <td>-0.019202</td>\n",
              "      <td>-0.011222</td>\n",
              "      <td>-0.024132</td>\n",
              "    </tr>\n",
              "    <tr>\n",
              "      <th>card2</th>\n",
              "      <td>0.016136</td>\n",
              "      <td>-0.019202</td>\n",
              "      <td>1.000000</td>\n",
              "      <td>0.023816</td>\n",
              "      <td>0.030486</td>\n",
              "    </tr>\n",
              "    <tr>\n",
              "      <th>card3</th>\n",
              "      <td>-0.109788</td>\n",
              "      <td>-0.011222</td>\n",
              "      <td>0.023816</td>\n",
              "      <td>1.000000</td>\n",
              "      <td>-0.158383</td>\n",
              "    </tr>\n",
              "    <tr>\n",
              "      <th>card5</th>\n",
              "      <td>0.003061</td>\n",
              "      <td>-0.024132</td>\n",
              "      <td>0.030486</td>\n",
              "      <td>-0.158383</td>\n",
              "      <td>1.000000</td>\n",
              "    </tr>\n",
              "  </tbody>\n",
              "</table>\n",
              "</div>"
            ],
            "text/plain": [
              "                TransactionAmt  TransactionDT     card2     card3     card5\n",
              "TransactionAmt        1.000000       0.011920  0.016136 -0.109788  0.003061\n",
              "TransactionDT         0.011920       1.000000 -0.019202 -0.011222 -0.024132\n",
              "card2                 0.016136      -0.019202  1.000000  0.023816  0.030486\n",
              "card3                -0.109788      -0.011222  0.023816  1.000000 -0.158383\n",
              "card5                 0.003061      -0.024132  0.030486 -0.158383  1.000000"
            ]
          },
          "metadata": {
            "tags": []
          },
          "execution_count": 24
        }
      ]
    },
    {
      "cell_type": "markdown",
      "metadata": {
        "colab_type": "text",
        "id": "UjJoQoiI2na_"
      },
      "source": [
        "On remarque qu'il n'y a pas de corrélations flagrante entre ces variables."
      ]
    },
    {
      "cell_type": "markdown",
      "metadata": {
        "colab_type": "text",
        "id": "Kwx7YcXJ2nbA"
      },
      "source": [
        " - Normalisation des variables numériques : \n",
        " \n",
        " $\\frac{X - \\mu}{\\sigma}$, avec $\\mu$ : la moyenne de X et $\\sigma$ : l'écart-type de X."
      ]
    },
    {
      "cell_type": "code",
      "metadata": {
        "colab_type": "code",
        "id": "tEFF52AH2nbA",
        "colab": {}
      },
      "source": [
        "numericalFeatures = (numericalFeatures-numericalFeatures.mean())/numericalFeatures.std()"
      ],
      "execution_count": 0,
      "outputs": []
    },
    {
      "cell_type": "code",
      "metadata": {
        "colab_type": "code",
        "id": "BVXW-WIH2nbG",
        "outputId": "2699daf3-46c6-479e-8165-66ed53f48072",
        "colab": {
          "base_uri": "https://localhost:8080/",
          "height": 244
        }
      },
      "source": [
        "numericalFeatures.head()"
      ],
      "execution_count": 26,
      "outputs": [
        {
          "output_type": "execute_result",
          "data": {
            "text/html": [
              "<div>\n",
              "<style scoped>\n",
              "    .dataframe tbody tr th:only-of-type {\n",
              "        vertical-align: middle;\n",
              "    }\n",
              "\n",
              "    .dataframe tbody tr th {\n",
              "        vertical-align: top;\n",
              "    }\n",
              "\n",
              "    .dataframe thead th {\n",
              "        text-align: right;\n",
              "    }\n",
              "</style>\n",
              "<table border=\"1\" class=\"dataframe\">\n",
              "  <thead>\n",
              "    <tr style=\"text-align: right;\">\n",
              "      <th></th>\n",
              "      <th>TransactionDT</th>\n",
              "      <th>TransactionAmt</th>\n",
              "      <th>card1</th>\n",
              "      <th>card2</th>\n",
              "      <th>card3</th>\n",
              "      <th>card5</th>\n",
              "      <th>addr1</th>\n",
              "      <th>addr2</th>\n",
              "      <th>dist1</th>\n",
              "      <th>C1</th>\n",
              "      <th>C2</th>\n",
              "      <th>C3</th>\n",
              "      <th>C4</th>\n",
              "      <th>C5</th>\n",
              "      <th>C6</th>\n",
              "      <th>C7</th>\n",
              "      <th>C8</th>\n",
              "      <th>C9</th>\n",
              "      <th>C10</th>\n",
              "      <th>C11</th>\n",
              "      <th>C12</th>\n",
              "      <th>C13</th>\n",
              "      <th>C14</th>\n",
              "      <th>D1</th>\n",
              "      <th>D2</th>\n",
              "      <th>D3</th>\n",
              "      <th>D4</th>\n",
              "      <th>D5</th>\n",
              "      <th>D10</th>\n",
              "      <th>D11</th>\n",
              "      <th>D15</th>\n",
              "      <th>V1</th>\n",
              "      <th>V2</th>\n",
              "      <th>V3</th>\n",
              "      <th>V4</th>\n",
              "      <th>V5</th>\n",
              "      <th>V6</th>\n",
              "      <th>V7</th>\n",
              "      <th>V8</th>\n",
              "      <th>V9</th>\n",
              "      <th>...</th>\n",
              "      <th>V291</th>\n",
              "      <th>V292</th>\n",
              "      <th>V293</th>\n",
              "      <th>V294</th>\n",
              "      <th>V295</th>\n",
              "      <th>V296</th>\n",
              "      <th>V297</th>\n",
              "      <th>V298</th>\n",
              "      <th>V299</th>\n",
              "      <th>V300</th>\n",
              "      <th>V301</th>\n",
              "      <th>V302</th>\n",
              "      <th>V303</th>\n",
              "      <th>V304</th>\n",
              "      <th>V305</th>\n",
              "      <th>V306</th>\n",
              "      <th>V307</th>\n",
              "      <th>V308</th>\n",
              "      <th>V309</th>\n",
              "      <th>V310</th>\n",
              "      <th>V311</th>\n",
              "      <th>V312</th>\n",
              "      <th>V313</th>\n",
              "      <th>V314</th>\n",
              "      <th>V315</th>\n",
              "      <th>V316</th>\n",
              "      <th>V317</th>\n",
              "      <th>V318</th>\n",
              "      <th>V319</th>\n",
              "      <th>V320</th>\n",
              "      <th>V321</th>\n",
              "      <th>id_01</th>\n",
              "      <th>id_02</th>\n",
              "      <th>id_05</th>\n",
              "      <th>id_06</th>\n",
              "      <th>id_11</th>\n",
              "      <th>id_13</th>\n",
              "      <th>id_17</th>\n",
              "      <th>id_19</th>\n",
              "      <th>id_20</th>\n",
              "    </tr>\n",
              "  </thead>\n",
              "  <tbody>\n",
              "    <tr>\n",
              "      <th>0</th>\n",
              "      <td>-1.577985</td>\n",
              "      <td>-0.278076</td>\n",
              "      <td>0.821695</td>\n",
              "      <td>NaN</td>\n",
              "      <td>-0.286621</td>\n",
              "      <td>-1.387695</td>\n",
              "      <td>0.238281</td>\n",
              "      <td>0.069641</td>\n",
              "      <td>-0.267578</td>\n",
              "      <td>-0.097961</td>\n",
              "      <td>-0.092285</td>\n",
              "      <td>-0.037506</td>\n",
              "      <td>-0.059448</td>\n",
              "      <td>-0.216064</td>\n",
              "      <td>-0.112854</td>\n",
              "      <td>-0.046143</td>\n",
              "      <td>-0.053955</td>\n",
              "      <td>-0.208740</td>\n",
              "      <td>-0.054871</td>\n",
              "      <td>-0.087402</td>\n",
              "      <td>-0.047058</td>\n",
              "      <td>-0.243774</td>\n",
              "      <td>-0.147339</td>\n",
              "      <td>-0.509766</td>\n",
              "      <td>NaN</td>\n",
              "      <td>-0.245972</td>\n",
              "      <td>NaN</td>\n",
              "      <td>NaN</td>\n",
              "      <td>-0.607910</td>\n",
              "      <td>-0.718262</td>\n",
              "      <td>-0.807617</td>\n",
              "      <td>0.0</td>\n",
              "      <td>-0.187134</td>\n",
              "      <td>-0.24353</td>\n",
              "      <td>0.348389</td>\n",
              "      <td>0.258545</td>\n",
              "      <td>-0.191772</td>\n",
              "      <td>-0.240356</td>\n",
              "      <td>-0.146973</td>\n",
              "      <td>-0.185547</td>\n",
              "      <td>...</td>\n",
              "      <td>-0.040619</td>\n",
              "      <td>-0.06366</td>\n",
              "      <td>-0.045746</td>\n",
              "      <td>-0.033264</td>\n",
              "      <td>-0.055206</td>\n",
              "      <td>-0.100708</td>\n",
              "      <td>-0.141724</td>\n",
              "      <td>-0.094116</td>\n",
              "      <td>-0.099548</td>\n",
              "      <td>-0.157104</td>\n",
              "      <td>-0.16333</td>\n",
              "      <td>-0.522461</td>\n",
              "      <td>-0.454102</td>\n",
              "      <td>-0.500000</td>\n",
              "      <td>0.0</td>\n",
              "      <td>-0.059497</td>\n",
              "      <td>-0.066412</td>\n",
              "      <td>-0.076247</td>\n",
              "      <td>-0.094543</td>\n",
              "      <td>-0.334717</td>\n",
              "      <td>-0.041046</td>\n",
              "      <td>-0.227661</td>\n",
              "      <td>-0.222656</td>\n",
              "      <td>-0.249512</td>\n",
              "      <td>-0.22937</td>\n",
              "      <td>-0.048378</td>\n",
              "      <td>-0.032815</td>\n",
              "      <td>-0.058050</td>\n",
              "      <td>-0.055288</td>\n",
              "      <td>-0.088856</td>\n",
              "      <td>-0.074143</td>\n",
              "      <td>NaN</td>\n",
              "      <td>NaN</td>\n",
              "      <td>NaN</td>\n",
              "      <td>NaN</td>\n",
              "      <td>NaN</td>\n",
              "      <td>NaN</td>\n",
              "      <td>NaN</td>\n",
              "      <td>NaN</td>\n",
              "      <td>NaN</td>\n",
              "    </tr>\n",
              "    <tr>\n",
              "      <th>1</th>\n",
              "      <td>-1.577985</td>\n",
              "      <td>-0.443359</td>\n",
              "      <td>-1.457557</td>\n",
              "      <td>0.263184</td>\n",
              "      <td>-0.286621</td>\n",
              "      <td>-2.357422</td>\n",
              "      <td>0.336670</td>\n",
              "      <td>0.069641</td>\n",
              "      <td>NaN</td>\n",
              "      <td>-0.097961</td>\n",
              "      <td>-0.092285</td>\n",
              "      <td>-0.037506</td>\n",
              "      <td>-0.059448</td>\n",
              "      <td>-0.216064</td>\n",
              "      <td>-0.112854</td>\n",
              "      <td>-0.046143</td>\n",
              "      <td>-0.053955</td>\n",
              "      <td>-0.268799</td>\n",
              "      <td>-0.054871</td>\n",
              "      <td>-0.098022</td>\n",
              "      <td>-0.047058</td>\n",
              "      <td>-0.243774</td>\n",
              "      <td>-0.147339</td>\n",
              "      <td>-0.598633</td>\n",
              "      <td>NaN</td>\n",
              "      <td>NaN</td>\n",
              "      <td>-0.732422</td>\n",
              "      <td>NaN</td>\n",
              "      <td>-0.679199</td>\n",
              "      <td>NaN</td>\n",
              "      <td>-0.807617</td>\n",
              "      <td>NaN</td>\n",
              "      <td>NaN</td>\n",
              "      <td>NaN</td>\n",
              "      <td>NaN</td>\n",
              "      <td>NaN</td>\n",
              "      <td>NaN</td>\n",
              "      <td>NaN</td>\n",
              "      <td>NaN</td>\n",
              "      <td>NaN</td>\n",
              "      <td>...</td>\n",
              "      <td>-0.040619</td>\n",
              "      <td>-0.06366</td>\n",
              "      <td>-0.045746</td>\n",
              "      <td>-0.058533</td>\n",
              "      <td>-0.055206</td>\n",
              "      <td>-0.100708</td>\n",
              "      <td>-0.141724</td>\n",
              "      <td>-0.094116</td>\n",
              "      <td>-0.099548</td>\n",
              "      <td>-0.157104</td>\n",
              "      <td>-0.16333</td>\n",
              "      <td>-0.522461</td>\n",
              "      <td>-0.454102</td>\n",
              "      <td>-0.500000</td>\n",
              "      <td>0.0</td>\n",
              "      <td>-0.059497</td>\n",
              "      <td>-0.093052</td>\n",
              "      <td>-0.076247</td>\n",
              "      <td>-0.094543</td>\n",
              "      <td>-0.334717</td>\n",
              "      <td>-0.041046</td>\n",
              "      <td>-0.227661</td>\n",
              "      <td>-0.222656</td>\n",
              "      <td>-0.249512</td>\n",
              "      <td>-0.22937</td>\n",
              "      <td>-0.048378</td>\n",
              "      <td>-0.062212</td>\n",
              "      <td>-0.058050</td>\n",
              "      <td>-0.055288</td>\n",
              "      <td>-0.088856</td>\n",
              "      <td>-0.074143</td>\n",
              "      <td>NaN</td>\n",
              "      <td>NaN</td>\n",
              "      <td>NaN</td>\n",
              "      <td>NaN</td>\n",
              "      <td>NaN</td>\n",
              "      <td>NaN</td>\n",
              "      <td>NaN</td>\n",
              "      <td>NaN</td>\n",
              "      <td>NaN</td>\n",
              "    </tr>\n",
              "    <tr>\n",
              "      <th>2</th>\n",
              "      <td>-1.577970</td>\n",
              "      <td>-0.317871</td>\n",
              "      <td>-1.068262</td>\n",
              "      <td>0.808105</td>\n",
              "      <td>-0.286621</td>\n",
              "      <td>-0.806152</td>\n",
              "      <td>0.385742</td>\n",
              "      <td>0.069641</td>\n",
              "      <td>0.453369</td>\n",
              "      <td>-0.097961</td>\n",
              "      <td>-0.092285</td>\n",
              "      <td>-0.037506</td>\n",
              "      <td>-0.059448</td>\n",
              "      <td>-0.216064</td>\n",
              "      <td>-0.112854</td>\n",
              "      <td>-0.046143</td>\n",
              "      <td>-0.053955</td>\n",
              "      <td>-0.208740</td>\n",
              "      <td>-0.054871</td>\n",
              "      <td>-0.098022</td>\n",
              "      <td>-0.047058</td>\n",
              "      <td>-0.243774</td>\n",
              "      <td>-0.147339</td>\n",
              "      <td>-0.598633</td>\n",
              "      <td>NaN</td>\n",
              "      <td>NaN</td>\n",
              "      <td>-0.732422</td>\n",
              "      <td>NaN</td>\n",
              "      <td>-0.679199</td>\n",
              "      <td>0.905273</td>\n",
              "      <td>0.746094</td>\n",
              "      <td>0.0</td>\n",
              "      <td>-0.187134</td>\n",
              "      <td>-0.24353</td>\n",
              "      <td>0.348389</td>\n",
              "      <td>0.258545</td>\n",
              "      <td>-0.191772</td>\n",
              "      <td>-0.240356</td>\n",
              "      <td>-0.146973</td>\n",
              "      <td>-0.185547</td>\n",
              "      <td>...</td>\n",
              "      <td>-0.040619</td>\n",
              "      <td>-0.06366</td>\n",
              "      <td>-0.045746</td>\n",
              "      <td>-0.058533</td>\n",
              "      <td>-0.055206</td>\n",
              "      <td>-0.100708</td>\n",
              "      <td>-0.141724</td>\n",
              "      <td>-0.094116</td>\n",
              "      <td>-0.099548</td>\n",
              "      <td>-0.157104</td>\n",
              "      <td>-0.16333</td>\n",
              "      <td>-0.522461</td>\n",
              "      <td>-0.454102</td>\n",
              "      <td>-0.500000</td>\n",
              "      <td>0.0</td>\n",
              "      <td>-0.059497</td>\n",
              "      <td>-0.093052</td>\n",
              "      <td>-0.076247</td>\n",
              "      <td>-0.094543</td>\n",
              "      <td>-0.334717</td>\n",
              "      <td>-0.041046</td>\n",
              "      <td>-0.227661</td>\n",
              "      <td>-0.222656</td>\n",
              "      <td>-0.249512</td>\n",
              "      <td>-0.22937</td>\n",
              "      <td>-0.048378</td>\n",
              "      <td>-0.062212</td>\n",
              "      <td>-0.058050</td>\n",
              "      <td>-0.055288</td>\n",
              "      <td>-0.088856</td>\n",
              "      <td>-0.074143</td>\n",
              "      <td>NaN</td>\n",
              "      <td>NaN</td>\n",
              "      <td>NaN</td>\n",
              "      <td>NaN</td>\n",
              "      <td>NaN</td>\n",
              "      <td>NaN</td>\n",
              "      <td>NaN</td>\n",
              "      <td>NaN</td>\n",
              "      <td>NaN</td>\n",
              "    </tr>\n",
              "    <tr>\n",
              "      <th>3</th>\n",
              "      <td>-1.577964</td>\n",
              "      <td>-0.355469</td>\n",
              "      <td>1.679857</td>\n",
              "      <td>1.295898</td>\n",
              "      <td>-0.286621</td>\n",
              "      <td>-1.994141</td>\n",
              "      <td>1.820312</td>\n",
              "      <td>0.069641</td>\n",
              "      <td>NaN</td>\n",
              "      <td>-0.090515</td>\n",
              "      <td>-0.066467</td>\n",
              "      <td>-0.037506</td>\n",
              "      <td>-0.059448</td>\n",
              "      <td>-0.216064</td>\n",
              "      <td>-0.070923</td>\n",
              "      <td>-0.046143</td>\n",
              "      <td>-0.053955</td>\n",
              "      <td>-0.208740</td>\n",
              "      <td>-0.054871</td>\n",
              "      <td>-0.098022</td>\n",
              "      <td>-0.047058</td>\n",
              "      <td>-0.058228</td>\n",
              "      <td>-0.147339</td>\n",
              "      <td>0.111816</td>\n",
              "      <td>-0.324951</td>\n",
              "      <td>-0.454346</td>\n",
              "      <td>-0.240723</td>\n",
              "      <td>-0.47583</td>\n",
              "      <td>-0.218994</td>\n",
              "      <td>NaN</td>\n",
              "      <td>-0.260254</td>\n",
              "      <td>NaN</td>\n",
              "      <td>NaN</td>\n",
              "      <td>NaN</td>\n",
              "      <td>NaN</td>\n",
              "      <td>NaN</td>\n",
              "      <td>NaN</td>\n",
              "      <td>NaN</td>\n",
              "      <td>NaN</td>\n",
              "      <td>NaN</td>\n",
              "      <td>...</td>\n",
              "      <td>-0.040619</td>\n",
              "      <td>-0.06366</td>\n",
              "      <td>0.002798</td>\n",
              "      <td>0.902832</td>\n",
              "      <td>0.868652</td>\n",
              "      <td>-0.100708</td>\n",
              "      <td>-0.141724</td>\n",
              "      <td>-0.094116</td>\n",
              "      <td>-0.099548</td>\n",
              "      <td>-0.157104</td>\n",
              "      <td>-0.16333</td>\n",
              "      <td>-0.522461</td>\n",
              "      <td>-0.454102</td>\n",
              "      <td>-0.500000</td>\n",
              "      <td>0.0</td>\n",
              "      <td>-0.038210</td>\n",
              "      <td>0.307222</td>\n",
              "      <td>0.229849</td>\n",
              "      <td>-0.094543</td>\n",
              "      <td>0.667969</td>\n",
              "      <td>-0.041046</td>\n",
              "      <td>0.556641</td>\n",
              "      <td>-0.222656</td>\n",
              "      <td>-0.249512</td>\n",
              "      <td>-0.22937</td>\n",
              "      <td>-0.026351</td>\n",
              "      <td>0.290548</td>\n",
              "      <td>0.224765</td>\n",
              "      <td>-0.055288</td>\n",
              "      <td>-0.088856</td>\n",
              "      <td>-0.074143</td>\n",
              "      <td>NaN</td>\n",
              "      <td>NaN</td>\n",
              "      <td>NaN</td>\n",
              "      <td>NaN</td>\n",
              "      <td>NaN</td>\n",
              "      <td>NaN</td>\n",
              "      <td>NaN</td>\n",
              "      <td>NaN</td>\n",
              "      <td>NaN</td>\n",
              "    </tr>\n",
              "    <tr>\n",
              "      <th>4</th>\n",
              "      <td>-1.577962</td>\n",
              "      <td>-0.355469</td>\n",
              "      <td>-1.102132</td>\n",
              "      <td>0.960449</td>\n",
              "      <td>-0.286621</td>\n",
              "      <td>-2.357422</td>\n",
              "      <td>1.270508</td>\n",
              "      <td>0.069641</td>\n",
              "      <td>NaN</td>\n",
              "      <td>-0.097961</td>\n",
              "      <td>-0.092285</td>\n",
              "      <td>-0.037506</td>\n",
              "      <td>-0.059448</td>\n",
              "      <td>-0.216064</td>\n",
              "      <td>-0.112854</td>\n",
              "      <td>-0.046143</td>\n",
              "      <td>-0.043457</td>\n",
              "      <td>-0.268799</td>\n",
              "      <td>-0.044403</td>\n",
              "      <td>-0.098022</td>\n",
              "      <td>-0.047058</td>\n",
              "      <td>-0.243774</td>\n",
              "      <td>-0.147339</td>\n",
              "      <td>-0.598633</td>\n",
              "      <td>NaN</td>\n",
              "      <td>NaN</td>\n",
              "      <td>NaN</td>\n",
              "      <td>NaN</td>\n",
              "      <td>NaN</td>\n",
              "      <td>NaN</td>\n",
              "      <td>NaN</td>\n",
              "      <td>NaN</td>\n",
              "      <td>NaN</td>\n",
              "      <td>NaN</td>\n",
              "      <td>NaN</td>\n",
              "      <td>NaN</td>\n",
              "      <td>NaN</td>\n",
              "      <td>NaN</td>\n",
              "      <td>NaN</td>\n",
              "      <td>NaN</td>\n",
              "      <td>...</td>\n",
              "      <td>-0.040619</td>\n",
              "      <td>-0.06366</td>\n",
              "      <td>-0.045746</td>\n",
              "      <td>-0.058533</td>\n",
              "      <td>-0.055206</td>\n",
              "      <td>-0.100708</td>\n",
              "      <td>-0.141724</td>\n",
              "      <td>-0.094116</td>\n",
              "      <td>-0.099548</td>\n",
              "      <td>-0.157104</td>\n",
              "      <td>-0.16333</td>\n",
              "      <td>1.551758</td>\n",
              "      <td>1.149414</td>\n",
              "      <td>1.392578</td>\n",
              "      <td>0.0</td>\n",
              "      <td>-0.059497</td>\n",
              "      <td>-0.093052</td>\n",
              "      <td>-0.076247</td>\n",
              "      <td>-0.094543</td>\n",
              "      <td>-0.334717</td>\n",
              "      <td>-0.041046</td>\n",
              "      <td>-0.227661</td>\n",
              "      <td>-0.222656</td>\n",
              "      <td>-0.249512</td>\n",
              "      <td>-0.22937</td>\n",
              "      <td>-0.048378</td>\n",
              "      <td>-0.062212</td>\n",
              "      <td>-0.058050</td>\n",
              "      <td>-0.055288</td>\n",
              "      <td>-0.088856</td>\n",
              "      <td>-0.074143</td>\n",
              "      <td>0.708984</td>\n",
              "      <td>-0.650977</td>\n",
              "      <td>NaN</td>\n",
              "      <td>NaN</td>\n",
              "      <td>0.221802</td>\n",
              "      <td>NaN</td>\n",
              "      <td>-0.773438</td>\n",
              "      <td>1.337891</td>\n",
              "      <td>-1.708984</td>\n",
              "    </tr>\n",
              "  </tbody>\n",
              "</table>\n",
              "<p>5 rows × 332 columns</p>\n",
              "</div>"
            ],
            "text/plain": [
              "   TransactionDT  TransactionAmt     card1  ...     id_17     id_19     id_20\n",
              "0      -1.577985       -0.278076  0.821695  ...       NaN       NaN       NaN\n",
              "1      -1.577985       -0.443359 -1.457557  ...       NaN       NaN       NaN\n",
              "2      -1.577970       -0.317871 -1.068262  ...       NaN       NaN       NaN\n",
              "3      -1.577964       -0.355469  1.679857  ...       NaN       NaN       NaN\n",
              "4      -1.577962       -0.355469 -1.102132  ... -0.773438  1.337891 -1.708984\n",
              "\n",
              "[5 rows x 332 columns]"
            ]
          },
          "metadata": {
            "tags": []
          },
          "execution_count": 26
        }
      ]
    },
    {
      "cell_type": "markdown",
      "metadata": {
        "colab_type": "text",
        "id": "epJB7IAV2nbI"
      },
      "source": [
        "Si une variable a la même valeur, la nouvelle valeur après normalisation sera égale à NaN. \n",
        "\n",
        "Ainsi, nous supprimerons les variables qui ont des NaN après la normalisation."
      ]
    },
    {
      "cell_type": "code",
      "metadata": {
        "colab_type": "code",
        "id": "mKt6Iqyt2nbJ",
        "outputId": "c0c7583f-5d6e-497e-8cb9-cd525d52571a",
        "colab": {
          "base_uri": "https://localhost:8080/",
          "height": 122
        }
      },
      "source": [
        "nonNull = numericalFeatures.isnull().sum() != 0\n",
        "columnNonNullScaled = numericalFeatures.columns[nonNull]\n",
        "columnNonNullScaled"
      ],
      "execution_count": 28,
      "outputs": [
        {
          "output_type": "execute_result",
          "data": {
            "text/plain": [
              "Index(['card2', 'card3', 'card5', 'addr1', 'addr2', 'dist1', 'D1', 'D2', 'D3',\n",
              "       'D4',\n",
              "       ...\n",
              "       'V321', 'id_01', 'id_02', 'id_05', 'id_06', 'id_11', 'id_13', 'id_17',\n",
              "       'id_19', 'id_20'],\n",
              "      dtype='object', length=315)"
            ]
          },
          "metadata": {
            "tags": []
          },
          "execution_count": 28
        }
      ]
    },
    {
      "cell_type": "code",
      "metadata": {
        "colab_type": "code",
        "id": "Zql8V0Ib2nbM",
        "colab": {}
      },
      "source": [
        "numericalFeatures = numericalFeatures.drop(columnNonNullScaled, axis = 1)"
      ],
      "execution_count": 0,
      "outputs": []
    },
    {
      "cell_type": "code",
      "metadata": {
        "colab_type": "code",
        "id": "7qH7DD842nbP",
        "outputId": "6bf7f63a-5131-4efd-8011-9faeb7cb802c",
        "colab": {
          "base_uri": "https://localhost:8080/",
          "height": 34
        }
      },
      "source": [
        "nonNull = numericalFeatures.isnull().sum() != 0\n",
        "columnNonNull = numericalFeatures.columns[nonNull]\n",
        "columnNonNull"
      ],
      "execution_count": 30,
      "outputs": [
        {
          "output_type": "execute_result",
          "data": {
            "text/plain": [
              "Index([], dtype='object')"
            ]
          },
          "metadata": {
            "tags": []
          },
          "execution_count": 30
        }
      ]
    },
    {
      "cell_type": "code",
      "metadata": {
        "colab_type": "code",
        "id": "scNi6Lwr2nbT",
        "outputId": "e759e37a-56be-4f6b-f59c-18aea45a7c55",
        "colab": {
          "base_uri": "https://localhost:8080/",
          "height": 70
        }
      },
      "source": [
        "numericalFeatures.columns"
      ],
      "execution_count": 31,
      "outputs": [
        {
          "output_type": "execute_result",
          "data": {
            "text/plain": [
              "Index(['TransactionDT', 'TransactionAmt', 'card1', 'C1', 'C2', 'C3', 'C4',\n",
              "       'C5', 'C6', 'C7', 'C8', 'C9', 'C10', 'C11', 'C12', 'C13', 'C14'],\n",
              "      dtype='object')"
            ]
          },
          "metadata": {
            "tags": []
          },
          "execution_count": 31
        }
      ]
    },
    {
      "cell_type": "markdown",
      "metadata": {
        "colab_type": "text",
        "id": "IT4Megvz2nbW"
      },
      "source": [
        "## Pré-traitement de l'échantillon Test"
      ]
    },
    {
      "cell_type": "markdown",
      "metadata": {
        "colab_type": "text",
        "id": "8NWPt8ZL2nbX"
      },
      "source": [
        "Dans un premier temps, on renomme le nom des colonnes de l'ensemble de données de test: on remplace - par _"
      ]
    },
    {
      "cell_type": "code",
      "metadata": {
        "colab_type": "code",
        "id": "SQ8oHOt42nbX",
        "colab": {}
      },
      "source": [
        "droppedColumnsTest = []\n",
        "for i in test.columns:\n",
        "  a = i.replace('-','_')\n",
        "  droppedColumnsTest.append(a)\n",
        "test.columns = droppedColumnsTest"
      ],
      "execution_count": 0,
      "outputs": []
    },
    {
      "cell_type": "markdown",
      "metadata": {
        "colab_type": "text",
        "id": "Seo8kNs92nbZ"
      },
      "source": [
        " - Extraction des variables numériques et qualitatives"
      ]
    },
    {
      "cell_type": "code",
      "metadata": {
        "colab_type": "code",
        "id": "1df_6hg72nba",
        "colab": {}
      },
      "source": [
        "X_testCategorical = test[categoricalFeatures.columns]"
      ],
      "execution_count": 0,
      "outputs": []
    },
    {
      "cell_type": "code",
      "metadata": {
        "colab_type": "code",
        "id": "QYfhUDWh2nbc",
        "colab": {}
      },
      "source": [
        "X_testNumerical  = test[numericalFeatures.columns]"
      ],
      "execution_count": 0,
      "outputs": []
    },
    {
      "cell_type": "markdown",
      "metadata": {
        "colab_type": "text",
        "id": "hcbKj0PN2nbf"
      },
      "source": [
        " - Suppression des variables contenant plus de 80% de valeurs manquantes"
      ]
    },
    {
      "cell_type": "code",
      "metadata": {
        "colab_type": "code",
        "id": "qmC-8pk-2nbf",
        "colab": {}
      },
      "source": [
        "null_cols = get_too_many_null_attr(X_testNumerical)\n",
        "X_testNumerical.drop(null_cols,1,inplace=True)"
      ],
      "execution_count": 0,
      "outputs": []
    },
    {
      "cell_type": "code",
      "metadata": {
        "id": "P8Kt4-W6Kcjz",
        "colab_type": "code",
        "outputId": "f7ad512a-cfe8-418b-c7a7-93625de2c1b0",
        "colab": {
          "base_uri": "https://localhost:8080/",
          "height": 334
        }
      },
      "source": [
        "X_testNumerical.isnull().sum()"
      ],
      "execution_count": 36,
      "outputs": [
        {
          "output_type": "execute_result",
          "data": {
            "text/plain": [
              "TransactionDT        0\n",
              "TransactionAmt       0\n",
              "card1                0\n",
              "C1                   3\n",
              "C2                   3\n",
              "C3                   3\n",
              "C4                   3\n",
              "C5                   3\n",
              "C6                   3\n",
              "C7                   3\n",
              "C8                   3\n",
              "C9                   3\n",
              "C10                  3\n",
              "C11                  3\n",
              "C12                  3\n",
              "C13               4748\n",
              "C14                  3\n",
              "dtype: int64"
            ]
          },
          "metadata": {
            "tags": []
          },
          "execution_count": 36
        }
      ]
    },
    {
      "cell_type": "code",
      "metadata": {
        "id": "zd7Jq1OzKhBM",
        "colab_type": "code",
        "outputId": "77a0fa29-2e2c-4ee5-b29a-3bd0c6d79df1",
        "colab": {
          "base_uri": "https://localhost:8080/",
          "height": 334
        }
      },
      "source": [
        "X_testNumerical.fillna(X_testNumerical.median(), inplace= True)\n",
        "X_testNumerical.isnull().sum()"
      ],
      "execution_count": 37,
      "outputs": [
        {
          "output_type": "execute_result",
          "data": {
            "text/plain": [
              "TransactionDT     0\n",
              "TransactionAmt    0\n",
              "card1             0\n",
              "C1                0\n",
              "C2                0\n",
              "C3                0\n",
              "C4                0\n",
              "C5                0\n",
              "C6                0\n",
              "C7                0\n",
              "C8                0\n",
              "C9                0\n",
              "C10               0\n",
              "C11               0\n",
              "C12               0\n",
              "C13               0\n",
              "C14               0\n",
              "dtype: int64"
            ]
          },
          "metadata": {
            "tags": []
          },
          "execution_count": 37
        }
      ]
    },
    {
      "cell_type": "markdown",
      "metadata": {
        "colab_type": "text",
        "id": "f6uQU8nP2nbk"
      },
      "source": [
        "On vérifie si les variables catégorielles du train et du test ont le même nombre de valeurs uniques avant l'encodage"
      ]
    },
    {
      "cell_type": "code",
      "metadata": {
        "colab_type": "code",
        "id": "4daOO7mq2nbl",
        "outputId": "20c12938-59a1-4ceb-a01d-f0317768e102",
        "colab": {
          "base_uri": "https://localhost:8080/",
          "height": 202
        }
      },
      "source": [
        "categoricalFeatures.describe()"
      ],
      "execution_count": 38,
      "outputs": [
        {
          "output_type": "execute_result",
          "data": {
            "text/html": [
              "<div>\n",
              "<style scoped>\n",
              "    .dataframe tbody tr th:only-of-type {\n",
              "        vertical-align: middle;\n",
              "    }\n",
              "\n",
              "    .dataframe tbody tr th {\n",
              "        vertical-align: top;\n",
              "    }\n",
              "\n",
              "    .dataframe thead th {\n",
              "        text-align: right;\n",
              "    }\n",
              "</style>\n",
              "<table border=\"1\" class=\"dataframe\">\n",
              "  <thead>\n",
              "    <tr style=\"text-align: right;\">\n",
              "      <th></th>\n",
              "      <th>ProductCD</th>\n",
              "      <th>card4</th>\n",
              "      <th>card6</th>\n",
              "      <th>P_emaildomain</th>\n",
              "      <th>R_emaildomain</th>\n",
              "      <th>M1</th>\n",
              "      <th>M2</th>\n",
              "      <th>M3</th>\n",
              "      <th>M4</th>\n",
              "      <th>M5</th>\n",
              "      <th>M6</th>\n",
              "      <th>M7</th>\n",
              "      <th>M8</th>\n",
              "      <th>M9</th>\n",
              "      <th>id_12</th>\n",
              "      <th>id_15</th>\n",
              "      <th>id_16</th>\n",
              "      <th>id_28</th>\n",
              "      <th>id_29</th>\n",
              "      <th>id_31</th>\n",
              "      <th>id_35</th>\n",
              "      <th>id_36</th>\n",
              "      <th>id_37</th>\n",
              "      <th>id_38</th>\n",
              "      <th>DeviceType</th>\n",
              "      <th>DeviceInfo</th>\n",
              "    </tr>\n",
              "  </thead>\n",
              "  <tbody>\n",
              "    <tr>\n",
              "      <th>count</th>\n",
              "      <td>590540</td>\n",
              "      <td>588963</td>\n",
              "      <td>588969</td>\n",
              "      <td>496084</td>\n",
              "      <td>137291</td>\n",
              "      <td>319440</td>\n",
              "      <td>319440</td>\n",
              "      <td>319440</td>\n",
              "      <td>309096</td>\n",
              "      <td>240058</td>\n",
              "      <td>421180</td>\n",
              "      <td>244275</td>\n",
              "      <td>244288</td>\n",
              "      <td>244288</td>\n",
              "      <td>144233</td>\n",
              "      <td>140985</td>\n",
              "      <td>129340</td>\n",
              "      <td>140978</td>\n",
              "      <td>140978</td>\n",
              "      <td>140282</td>\n",
              "      <td>140985</td>\n",
              "      <td>140985</td>\n",
              "      <td>140985</td>\n",
              "      <td>140985</td>\n",
              "      <td>140810</td>\n",
              "      <td>118666</td>\n",
              "    </tr>\n",
              "    <tr>\n",
              "      <th>unique</th>\n",
              "      <td>5</td>\n",
              "      <td>4</td>\n",
              "      <td>4</td>\n",
              "      <td>59</td>\n",
              "      <td>60</td>\n",
              "      <td>2</td>\n",
              "      <td>2</td>\n",
              "      <td>2</td>\n",
              "      <td>3</td>\n",
              "      <td>2</td>\n",
              "      <td>2</td>\n",
              "      <td>2</td>\n",
              "      <td>2</td>\n",
              "      <td>2</td>\n",
              "      <td>2</td>\n",
              "      <td>3</td>\n",
              "      <td>2</td>\n",
              "      <td>2</td>\n",
              "      <td>2</td>\n",
              "      <td>130</td>\n",
              "      <td>2</td>\n",
              "      <td>2</td>\n",
              "      <td>2</td>\n",
              "      <td>2</td>\n",
              "      <td>2</td>\n",
              "      <td>1786</td>\n",
              "    </tr>\n",
              "    <tr>\n",
              "      <th>top</th>\n",
              "      <td>W</td>\n",
              "      <td>visa</td>\n",
              "      <td>debit</td>\n",
              "      <td>gmail.com</td>\n",
              "      <td>gmail.com</td>\n",
              "      <td>T</td>\n",
              "      <td>T</td>\n",
              "      <td>T</td>\n",
              "      <td>M0</td>\n",
              "      <td>F</td>\n",
              "      <td>F</td>\n",
              "      <td>F</td>\n",
              "      <td>F</td>\n",
              "      <td>T</td>\n",
              "      <td>NotFound</td>\n",
              "      <td>Found</td>\n",
              "      <td>Found</td>\n",
              "      <td>Found</td>\n",
              "      <td>Found</td>\n",
              "      <td>chrome 63.0</td>\n",
              "      <td>T</td>\n",
              "      <td>F</td>\n",
              "      <td>T</td>\n",
              "      <td>F</td>\n",
              "      <td>desktop</td>\n",
              "      <td>Windows</td>\n",
              "    </tr>\n",
              "    <tr>\n",
              "      <th>freq</th>\n",
              "      <td>439670</td>\n",
              "      <td>384767</td>\n",
              "      <td>439938</td>\n",
              "      <td>228355</td>\n",
              "      <td>57147</td>\n",
              "      <td>319415</td>\n",
              "      <td>285468</td>\n",
              "      <td>251731</td>\n",
              "      <td>196405</td>\n",
              "      <td>132491</td>\n",
              "      <td>227856</td>\n",
              "      <td>211374</td>\n",
              "      <td>155251</td>\n",
              "      <td>205656</td>\n",
              "      <td>123025</td>\n",
              "      <td>67728</td>\n",
              "      <td>66324</td>\n",
              "      <td>76232</td>\n",
              "      <td>74926</td>\n",
              "      <td>22000</td>\n",
              "      <td>77814</td>\n",
              "      <td>134066</td>\n",
              "      <td>110452</td>\n",
              "      <td>73922</td>\n",
              "      <td>85165</td>\n",
              "      <td>47722</td>\n",
              "    </tr>\n",
              "  </tbody>\n",
              "</table>\n",
              "</div>"
            ],
            "text/plain": [
              "       ProductCD   card4   card6  ...   id_38 DeviceType DeviceInfo\n",
              "count     590540  588963  588969  ...  140985     140810     118666\n",
              "unique         5       4       4  ...       2          2       1786\n",
              "top            W    visa   debit  ...       F    desktop    Windows\n",
              "freq      439670  384767  439938  ...   73922      85165      47722\n",
              "\n",
              "[4 rows x 26 columns]"
            ]
          },
          "metadata": {
            "tags": []
          },
          "execution_count": 38
        }
      ]
    },
    {
      "cell_type": "code",
      "metadata": {
        "colab_type": "code",
        "id": "Br1-CS_Y2nbo",
        "outputId": "e427dde4-756f-4849-b3d3-a28c8fcee4fc",
        "colab": {
          "base_uri": "https://localhost:8080/",
          "height": 202
        }
      },
      "source": [
        "X_testCategorical.describe()"
      ],
      "execution_count": 39,
      "outputs": [
        {
          "output_type": "execute_result",
          "data": {
            "text/html": [
              "<div>\n",
              "<style scoped>\n",
              "    .dataframe tbody tr th:only-of-type {\n",
              "        vertical-align: middle;\n",
              "    }\n",
              "\n",
              "    .dataframe tbody tr th {\n",
              "        vertical-align: top;\n",
              "    }\n",
              "\n",
              "    .dataframe thead th {\n",
              "        text-align: right;\n",
              "    }\n",
              "</style>\n",
              "<table border=\"1\" class=\"dataframe\">\n",
              "  <thead>\n",
              "    <tr style=\"text-align: right;\">\n",
              "      <th></th>\n",
              "      <th>ProductCD</th>\n",
              "      <th>card4</th>\n",
              "      <th>card6</th>\n",
              "      <th>P_emaildomain</th>\n",
              "      <th>R_emaildomain</th>\n",
              "      <th>M1</th>\n",
              "      <th>M2</th>\n",
              "      <th>M3</th>\n",
              "      <th>M4</th>\n",
              "      <th>M5</th>\n",
              "      <th>M6</th>\n",
              "      <th>M7</th>\n",
              "      <th>M8</th>\n",
              "      <th>M9</th>\n",
              "      <th>id_12</th>\n",
              "      <th>id_15</th>\n",
              "      <th>id_16</th>\n",
              "      <th>id_28</th>\n",
              "      <th>id_29</th>\n",
              "      <th>id_31</th>\n",
              "      <th>id_35</th>\n",
              "      <th>id_36</th>\n",
              "      <th>id_37</th>\n",
              "      <th>id_38</th>\n",
              "      <th>DeviceType</th>\n",
              "      <th>DeviceInfo</th>\n",
              "    </tr>\n",
              "  </thead>\n",
              "  <tbody>\n",
              "    <tr>\n",
              "      <th>count</th>\n",
              "      <td>506691</td>\n",
              "      <td>503605</td>\n",
              "      <td>503684</td>\n",
              "      <td>437499</td>\n",
              "      <td>135870</td>\n",
              "      <td>330052</td>\n",
              "      <td>330052</td>\n",
              "      <td>330052</td>\n",
              "      <td>268946</td>\n",
              "      <td>197059</td>\n",
              "      <td>347752</td>\n",
              "      <td>271673</td>\n",
              "      <td>271687</td>\n",
              "      <td>271687</td>\n",
              "      <td>141907</td>\n",
              "      <td>136977</td>\n",
              "      <td>125747</td>\n",
              "      <td>136778</td>\n",
              "      <td>136778</td>\n",
              "      <td>136625</td>\n",
              "      <td>136977</td>\n",
              "      <td>136977</td>\n",
              "      <td>136977</td>\n",
              "      <td>136977</td>\n",
              "      <td>136931</td>\n",
              "      <td>115057</td>\n",
              "    </tr>\n",
              "    <tr>\n",
              "      <th>unique</th>\n",
              "      <td>5</td>\n",
              "      <td>4</td>\n",
              "      <td>3</td>\n",
              "      <td>60</td>\n",
              "      <td>60</td>\n",
              "      <td>2</td>\n",
              "      <td>2</td>\n",
              "      <td>2</td>\n",
              "      <td>3</td>\n",
              "      <td>2</td>\n",
              "      <td>2</td>\n",
              "      <td>2</td>\n",
              "      <td>2</td>\n",
              "      <td>2</td>\n",
              "      <td>2</td>\n",
              "      <td>3</td>\n",
              "      <td>2</td>\n",
              "      <td>2</td>\n",
              "      <td>2</td>\n",
              "      <td>135</td>\n",
              "      <td>2</td>\n",
              "      <td>2</td>\n",
              "      <td>2</td>\n",
              "      <td>2</td>\n",
              "      <td>2</td>\n",
              "      <td>2226</td>\n",
              "    </tr>\n",
              "    <tr>\n",
              "      <th>top</th>\n",
              "      <td>W</td>\n",
              "      <td>visa</td>\n",
              "      <td>debit</td>\n",
              "      <td>gmail.com</td>\n",
              "      <td>gmail.com</td>\n",
              "      <td>T</td>\n",
              "      <td>T</td>\n",
              "      <td>T</td>\n",
              "      <td>M0</td>\n",
              "      <td>F</td>\n",
              "      <td>F</td>\n",
              "      <td>F</td>\n",
              "      <td>F</td>\n",
              "      <td>T</td>\n",
              "      <td>NotFound</td>\n",
              "      <td>Found</td>\n",
              "      <td>Found</td>\n",
              "      <td>Found</td>\n",
              "      <td>Found</td>\n",
              "      <td>chrome 70.0</td>\n",
              "      <td>T</td>\n",
              "      <td>F</td>\n",
              "      <td>T</td>\n",
              "      <td>F</td>\n",
              "      <td>desktop</td>\n",
              "      <td>Windows</td>\n",
              "    </tr>\n",
              "    <tr>\n",
              "      <th>freq</th>\n",
              "      <td>360987</td>\n",
              "      <td>334882</td>\n",
              "      <td>385021</td>\n",
              "      <td>207448</td>\n",
              "      <td>61738</td>\n",
              "      <td>330021</td>\n",
              "      <td>302855</td>\n",
              "      <td>266513</td>\n",
              "      <td>161384</td>\n",
              "      <td>107664</td>\n",
              "      <td>191577</td>\n",
              "      <td>233230</td>\n",
              "      <td>168399</td>\n",
              "      <td>236279</td>\n",
              "      <td>120895</td>\n",
              "      <td>67962</td>\n",
              "      <td>66481</td>\n",
              "      <td>75581</td>\n",
              "      <td>74338</td>\n",
              "      <td>16054</td>\n",
              "      <td>71650</td>\n",
              "      <td>133287</td>\n",
              "      <td>104697</td>\n",
              "      <td>95058</td>\n",
              "      <td>74403</td>\n",
              "      <td>44988</td>\n",
              "    </tr>\n",
              "  </tbody>\n",
              "</table>\n",
              "</div>"
            ],
            "text/plain": [
              "       ProductCD   card4   card6  ...   id_38 DeviceType DeviceInfo\n",
              "count     506691  503605  503684  ...  136977     136931     115057\n",
              "unique         5       4       3  ...       2          2       2226\n",
              "top            W    visa   debit  ...       F    desktop    Windows\n",
              "freq      360987  334882  385021  ...   95058      74403      44988\n",
              "\n",
              "[4 rows x 26 columns]"
            ]
          },
          "metadata": {
            "tags": []
          },
          "execution_count": 39
        }
      ]
    },
    {
      "cell_type": "markdown",
      "metadata": {
        "colab_type": "text",
        "id": "lcTFNuua2nbv"
      },
      "source": [
        "On remarque que certaines variables catégorielles ont une valeur unique différente dans le train et dans le test. \n",
        "\n",
        "Cela conduira à différentes formes du train et du test. On a alors décidé de supprimer ces variables."
      ]
    },
    {
      "cell_type": "markdown",
      "metadata": {
        "colab_type": "text",
        "id": "3t-_8BNv2nbw"
      },
      "source": [
        "Suppression des variables catégorielles ayant des valeurs uniques différentes dans le train et le test, avant l'encodage"
      ]
    },
    {
      "cell_type": "code",
      "metadata": {
        "colab_type": "code",
        "id": "dgYE2X0V2nbw",
        "outputId": "8f255406-e473-4533-d1c6-12cb53fd2f91",
        "colab": {
          "base_uri": "https://localhost:8080/",
          "height": 34
        }
      },
      "source": [
        "A = []\n",
        "for i in X_testCategorical.columns:\n",
        "  if len(X_testCategorical[i].value_counts()) != len(categoricalFeatures[i].value_counts()):\n",
        "    A.append(i)\n",
        "A"
      ],
      "execution_count": 40,
      "outputs": [
        {
          "output_type": "execute_result",
          "data": {
            "text/plain": [
              "['card6', 'P_emaildomain', 'id_31', 'DeviceInfo']"
            ]
          },
          "metadata": {
            "tags": []
          },
          "execution_count": 40
        }
      ]
    },
    {
      "cell_type": "markdown",
      "metadata": {
        "colab_type": "text",
        "id": "XG9G81pG2nb1"
      },
      "source": [
        ""
      ]
    },
    {
      "cell_type": "code",
      "metadata": {
        "colab_type": "code",
        "id": "g9tnxCjh2nb1",
        "colab": {}
      },
      "source": [
        "categoricalFeatures = categoricalFeatures.drop(A, axis = 1)\n",
        "X_testCategorical = X_testCategorical.drop(A, axis = 1)"
      ],
      "execution_count": 0,
      "outputs": []
    },
    {
      "cell_type": "markdown",
      "metadata": {
        "colab_type": "text",
        "id": "rRA_l_ke2nb5"
      },
      "source": [
        "## Les chaînes de caractères : one hot encoder"
      ]
    },
    {
      "cell_type": "markdown",
      "metadata": {
        "colab_type": "text",
        "id": "L69fbY5s2nb5"
      },
      "source": [
        "On utilise la méthode _get_dummies_ pour coder les variables catégorielles du train et du test"
      ]
    },
    {
      "cell_type": "code",
      "metadata": {
        "colab_type": "code",
        "id": "rwi4Zfea2nb7",
        "colab": {}
      },
      "source": [
        "def encodingTrain():\n",
        "  x = pd.get_dummies(categoricalFeatures, columns= categoricalFeatures.columns)\n",
        "  return x.join(numericalFeatures) "
      ],
      "execution_count": 0,
      "outputs": []
    },
    {
      "cell_type": "code",
      "metadata": {
        "colab_type": "code",
        "id": "HJv8nB152nb-",
        "colab": {}
      },
      "source": [
        "X_trainEncoded = encodingTrain()"
      ],
      "execution_count": 0,
      "outputs": []
    },
    {
      "cell_type": "code",
      "metadata": {
        "colab_type": "code",
        "id": "Zinmg6u_2ncD",
        "colab": {}
      },
      "source": [
        "def encodingTest():\n",
        "  x = pd.get_dummies(X_testCategorical, columns= X_testCategorical.columns) \n",
        "  return x.join(X_testNumerical)"
      ],
      "execution_count": 0,
      "outputs": []
    },
    {
      "cell_type": "code",
      "metadata": {
        "colab_type": "code",
        "id": "dug36_L92ncG",
        "colab": {}
      },
      "source": [
        "X_testEncoded = encodingTest()"
      ],
      "execution_count": 0,
      "outputs": []
    },
    {
      "cell_type": "markdown",
      "metadata": {
        "colab_type": "text",
        "id": "2ayGhH0e2ncJ"
      },
      "source": [
        "On vérifie la forme des ensembles du train et du test après l'encodage"
      ]
    },
    {
      "cell_type": "code",
      "metadata": {
        "colab_type": "code",
        "id": "m6vBT0Iw2ncK",
        "outputId": "088912cc-6b7f-41ef-8f65-4d88220f05b9",
        "colab": {
          "base_uri": "https://localhost:8080/",
          "height": 34
        }
      },
      "source": [
        "X_trainEncoded.shape, X_testEncoded.shape, y_train.shape"
      ],
      "execution_count": 46,
      "outputs": [
        {
          "output_type": "execute_result",
          "data": {
            "text/plain": [
              "((590540, 126), (506691, 126), (590540,))"
            ]
          },
          "metadata": {
            "tags": []
          },
          "execution_count": 46
        }
      ]
    },
    {
      "cell_type": "markdown",
      "metadata": {
        "colab_type": "text",
        "id": "t2bKYcv92ncM"
      },
      "source": [
        "On vérifie si y a pas de NAN dans le train et le test après l'encodage"
      ]
    },
    {
      "cell_type": "code",
      "metadata": {
        "colab_type": "code",
        "id": "JH3qh_aK2ncM",
        "outputId": "6b62a530-2fb5-4486-94db-453a24fa2a82",
        "colab": {
          "base_uri": "https://localhost:8080/",
          "height": 34
        }
      },
      "source": [
        "nonNull = X_trainEncoded.isnull().sum() != 0\n",
        "columnNonNull = X_trainEncoded.columns[nonNull]\n",
        "columnNonNull"
      ],
      "execution_count": 47,
      "outputs": [
        {
          "output_type": "execute_result",
          "data": {
            "text/plain": [
              "Index([], dtype='object')"
            ]
          },
          "metadata": {
            "tags": []
          },
          "execution_count": 47
        }
      ]
    },
    {
      "cell_type": "code",
      "metadata": {
        "colab_type": "code",
        "id": "5-Ht9sXm2ncO",
        "outputId": "af7b35c4-57db-4043-9337-e802939aa30a",
        "colab": {
          "base_uri": "https://localhost:8080/",
          "height": 34
        }
      },
      "source": [
        "nonNull = X_testEncoded.isnull().sum() != 0\n",
        "columnNonNull = X_testEncoded.columns[nonNull]\n",
        "columnNonNull"
      ],
      "execution_count": 48,
      "outputs": [
        {
          "output_type": "execute_result",
          "data": {
            "text/plain": [
              "Index([], dtype='object')"
            ]
          },
          "metadata": {
            "tags": []
          },
          "execution_count": 48
        }
      ]
    },
    {
      "cell_type": "markdown",
      "metadata": {
        "colab_type": "text",
        "id": "5exQCBlO2ncQ"
      },
      "source": [
        "On vérifie si le nom des colonnes dans le train et le test est le même"
      ]
    },
    {
      "cell_type": "code",
      "metadata": {
        "colab_type": "code",
        "id": "kwvGwyZf2ncR",
        "outputId": "61fe8a7c-62c8-490f-8784-4e0daad6727c",
        "colab": {
          "base_uri": "https://localhost:8080/",
          "height": 34
        }
      },
      "source": [
        "A = X_trainEncoded.columns == X_testEncoded.columns\n",
        "A.sum() == len(X_trainEncoded.columns)"
      ],
      "execution_count": 49,
      "outputs": [
        {
          "output_type": "execute_result",
          "data": {
            "text/plain": [
              "True"
            ]
          },
          "metadata": {
            "tags": []
          },
          "execution_count": 49
        }
      ]
    },
    {
      "cell_type": "markdown",
      "metadata": {
        "id": "JYdjiHX5ks_z",
        "colab_type": "text"
      },
      "source": [
        "Le nom des colonnes dans le train et dans le test est le même. "
      ]
    },
    {
      "cell_type": "markdown",
      "metadata": {
        "id": "OZKXJVElK3Ut",
        "colab_type": "text"
      },
      "source": [
        "Nous définissons la fonction saveCSV pour la soumission sur Kaggle. Cette fonction renvoie les probabilités prédites enregistrées dans un fichier csv."
      ]
    },
    {
      "cell_type": "code",
      "metadata": {
        "id": "nHZ94DLXLAay",
        "colab_type": "code",
        "colab": {}
      },
      "source": [
        "def saveCSV(predictedProba, filename=\"submission.csv\"):\n",
        "    predictedProba.to_csv(filename, index= False)"
      ],
      "execution_count": 0,
      "outputs": []
    },
    {
      "cell_type": "markdown",
      "metadata": {
        "id": "oXMmgoaXks_z",
        "colab_type": "text"
      },
      "source": [
        "# Selection de variables avec Lasso"
      ]
    },
    {
      "cell_type": "markdown",
      "metadata": {
        "id": "5vtkvqrNks_0",
        "colab_type": "text"
      },
      "source": [
        "### Variables sélectionner par Lasso pour  $\\lambda$=1"
      ]
    },
    {
      "cell_type": "code",
      "metadata": {
        "id": "ev2HQ-OZks_0",
        "colab_type": "code",
        "colab": {}
      },
      "source": [
        "lasso = linear_model.Lasso(alpha=1)\n",
        "lasso.fit(X_trainEncoded,y_train)\n",
        "coef = lasso.coef_\n",
        "col = X_trainEncoded.columns\n",
        "var = col[coef!=0]\n",
        "X_lasso = X_trainEncoded[var]"
      ],
      "execution_count": 0,
      "outputs": []
    },
    {
      "cell_type": "code",
      "metadata": {
        "id": "oXFyCcHEks_2",
        "colab_type": "code",
        "outputId": "d8ca594a-e2ec-412d-81ea-897bccf52d17",
        "colab": {
          "base_uri": "https://localhost:8080/",
          "height": 52
        }
      },
      "source": [
        "print(len(var))\n",
        "print(var)"
      ],
      "execution_count": 0,
      "outputs": [
        {
          "output_type": "stream",
          "text": [
            "0\n",
            "Index([], dtype='object')\n"
          ],
          "name": "stdout"
        }
      ]
    },
    {
      "cell_type": "markdown",
      "metadata": {
        "id": "1_vQFH1tks_3",
        "colab_type": "text"
      },
      "source": [
        "###  Variables sélectionner par Lasso pour $\\lambda$ =0.1 "
      ]
    },
    {
      "cell_type": "code",
      "metadata": {
        "id": "kLduu_kwks_4",
        "colab_type": "code",
        "colab": {}
      },
      "source": [
        "lasso_01 = linear_model.Lasso(alpha=0.1)\n",
        "lasso_01.fit(X_trainEncoded,y_train)\n",
        "coef_01 = lasso_01.coef_\n",
        "col_01 = X_trainEncoded.columns\n",
        "var_01 = col_01[coef_01!=0]\n",
        "X_lasso_01 = X_trainEncoded[var_01]"
      ],
      "execution_count": 0,
      "outputs": []
    },
    {
      "cell_type": "code",
      "metadata": {
        "id": "deG1pJ6vks_5",
        "colab_type": "code",
        "outputId": "6fe80d8c-c13d-4113-ef5d-7cd3783b23f2",
        "colab": {
          "base_uri": "https://localhost:8080/",
          "height": 52
        }
      },
      "source": [
        "print(len(var_01))\n",
        "print(var_01)"
      ],
      "execution_count": 0,
      "outputs": [
        {
          "output_type": "stream",
          "text": [
            "0\n",
            "Index([], dtype='object')\n"
          ],
          "name": "stdout"
        }
      ]
    },
    {
      "cell_type": "markdown",
      "metadata": {
        "colab_type": "text",
        "id": "EnsxmCx12ncV"
      },
      "source": [
        "# Prédiction de la probabilité du nombre de fraudes"
      ]
    },
    {
      "cell_type": "code",
      "metadata": {
        "colab_type": "code",
        "id": "JN8w9D9g2ncV",
        "colab": {}
      },
      "source": [
        "Y = y_train \n",
        "X = X_trainEncoded"
      ],
      "execution_count": 0,
      "outputs": []
    },
    {
      "cell_type": "markdown",
      "metadata": {
        "colab_type": "text",
        "id": "IMjiMUln2nca"
      },
      "source": [
        "#### Split nos données en train(67%) et test(33%)"
      ]
    },
    {
      "cell_type": "code",
      "metadata": {
        "colab_type": "code",
        "id": "8OgWb_bC2ncb",
        "colab": {}
      },
      "source": [
        "X_train, X_test, y_train, y_test = train_test_split(X, Y, test_size=0.33, random_state=42)"
      ],
      "execution_count": 0,
      "outputs": []
    },
    {
      "cell_type": "markdown",
      "metadata": {
        "colab_type": "text",
        "id": "W6ikeHvy2ncd"
      },
      "source": [
        "## Naive Bayes"
      ]
    },
    {
      "cell_type": "code",
      "metadata": {
        "colab_type": "code",
        "id": "KC659fuw2ncd",
        "outputId": "0d3edc63-d831-45b7-f26b-940e030f8dfa",
        "colab": {}
      },
      "source": [
        "gnb = GaussianNB()\n",
        "gnb.fit(X_train, y_train)\n",
        "print(roc_auc_score(y_test,gnb.predict_proba(X_test)[:,1] ))"
      ],
      "execution_count": 0,
      "outputs": [
        {
          "output_type": "stream",
          "text": [
            "0.5217455403213918\n"
          ],
          "name": "stdout"
        }
      ]
    },
    {
      "cell_type": "markdown",
      "metadata": {
        "colab_type": "text",
        "id": "lKJXBYQ-2nch"
      },
      "source": [
        "## Knn"
      ]
    },
    {
      "cell_type": "code",
      "metadata": {
        "colab_type": "code",
        "id": "Na5_cy-r2nch",
        "colab": {}
      },
      "source": [
        "knn = KNeighborsClassifier()\n",
        "# on crée un dictionnaire pour les nombres de voisins n_neighbors que l'on veut tester \n",
        "param_grid = {'n_neighbors': np.arange(1, 5)}\n",
        "\n",
        "#on utilise gridsearch pour tester toutes les valeurs de n_neighbors\n",
        "knn_gscv = GridSearchCV(knn, param_grid, cv=5)\n",
        "\n",
        "#on fit le modèle\n",
        "knn_best = knn_gscv.fit(X_train, y_train)"
      ],
      "execution_count": 0,
      "outputs": []
    },
    {
      "cell_type": "code",
      "metadata": {
        "colab_type": "code",
        "id": "GCOykebt2nck",
        "outputId": "028455d2-7d32-4895-9ff8-b725ea7ebfb7",
        "colab": {}
      },
      "source": [
        "# la meilleure valeur de n_neighbors vaut 2\n",
        "knn_gscv.best_params_"
      ],
      "execution_count": 0,
      "outputs": [
        {
          "output_type": "execute_result",
          "data": {
            "text/plain": [
              "{'n_neighbors': 2}"
            ]
          },
          "metadata": {
            "tags": []
          },
          "execution_count": 139
        }
      ]
    },
    {
      "cell_type": "code",
      "metadata": {
        "colab_type": "code",
        "id": "XNp35Fzj2ncm",
        "outputId": "8fa9d0ac-fade-4281-af7c-ab3b338b8695",
        "colab": {}
      },
      "source": [
        "#la moyenne des score pour cette valeur de n_neighbors \n",
        "knn_gscv.best_score_\n"
      ],
      "execution_count": 0,
      "outputs": [
        {
          "output_type": "execute_result",
          "data": {
            "text/plain": [
              "0.9805970149253731"
            ]
          },
          "metadata": {
            "tags": []
          },
          "execution_count": 140
        }
      ]
    },
    {
      "cell_type": "markdown",
      "metadata": {
        "colab_type": "text",
        "id": "0NtfKqJp2ncp"
      },
      "source": [
        "Pour cette valeur du nombre de voisins, l'accuracy sur le train est de 0.98"
      ]
    },
    {
      "cell_type": "code",
      "metadata": {
        "colab_type": "code",
        "id": "hBL25KOm2ncq",
        "outputId": "520a1bac-d4d0-456a-e1ab-92a7be41bf53",
        "colab": {}
      },
      "source": [
        "pred= knn_best.predict(X_test)\n",
        "roc_auc_score(y_test, pred)"
      ],
      "execution_count": 0,
      "outputs": [
        {
          "output_type": "execute_result",
          "data": {
            "text/plain": [
              "0.5"
            ]
          },
          "metadata": {
            "tags": []
          },
          "execution_count": 141
        }
      ]
    },
    {
      "cell_type": "markdown",
      "metadata": {
        "colab_type": "text",
        "id": "tk7uY0wJ2ncs"
      },
      "source": [
        "## Régression logistique"
      ]
    },
    {
      "cell_type": "code",
      "metadata": {
        "colab_type": "code",
        "id": "t_dTF6Z12ncs",
        "colab": {}
      },
      "source": [
        "def temps(second):\n",
        "    m, s = divmod(second, 60)\n",
        "    h, m = divmod(m, 60)\n",
        "    print(\"temps :\",'{:02.0f}:{:02.0f}:{:02.0f}'.format(h, m, s))"
      ],
      "execution_count": 0,
      "outputs": []
    },
    {
      "cell_type": "markdown",
      "metadata": {
        "colab_type": "text",
        "id": "jdxG7XYA2ncu"
      },
      "source": [
        "### Regression logistique avec toutes nos variables "
      ]
    },
    {
      "cell_type": "code",
      "metadata": {
        "colab_type": "code",
        "id": "tGP31Npy2ncu",
        "outputId": "5e0b2e5f-2d4c-4203-ef73-0be19c78b4eb",
        "colab": {}
      },
      "source": [
        "tstart = time.time()\n",
        "log = LogisticRegression(random_state=0).fit(X_train, y_train)\n",
        "pred_train = log.predict_proba(X_train)\n",
        "print(\"score auc train :\",roc_auc_score(y_train, pred_train[:, 1]))\n",
        "tend = time.time()\n",
        "temps(tend-tstart)"
      ],
      "execution_count": 0,
      "outputs": [
        {
          "output_type": "stream",
          "text": [
            "score auc train : 0.8054662789997558\n",
            "temps : 00:00:23\n"
          ],
          "name": "stdout"
        }
      ]
    },
    {
      "cell_type": "code",
      "metadata": {
        "colab_type": "code",
        "id": "pK65SJ3R2ncy",
        "outputId": "9adb8943-fd2f-49dc-8ffd-c80e98101957",
        "colab": {}
      },
      "source": [
        "tstart = time.time()\n",
        "pred_test = log.predict_proba(X_test)\n",
        "print(\"score auc test :\",roc_auc_score(y_test, pred_test[:, 1]))\n",
        "tend = time.time()\n",
        "temps(tend-tstart)"
      ],
      "execution_count": 0,
      "outputs": [
        {
          "output_type": "stream",
          "text": [
            "score auc test : 0.8097394092924868\n",
            "temps : 00:00:00\n"
          ],
          "name": "stdout"
        }
      ]
    },
    {
      "cell_type": "markdown",
      "metadata": {
        "colab_type": "text",
        "id": "35vLVAE92nc2"
      },
      "source": [
        "### Regression logistique avec cross validation"
      ]
    },
    {
      "cell_type": "markdown",
      "metadata": {
        "colab_type": "text",
        "id": "Nngls47d2nc2"
      },
      "source": [
        "#### cross validation sur toutes nos données avec les paramètres par défaut"
      ]
    },
    {
      "cell_type": "code",
      "metadata": {
        "colab_type": "code",
        "id": "X4nxJe2_2nc3",
        "outputId": "81f22991-06fd-4304-e544-f4ff4d54c2c1",
        "colab": {}
      },
      "source": [
        "tstart = time.time()\n",
        "log_cv = LogisticRegression(random_state=0)\n",
        "scores = cross_val_score(log_cv, X, Y, cv=5,scoring='roc_auc')\n",
        "print(\"score auc :\",scores)\n",
        "tend = time.time()\n",
        "temps(tend-tstart)"
      ],
      "execution_count": 0,
      "outputs": [
        {
          "output_type": "stream",
          "text": [
            "score auc : [0.75066592 0.7903439  0.78599131 0.82677556 0.80117794]\n",
            "temps : 00:02:10\n"
          ],
          "name": "stdout"
        }
      ]
    },
    {
      "cell_type": "markdown",
      "metadata": {
        "colab_type": "text",
        "id": "mM-nJXrl2nc4"
      },
      "source": [
        "On peut constater que l'on obtient un auc de $\\approx$ 0.827 qui est le plus élevé obtenu jusqu'à présent"
      ]
    },
    {
      "cell_type": "markdown",
      "metadata": {
        "colab_type": "text",
        "id": "YQG_xJ7l2nc5"
      },
      "source": [
        "### Optimisation des hyperparamètres"
      ]
    },
    {
      "cell_type": "markdown",
      "metadata": {
        "colab_type": "text",
        "id": "FR78r-Is2nc5"
      },
      "source": [
        "#### Identification des meilleurs paramètres pour la pénalité l2"
      ]
    },
    {
      "cell_type": "code",
      "metadata": {
        "colab_type": "code",
        "id": "xHGzxAjo2nc6",
        "colab": {}
      },
      "source": [
        "lgr_l2 = LogisticRegression(penalty = 'l2', random_state = 0, n_jobs=-1)\n",
        "params = {'solver' : ('newton-cg', 'lbfgs', 'sag', 'saga'), 'class_weight' :('balanced', None)}\n",
        "lgr_l2_best = GridSearchCV(lgr_l2, params, scoring='roc_auc')\n",
        "lgr_l2_best_fit = lgr_l2_best.fit(X_train,y_train)"
      ],
      "execution_count": 0,
      "outputs": []
    },
    {
      "cell_type": "code",
      "metadata": {
        "colab_type": "code",
        "id": "I1wE_DmV2nc-",
        "outputId": "50e88105-e39a-46b1-9013-7032e99c8a26",
        "colab": {}
      },
      "source": [
        "lgr_l2_best.best_params_"
      ],
      "execution_count": 0,
      "outputs": [
        {
          "output_type": "execute_result",
          "data": {
            "text/plain": [
              "{'class_weight': 'balanced', 'solver': 'newton-cg'}"
            ]
          },
          "metadata": {
            "tags": []
          },
          "execution_count": 30
        }
      ]
    },
    {
      "cell_type": "code",
      "metadata": {
        "colab_type": "code",
        "id": "bZXWAjkh2ndA",
        "outputId": "851660ca-ccd2-49dd-81a9-b73081f9a486",
        "colab": {}
      },
      "source": [
        "lgr_l2_best.best_score_"
      ],
      "execution_count": 0,
      "outputs": [
        {
          "output_type": "execute_result",
          "data": {
            "text/plain": [
              "0.8055216118850096"
            ]
          },
          "metadata": {
            "tags": []
          },
          "execution_count": 31
        }
      ]
    },
    {
      "cell_type": "code",
      "metadata": {
        "colab_type": "code",
        "id": "RyfKyhTF2ndC",
        "outputId": "3fc28eca-f679-4229-e03e-14c399e147ae",
        "colab": {}
      },
      "source": [
        "pred_test = lgr_l2_best_fit.predict_proba(X_test)\n",
        "roc_auc_score(y_test, pred_test[:, 1])"
      ],
      "execution_count": 0,
      "outputs": [
        {
          "output_type": "execute_result",
          "data": {
            "text/plain": [
              "0.8119454421906513"
            ]
          },
          "metadata": {
            "tags": []
          },
          "execution_count": 32
        }
      ]
    },
    {
      "cell_type": "code",
      "metadata": {
        "colab_type": "code",
        "id": "nhX5vEt42ndE",
        "colab": {}
      },
      "source": [
        "lgr_c = LogisticRegression(solver ='newton-cg', penalty = 'l2', class_weight = 'balanced', random_state = 0, n_jobs=-1)\n",
        "params = {'C': np.arange(1,10,1)}\n",
        "lgr_c_best = GridSearchCV(lgr_c, params, scoring='roc_auc')\n",
        "lgr_c_best_fit = lgr_c_best.fit(X_train,y_train)"
      ],
      "execution_count": 0,
      "outputs": []
    },
    {
      "cell_type": "code",
      "metadata": {
        "colab_type": "code",
        "id": "9kOTplxWSVof",
        "outputId": "bfb5d05c-ba96-4d9c-a6bf-f0fe7d85eaf4",
        "colab": {}
      },
      "source": [
        "lgr_c_best.best_params_"
      ],
      "execution_count": 0,
      "outputs": [
        {
          "output_type": "execute_result",
          "data": {
            "text/plain": [
              "{'C': 9}"
            ]
          },
          "metadata": {
            "tags": []
          },
          "execution_count": 20
        }
      ]
    },
    {
      "cell_type": "code",
      "metadata": {
        "colab_type": "code",
        "id": "x0oMW9B4SVoh",
        "outputId": "f5be7b5c-3681-4999-90b6-3d15af5ae8cf",
        "colab": {}
      },
      "source": [
        "lgr_c_best.best_score_"
      ],
      "execution_count": 0,
      "outputs": [
        {
          "output_type": "execute_result",
          "data": {
            "text/plain": [
              "0.8055401953763077"
            ]
          },
          "metadata": {
            "tags": []
          },
          "execution_count": 21
        }
      ]
    },
    {
      "cell_type": "code",
      "metadata": {
        "colab_type": "code",
        "id": "86_in3tKSVoi",
        "outputId": "69caaeb3-eb58-4ab7-ec8b-7dc5a59fd332",
        "colab": {}
      },
      "source": [
        "pred_test = lgr_c_best_fit.predict_proba(X_test)\n",
        "roc_auc_score(y_test, pred_test[:, 1])"
      ],
      "execution_count": 0,
      "outputs": [
        {
          "output_type": "execute_result",
          "data": {
            "text/plain": [
              "0.8120140496615683"
            ]
          },
          "metadata": {
            "tags": []
          },
          "execution_count": 22
        }
      ]
    },
    {
      "cell_type": "markdown",
      "metadata": {
        "colab_type": "text",
        "id": "lppcSlrPdLzx"
      },
      "source": [
        "Nous obtenons que pour la pénalité l2, les meilleurs paramètres sont solver ='newton-cg', C=9 et class_weight = 'balanced'."
      ]
    },
    {
      "cell_type": "markdown",
      "metadata": {
        "colab_type": "text",
        "id": "ap7JNv41SVoo"
      },
      "source": [
        "#### Identification des meilleurs paramètres pour la pénalité l1\n",
        "\n",
        "Le solver 'saga' est un solver qui fonctionne bien avec la pénalité l1 et avec les grands jeu de données, ce qui est notre cas ici."
      ]
    },
    {
      "cell_type": "code",
      "metadata": {
        "colab_type": "code",
        "id": "57_JZpBN2ndM",
        "colab": {}
      },
      "source": [
        "lgr_l1 = LogisticRegression(solver ='saga', penalty = 'l1', random_state = 0, n_jobs=-1)\n",
        "params = {'C': np.arange(0.1,1.1,0.1), 'class_weight' :('balanced', None)}\n",
        "lgr_l1_best = GridSearchCV(lgr_l1, params, scoring='roc_auc')\n",
        "lgr_l1_best_fit = lgr_l1_best.fit(X_train,y_train)"
      ],
      "execution_count": 0,
      "outputs": []
    },
    {
      "cell_type": "code",
      "metadata": {
        "colab_type": "code",
        "id": "ze0WJWpF2ndO",
        "outputId": "d4d2b58c-a121-4d14-ac0a-ad145efb811b",
        "colab": {}
      },
      "source": [
        "lgr_l1_best.best_params_"
      ],
      "execution_count": 0,
      "outputs": [
        {
          "output_type": "execute_result",
          "data": {
            "text/plain": [
              "{'C': 1.0, 'class_weight': 'balanced'}"
            ]
          },
          "metadata": {
            "tags": []
          },
          "execution_count": 11
        }
      ]
    },
    {
      "cell_type": "code",
      "metadata": {
        "colab_type": "code",
        "id": "8APoQouW2ndP",
        "outputId": "7088bafb-f156-4bb8-be49-7ca0234219ca",
        "colab": {}
      },
      "source": [
        "lgr_l1_best.best_score_"
      ],
      "execution_count": 0,
      "outputs": [
        {
          "output_type": "execute_result",
          "data": {
            "text/plain": [
              "0.7996787106833854"
            ]
          },
          "metadata": {
            "tags": []
          },
          "execution_count": 12
        }
      ]
    },
    {
      "cell_type": "code",
      "metadata": {
        "colab_type": "code",
        "id": "VJvk5P_W2ndS",
        "outputId": "5109c49f-fa33-428b-b0ff-8343cf16972b",
        "colab": {}
      },
      "source": [
        "pred_test = lgr_l1_best_fit.predict_proba(X_test)\n",
        "roc_auc_score(y_test, pred_test[:, 1])"
      ],
      "execution_count": 0,
      "outputs": [
        {
          "output_type": "execute_result",
          "data": {
            "text/plain": [
              "0.8067764236155932"
            ]
          },
          "metadata": {
            "tags": []
          },
          "execution_count": 13
        }
      ]
    },
    {
      "cell_type": "code",
      "metadata": {
        "colab_type": "code",
        "id": "5gAivEYK2ndX",
        "colab": {}
      },
      "source": [
        "lgr_l1_ = LogisticRegression(solver ='saga', penalty = 'l1', random_state = 0, class_weight = 'balanced', n_jobs=-1)\n",
        "params = {'C': np.arange(1,11,1)}\n",
        "lgr_l1_best_ = GridSearchCV(lgr_l1_, params, scoring='roc_auc')\n",
        "lgr_l1_best_fit_ = lgr_l1_best_.fit(X_train,y_train)"
      ],
      "execution_count": 0,
      "outputs": []
    },
    {
      "cell_type": "code",
      "metadata": {
        "colab_type": "code",
        "id": "GI8Q_mO72ndZ",
        "outputId": "91c3711a-16d4-4692-a207-316e1425ed81",
        "colab": {}
      },
      "source": [
        "lgr_l1_best_.best_params_"
      ],
      "execution_count": 0,
      "outputs": [
        {
          "output_type": "execute_result",
          "data": {
            "text/plain": [
              "{'C': 10}"
            ]
          },
          "metadata": {
            "tags": []
          },
          "execution_count": 7
        }
      ]
    },
    {
      "cell_type": "code",
      "metadata": {
        "colab_type": "code",
        "id": "VK02YpD42nda",
        "outputId": "aa95c8c8-c75b-4788-a7ea-613b85924923",
        "colab": {}
      },
      "source": [
        "lgr_l1_best_.best_score_"
      ],
      "execution_count": 0,
      "outputs": [
        {
          "output_type": "execute_result",
          "data": {
            "text/plain": [
              "0.7997057435970527"
            ]
          },
          "metadata": {
            "tags": []
          },
          "execution_count": 8
        }
      ]
    },
    {
      "cell_type": "code",
      "metadata": {
        "colab_type": "code",
        "id": "bOu0O8LU2ndf",
        "outputId": "b8bafb2f-4d88-495e-c2e9-d318eed1331b",
        "colab": {}
      },
      "source": [
        "pred_test = lgr_l1_best_fit_.predict_proba(X_test)\n",
        "roc_auc_score(y_test, pred_test[:, 1])"
      ],
      "execution_count": 0,
      "outputs": [
        {
          "output_type": "execute_result",
          "data": {
            "text/plain": [
              "0.8067960983068643"
            ]
          },
          "metadata": {
            "tags": []
          },
          "execution_count": 9
        }
      ]
    },
    {
      "cell_type": "markdown",
      "metadata": {
        "colab_type": "text",
        "id": "72Hr4RPMdL0H"
      },
      "source": [
        "Nous obtenons que pour la pénalité l1, les meilleurs paramètres sont C=10 et class_weight = 'balanced'."
      ]
    },
    {
      "cell_type": "markdown",
      "metadata": {
        "colab_type": "text",
        "id": "DlVgS22h2ndg"
      },
      "source": [
        "#### Comparaison entre la pénalité l1 et l2\n",
        "\n",
        "La pénalité l1 n'est pas supporté par le solver 'newton-cg'. Toutefois, les pénalités l1 et l2 fonctionnent toute les deux avec le solver 'saga'."
      ]
    },
    {
      "cell_type": "code",
      "metadata": {
        "colab_type": "code",
        "id": "gHjflkUi2ndh",
        "colab": {}
      },
      "source": [
        "lgr_l1_l2 = LogisticRegression(solver ='saga', class_weight = 'balanced', random_state = 0, n_jobs=-1)\n",
        "params = {'penalty' : ('l2','l1'), 'C':[9,10]}\n",
        "lgr_l1_l2_best = GridSearchCV(lgr_l1_l2, params, scoring='roc_auc')\n",
        "lgr_l1_l2_best_fit = lgr_l1_l2_best.fit(X_train,y_train)"
      ],
      "execution_count": 0,
      "outputs": []
    },
    {
      "cell_type": "code",
      "metadata": {
        "colab_type": "code",
        "id": "Jf8HIJLS2ndi",
        "outputId": "71fc2a17-8fd3-48ef-9c57-ef7474591df8",
        "colab": {}
      },
      "source": [
        "lgr_l1_l2_best.best_params_"
      ],
      "execution_count": 0,
      "outputs": [
        {
          "output_type": "execute_result",
          "data": {
            "text/plain": [
              "{'C': 10, 'penalty': 'l2'}"
            ]
          },
          "metadata": {
            "tags": []
          },
          "execution_count": 24
        }
      ]
    },
    {
      "cell_type": "markdown",
      "metadata": {
        "colab_type": "text",
        "id": "42F4RaQIdL0M"
      },
      "source": [
        "Nous obtenons que la meilleure pénalité est la l2 et pour C=10 pour le solver 'saga'."
      ]
    },
    {
      "cell_type": "markdown",
      "metadata": {
        "colab_type": "text",
        "id": "NixhwiM62ndn"
      },
      "source": [
        "#### Identification des meilleurs paramètres pour la pénalité elasticnet \n",
        "\n",
        "La pénalité elasticnet est une pénalité qui se base sur la l1 et l2 en fonction du l1_ration. Plus ce ration est proche de 1, plus la pénalité est semblable à la l1. Si ce ratio est égale à 0, cela correspond à une pénalité l2 et s'il est égale à 1, à une pénalité l1. \n",
        "\n",
        "La pénalité elasticnet est supporté qu'avec le solver 'saga'."
      ]
    },
    {
      "cell_type": "code",
      "metadata": {
        "colab_type": "code",
        "id": "yKv_Ye4D2ndo",
        "colab": {}
      },
      "source": [
        "lgr_elas = LogisticRegression(solver = 'saga', penalty = 'elasticnet', random_state = 0, class_weight='balanced', n_jobs=-1)\n",
        "params = {'l1_ratio' : np.arange(0,1.1,0.1)}\n",
        "lgr_elas_best = GridSearchCV(lgr_elas, params, scoring='roc_auc')\n",
        "lgr_elas_best_fit = lgr_elas_best.fit(X_train,y_train)"
      ],
      "execution_count": 0,
      "outputs": []
    },
    {
      "cell_type": "code",
      "metadata": {
        "colab_type": "code",
        "id": "97mbY4aG2ndp",
        "outputId": "b1de16f2-62cd-4c56-afcd-2e8d38ac54a4",
        "colab": {}
      },
      "source": [
        "lgr_elas_best.best_params_"
      ],
      "execution_count": 0,
      "outputs": [
        {
          "output_type": "execute_result",
          "data": {
            "text/plain": [
              "{'l1_ratio': 0.0}"
            ]
          },
          "metadata": {
            "tags": []
          },
          "execution_count": 35
        }
      ]
    },
    {
      "cell_type": "code",
      "metadata": {
        "colab_type": "code",
        "id": "ca4SORvF2ndr",
        "outputId": "f678af09-000a-42a0-f6e1-96e569ca4891",
        "colab": {}
      },
      "source": [
        "lgr_elas_best.best_score_"
      ],
      "execution_count": 0,
      "outputs": [
        {
          "output_type": "execute_result",
          "data": {
            "text/plain": [
              "0.7996890378398178"
            ]
          },
          "metadata": {
            "tags": []
          },
          "execution_count": 36
        }
      ]
    },
    {
      "cell_type": "code",
      "metadata": {
        "colab_type": "code",
        "id": "sZCBPFFF2ndt",
        "outputId": "5105664e-692c-4024-9123-58f9e17568d8",
        "colab": {}
      },
      "source": [
        "pred_test = lgr_elas_best_fit.predict_proba(X_test)\n",
        "roc_auc_score(y_test, pred_test[:, 1])"
      ],
      "execution_count": 0,
      "outputs": [
        {
          "output_type": "execute_result",
          "data": {
            "text/plain": [
              "0.8067821338187913"
            ]
          },
          "metadata": {
            "tags": []
          },
          "execution_count": 37
        }
      ]
    },
    {
      "cell_type": "markdown",
      "metadata": {
        "colab_type": "text",
        "id": "OFz3NvXU2ndv"
      },
      "source": [
        "Nous avons comme meilleur paramètre un ratio égalé à 0, ce qui est équivalent à prendre la pénalité l2."
      ]
    },
    {
      "cell_type": "markdown",
      "metadata": {
        "colab_type": "text",
        "id": "y2PAAK-mdL0Z"
      },
      "source": [
        "#### Kfold avec les meilleurs paramètres"
      ]
    },
    {
      "cell_type": "code",
      "metadata": {
        "colab_type": "code",
        "id": "0TCVQnGK2ndv",
        "outputId": "493214a5-0cc5-4a1b-fd96-fc98156fc301",
        "colab": {}
      },
      "source": [
        "tstart = time.time()\n",
        "lgr_best = LogisticRegression(solver = 'newton-cg', penalty = 'l2', C=9, class_weight = 'balanced', n_jobs=-1, random_state=0)\n",
        "scores = cross_val_score(lgr_best, X, Y, cv=5,scoring='roc_auc')\n",
        "print(\"score auc :\",scores)\n",
        "tend = time.time()\n",
        "temps(tend-tstart)"
      ],
      "execution_count": 0,
      "outputs": [
        {
          "output_type": "stream",
          "text": [
            "score auc : [0.76952744 0.78977571 0.78636476 0.82787014 0.80076755]\n",
            "temps : 01:41:19\n"
          ],
          "name": "stdout"
        }
      ]
    },
    {
      "cell_type": "markdown",
      "metadata": {
        "colab_type": "text",
        "id": "oqiDfWModL0c"
      },
      "source": [
        "Nous obtenons un auc allant jusqu'à 0.827."
      ]
    },
    {
      "cell_type": "markdown",
      "metadata": {
        "colab_type": "text",
        "id": "IDirwRCc2ndw"
      },
      "source": [
        "## Random Forest"
      ]
    },
    {
      "cell_type": "code",
      "metadata": {
        "colab_type": "code",
        "id": "gPcAvhna2ndx",
        "outputId": "8095efda-d5fc-446e-8bf9-905e50502766",
        "colab": {}
      },
      "source": [
        "#Création du modèle\n",
        "tstart = time.time()\n",
        "rf = RandomForestClassifier(n_jobs=-1, n_estimators = 40,max_features = 'sqrt')\n",
        "rf_fit=rf.fit(X_train, y_train)\n",
        "tend = time.time()\n",
        "temps(tend-tstart)"
      ],
      "execution_count": 0,
      "outputs": [
        {
          "output_type": "stream",
          "text": [
            "temps : 00:00:17\n"
          ],
          "name": "stdout"
        }
      ]
    },
    {
      "cell_type": "markdown",
      "metadata": {
        "colab_type": "text",
        "id": "iy2ur_B72ndy"
      },
      "source": [
        "Après quelques secondes d'entrainement, le modèle est prêt à faire des prédictions sur les données de test comme suit:"
      ]
    },
    {
      "cell_type": "code",
      "metadata": {
        "colab_type": "code",
        "id": "FqvqmMx22ndz",
        "outputId": "91f7d4fd-9afa-483a-8002-11dd23a88f0c",
        "colab": {}
      },
      "source": [
        "tstart = time.time()\n",
        "rf_predict = rf.predict(X_test)\n",
        "tend = time.time()\n",
        "temps(tend-tstart)"
      ],
      "execution_count": 0,
      "outputs": [
        {
          "output_type": "stream",
          "text": [
            "temps : 00:00:01\n"
          ],
          "name": "stdout"
        }
      ]
    },
    {
      "cell_type": "markdown",
      "metadata": {
        "colab_type": "text",
        "id": "TDLf_8t32nd0"
      },
      "source": [
        "On peut voir combien de noeuds il y a en moyenne pour chaque arbre et la profondeur maximale de chaque arbre. "
      ]
    },
    {
      "cell_type": "code",
      "metadata": {
        "colab_type": "code",
        "id": "GjLISn_52nd0",
        "outputId": "cb9d0a4b-7b54-4609-f4f2-e526ef0e3b62",
        "colab": {}
      },
      "source": [
        "n_nodes = []\n",
        "max_depths = []\n",
        "\n",
        "for ind_tree in rf.estimators_:\n",
        "    n_nodes.append(ind_tree.tree_.node_count)\n",
        "    max_depths.append(ind_tree.tree_.max_depth)\n",
        "    \n",
        "print(f'Average number of nodes {int(np.mean(n_nodes))}')\n",
        "print(f'Average maximum depth {int(np.mean(max_depths))}')\n",
        "\n"
      ],
      "execution_count": 0,
      "outputs": [
        {
          "output_type": "stream",
          "text": [
            "Average number of nodes 33829\n",
            "Average maximum depth 49\n"
          ],
          "name": "stdout"
        }
      ]
    },
    {
      "cell_type": "markdown",
      "metadata": {
        "colab_type": "text",
        "id": "aVQheFEo2nd4"
      },
      "source": [
        "On peut voir que chaque arbre de décision dans la forêt a de nombreux noeuds et est extrêmement profond. Cependant, même si chaque arbre de décision individuel peut s'adapter à un sous-ensemble particulier des données d'entrainement, l'idée est que la forêt aléatoire globale devrait avoir une variance réduite."
      ]
    },
    {
      "cell_type": "markdown",
      "metadata": {
        "colab_type": "text",
        "id": "jYF0zWOG2nd5"
      },
      "source": [
        "**Evaluation des performances:**\n"
      ]
    },
    {
      "cell_type": "code",
      "metadata": {
        "colab_type": "code",
        "id": "yItDmSvl2nd7",
        "outputId": "18dc0878-5899-452c-9afa-ed2381b37273",
        "colab": {}
      },
      "source": [
        "from sklearn.metrics import roc_curve, auc\n",
        "\n",
        "probas = rf.predict_proba(X_test)\n",
        "# probas est une matrice de deux colonnes avec la proabilités d'appartenance à chaque classe\n",
        "\n",
        "fpr, tpr, thresholds = roc_curve(y_test, probas[:, 1])\n",
        "roc_auc = auc(fpr, tpr)\n",
        "print(\"Area under the ROC curve : %f\" % roc_auc)\n",
        "\n",
        "plt.plot(fpr, tpr, label='ROC curve (area = %0.2f)' % roc_auc)\n",
        "plt.plot([0, 1], [0, 1], 'k--')\n",
        "plt.xlim([0.0, 1.0])\n",
        "plt.ylim([0.0, 1.0])\n",
        "plt.xlabel('False Positive Rate')\n",
        "plt.ylabel('True Positive Rate')\n",
        "plt.title('Receiver operating characteristic ')\n",
        "plt.legend(loc=\"lower right\");"
      ],
      "execution_count": 0,
      "outputs": [
        {
          "output_type": "stream",
          "text": [
            "Area under the ROC curve : 0.930455\n"
          ],
          "name": "stdout"
        },
        {
          "output_type": "display_data",
          "data": {
            "image/png": "[encoded data removed]",
            "text/plain": [
              "<Figure size 432x288 with 1 Axes>"
            ]
          },
          "metadata": {
            "tags": []
          }
        }
      ]
    },
    {
      "cell_type": "markdown",
      "metadata": {
        "colab_type": "text",
        "id": "Fra6sboD2nd-"
      },
      "source": [
        "- Matrice de confusion"
      ]
    },
    {
      "cell_type": "code",
      "metadata": {
        "colab_type": "code",
        "id": "r-USIfw02nd_",
        "colab": {}
      },
      "source": [
        "from sklearn.metrics import confusion_matrix\n",
        "import itertools\n",
        "\n",
        "def plot_confusion_matrix(cm, classes,\n",
        "                          normalize=False,\n",
        "                          title='Confusion matrix',\n",
        "                          cmap=plt.cm.Oranges):\n",
        "    \"\"\"\n",
        "    This function prints and plots the confusion matrix.\n",
        "    Normalization can be applied by setting `normalize=True`.\n",
        "    Source: http://scikit-learn.org/stable/auto_examples/model_selection/plot_confusion_matrix.html\n",
        "    \"\"\"\n",
        "    if normalize:\n",
        "        cm = cm.astype('float') / cm.sum(axis=1)[:, np.newaxis]\n",
        "        print(\"Normalized confusion matrix\")\n",
        "    else:\n",
        "        print('Confusion matrix, without normalization')\n",
        "\n",
        "    print(cm)\n",
        "\n",
        "    plt.figure(figsize = (10, 10))\n",
        "    plt.imshow(cm, interpolation='nearest', cmap=cmap)\n",
        "    plt.title(title, size = 24)\n",
        "    plt.colorbar(aspect=4)\n",
        "    tick_marks = np.arange(len(classes))\n",
        "    plt.xticks(tick_marks, classes, rotation=45, size = 14)\n",
        "    plt.yticks(tick_marks, classes, size = 14)\n",
        "\n",
        "    fmt = '.2f' if normalize else 'd'\n",
        "    thresh = cm.max() / 2.\n",
        "    \n",
        "    # Labeling the plot\n",
        "    for i, j in itertools.product(range(cm.shape[0]), range(cm.shape[1])):\n",
        "        plt.text(j, i, format(cm[i, j], fmt), fontsize = 20,\n",
        "                 horizontalalignment=\"center\",\n",
        "                 color=\"white\" if cm[i, j] > thresh else \"black\")\n",
        "        \n",
        "    plt.grid(None)\n",
        "    plt.tight_layout()\n",
        "    plt.ylabel('True label', size = 18)\n",
        "    plt.xlabel('Predicted label', size = 18)"
      ],
      "execution_count": 0,
      "outputs": []
    },
    {
      "cell_type": "code",
      "metadata": {
        "colab_type": "code",
        "id": "urZ92V9o2neB",
        "outputId": "d889c9d7-3bb9-404b-f1f9-6054bcb7f4c6",
        "colab": {}
      },
      "source": [
        "cm = confusion_matrix(y_test, rf_predict)\n",
        "plot_confusion_matrix(cm, classes = ['0', '1'],\n",
        "                      title = 'transaction Confusion Matrix')\n"
      ],
      "execution_count": 0,
      "outputs": [
        {
          "output_type": "stream",
          "text": [
            "Confusion matrix, without normalization\n",
            "[[187717    216]\n",
            " [  3238   3708]]\n"
          ],
          "name": "stdout"
        },
        {
          "output_type": "display_data",
          "data": {
            "image/png": "[encoded data removed]",
            "text/plain": [
              "<Figure size 720x720 with 2 Axes>"
            ]
          },
          "metadata": {
            "tags": []
          }
        }
      ]
    },
    {
      "cell_type": "markdown",
      "metadata": {
        "colab_type": "text",
        "id": "fIZvsZLf2neC"
      },
      "source": [
        "Cela montre les classifications prévues par le modèle sur les données de test ainsi que les labels réels. Nous pouvons voir que notre modèle a de nombreux faux positifs (une transaction non frauduleuse prédite mais en fait une transaction frauduleuse)"
      ]
    },
    {
      "cell_type": "markdown",
      "metadata": {
        "colab_type": "text",
        "id": "mE-NWxlS2neD"
      },
      "source": [
        "**Optimisation Random Forest:**\n",
        "\n",
        "- **Option 1:**\n",
        "\n",
        "On a utilisé RandomizedSearchCV de sklearn pour optimiser nos hyperparamateurs on a décidé de se concentrer sur 3 hyperparamètres: n_estimators, max_features et max_depth."
      ]
    },
    {
      "cell_type": "code",
      "metadata": {
        "colab_type": "code",
        "id": "OPppDwu12neD",
        "colab": {}
      },
      "source": [
        "from sklearn.model_selection import RandomizedSearchCV\n",
        "# number of trees in random forest\n",
        "n_estimators = [int(x) for x in np.linspace(start = 200, stop = 700, num = 10)]\n",
        "max_features = ['auto', 'sqrt']\n",
        "\n",
        "# max depth\n",
        "max_depth = [int(x) for x in np.linspace(100, 500, num = 11)]\n",
        "max_depth.append(None)# create random grid\n",
        "random_grid = {\n",
        " 'n_estimators': n_estimators,\n",
        " 'max_features': max_features,\n",
        " 'max_depth': max_depth\n",
        " }# Random search of parameters\n",
        "rfc_random = RandomizedSearchCV(estimator = rfc, param_distributions = random_grid, n_iter = 100, cv = 3, verbose=2, random_state=42, n_jobs = 1)\n",
        "print(rfc_random.best_params_)"
      ],
      "execution_count": 0,
      "outputs": []
    },
    {
      "cell_type": "markdown",
      "metadata": {
        "colab_type": "text",
        "id": "g9u-nMn12neE"
      },
      "source": [
        "- **Option 2:**\n",
        "\n",
        "Afin de maximiser les performances de notre modèle, on peut effectuer une recherche aléatoire de meilleurs hyperparamètres. Cela sélectionnera de manière aléatoire des combinaisons d'hyperparamètres à partir d'une grille, les évaluera à l'aide d'une validation croisée sur les données d'entraînement et renverra les valeurs les plus performantes."
      ]
    },
    {
      "cell_type": "code",
      "metadata": {
        "colab_type": "code",
        "id": "_kN7ec1W2neE",
        "colab": {}
      },
      "source": [
        "RSEED=50\n",
        "# Hyperparameter grid\n",
        "param_grid = {\n",
        "    'n_estimators': np.linspace(10, 200).astype(int),\n",
        "    'max_depth': [None] + list(np.linspace(3, 20).astype(int)),\n",
        "    'max_features': ['auto', 'sqrt', None] + list(np.arange(0.5, 1, 0.1)),\n",
        "    'max_leaf_nodes': [None] + list(np.linspace(10, 50, 500).astype(int)),\n",
        "    'min_samples_split': [2, 5, 10],\n",
        "    'bootstrap': [True, False]\n",
        "}\n",
        "\n",
        "# Estimator for use in random search\n",
        "estimator = RandomForestClassifier(random_state = RSEED)\n",
        "\n",
        "# Create the random search model\n",
        "rs = RandomizedSearchCV(estimator, param_grid, n_jobs = -1, \n",
        "                        scoring = 'roc_auc', cv = 3, \n",
        "                        n_iter = 10, verbose = 1, random_state=RSEED)\n",
        "\n",
        "# Fit \n",
        "rs.fit(X_train, y_train)"
      ],
      "execution_count": 0,
      "outputs": []
    },
    {
      "cell_type": "markdown",
      "metadata": {
        "colab_type": "text",
        "id": "nEgVq_pd2neF"
      },
      "source": [
        "On a fait tourner cette partie du code sur un ordinateur plus puissant, l'agorithme a fait 300 calculs et 3 fit et pour chaque fit 100 estimation. temps de calcul 9h \n",
        "\n",
        "Résultat: n_estimators = 485, max_features='sqrt',max_depth=164"
      ]
    },
    {
      "cell_type": "markdown",
      "metadata": {
        "colab_type": "text",
        "id": "GSekNYmS2neG"
      },
      "source": [
        "**Variables importantes:**\n",
        "\n",
        "On jete un oeil aux variables considérées comme les plus importantes par notre modèle. Les valeurs sont calculées se basant sur le coefficient de Gini de l'impureté d'un noeud."
      ]
    },
    {
      "cell_type": "code",
      "metadata": {
        "colab_type": "code",
        "id": "gpM2_UW72neG",
        "outputId": "8b17c478-d673-4b76-c1e6-3924bb19a351",
        "colab": {}
      },
      "source": [
        "fi = []\n",
        "fiName = []\n",
        "for feat, importance in zip(X.columns, rf.feature_importances_):\n",
        "  if importance!= 0:\n",
        "      fi.append(importance)\n",
        "      fiName.append(feat)\n",
        "      print('feature: {f}, importance: {i}'.format(f=feat, i=importance))"
      ],
      "execution_count": 0,
      "outputs": [
        {
          "output_type": "stream",
          "text": [
            "feature: ProductCD_C, importance: 0.004154933697053081\n",
            "feature: ProductCD_H, importance: 0.0026548589477266983\n",
            "feature: ProductCD_R, importance: 0.0017924443845828667\n",
            "feature: ProductCD_S, importance: 0.0015268560632431994\n",
            "feature: ProductCD_W, importance: 0.0006456769144813297\n",
            "feature: card4_american express, importance: 0.0011212459464125838\n",
            "feature: card4_discover, importance: 0.003510484230494532\n",
            "feature: card4_mastercard, importance: 0.01004019689366148\n",
            "feature: card4_visa, importance: 0.01058574860279832\n",
            "feature: R_emaildomain_aim.com, importance: 4.219884864920845e-05\n",
            "feature: R_emaildomain_anonymous.com, importance: 0.004740872779379804\n",
            "feature: R_emaildomain_aol.com, importance: 0.0008225190009040987\n",
            "feature: R_emaildomain_att.net, importance: 5.2228840617408393e-05\n",
            "feature: R_emaildomain_bellsouth.net, importance: 4.172146276808486e-05\n",
            "feature: R_emaildomain_cableone.net, importance: 1.086113118724693e-06\n",
            "feature: R_emaildomain_centurylink.net, importance: 4.886501849679743e-09\n",
            "feature: R_emaildomain_cfl.rr.com, importance: 2.110536049477231e-06\n",
            "feature: R_emaildomain_charter.net, importance: 0.00015046888752036418\n",
            "feature: R_emaildomain_comcast.net, importance: 0.000224683285472784\n",
            "feature: R_emaildomain_cox.net, importance: 0.00016574698062813196\n",
            "feature: R_emaildomain_earthlink.net, importance: 0.00013480357681878484\n",
            "feature: R_emaildomain_embarqmail.com, importance: 1.2658338496616108e-05\n",
            "feature: R_emaildomain_frontier.com, importance: 8.00024540592183e-07\n",
            "feature: R_emaildomain_frontiernet.net, importance: 8.200286312888531e-07\n",
            "feature: R_emaildomain_gmail, importance: 8.089417998861124e-06\n",
            "feature: R_emaildomain_gmail.com, importance: 0.009533642304399273\n",
            "feature: R_emaildomain_gmx.de, importance: 1.2285167766191698e-05\n",
            "feature: R_emaildomain_hotmail.co.uk, importance: 2.151881379353637e-05\n",
            "feature: R_emaildomain_hotmail.com, importance: 0.004633609180736583\n",
            "feature: R_emaildomain_hotmail.de, importance: 4.558281314948647e-06\n",
            "feature: R_emaildomain_hotmail.es, importance: 0.000372213114910866\n",
            "feature: R_emaildomain_hotmail.fr, importance: 6.183433972513079e-05\n",
            "feature: R_emaildomain_icloud.com, importance: 0.0011903948640129877\n",
            "feature: R_emaildomain_juno.com, importance: 1.1437974719639957e-06\n",
            "feature: R_emaildomain_live.com, importance: 0.0004188138937233761\n",
            "feature: R_emaildomain_live.com.mx, importance: 0.00039093637539841227\n",
            "feature: R_emaildomain_live.fr, importance: 3.7750175902603194e-06\n",
            "feature: R_emaildomain_mac.com, importance: 3.425572733605776e-05\n",
            "feature: R_emaildomain_mail.com, importance: 0.0006168439212418556\n",
            "feature: R_emaildomain_me.com, importance: 0.0001488217639858474\n",
            "feature: R_emaildomain_msn.com, importance: 7.165257434896091e-05\n",
            "feature: R_emaildomain_netzero.com, importance: 7.664258869610214e-07\n",
            "feature: R_emaildomain_netzero.net, importance: 4.480292502565141e-05\n",
            "feature: R_emaildomain_optonline.net, importance: 6.0487760007699046e-05\n",
            "feature: R_emaildomain_outlook.com, importance: 0.0019500171531312998\n",
            "feature: R_emaildomain_outlook.es, importance: 0.0005254153790837643\n",
            "feature: R_emaildomain_prodigy.net.mx, importance: 6.223616792156584e-05\n",
            "feature: R_emaildomain_protonmail.com, importance: 0.0008200161202525774\n",
            "feature: R_emaildomain_ptd.net, importance: 1.8469356720538105e-08\n",
            "feature: R_emaildomain_q.com, importance: 6.7506787648895584e-09\n",
            "feature: R_emaildomain_roadrunner.com, importance: 8.551669911646447e-06\n",
            "feature: R_emaildomain_rocketmail.com, importance: 0.00010625994527557805\n",
            "feature: R_emaildomain_sbcglobal.net, importance: 5.04082889639494e-05\n",
            "feature: R_emaildomain_sc.rr.com, importance: 7.6602776588763e-08\n",
            "feature: R_emaildomain_scranton.edu, importance: 9.869375430675817e-06\n",
            "feature: R_emaildomain_servicios-ta.com, importance: 9.064834487324959e-07\n",
            "feature: R_emaildomain_suddenlink.net, importance: 2.854731837827706e-06\n",
            "feature: R_emaildomain_twc.com, importance: 1.7932571886827644e-06\n",
            "feature: R_emaildomain_verizon.net, importance: 2.5188194192018884e-05\n",
            "feature: R_emaildomain_web.de, importance: 5.3664444854364005e-05\n",
            "feature: R_emaildomain_windstream.net, importance: 2.11809240083976e-07\n",
            "feature: R_emaildomain_yahoo.co.jp, importance: 2.2414856805694325e-06\n",
            "feature: R_emaildomain_yahoo.co.uk, importance: 2.0197471122070535e-06\n",
            "feature: R_emaildomain_yahoo.com, importance: 0.002592015822303495\n",
            "feature: R_emaildomain_yahoo.com.mx, importance: 0.00042537972045583966\n",
            "feature: R_emaildomain_yahoo.de, importance: 4.073107958084609e-06\n",
            "feature: R_emaildomain_yahoo.es, importance: 5.68809087483367e-05\n",
            "feature: R_emaildomain_yahoo.fr, importance: 0.00010669841140434511\n",
            "feature: R_emaildomain_ymail.com, importance: 6.968615431183983e-05\n",
            "feature: M1_F, importance: 2.28126720647811e-07\n",
            "feature: M1_T, importance: 0.001651630240121945\n",
            "feature: M2_F, importance: 0.0017341278210136278\n",
            "feature: M2_T, importance: 0.002014019246797367\n",
            "feature: M3_F, importance: 0.0022743958323371456\n",
            "feature: M3_T, importance: 0.0023091019924913743\n",
            "feature: M4_M0, importance: 0.005818012841552906\n",
            "feature: M4_M1, importance: 0.0033234189224349404\n",
            "feature: M4_M2, importance: 0.003619671306522146\n",
            "feature: M5_F, importance: 0.002651424250762106\n",
            "feature: M5_T, importance: 0.0035314684967971883\n",
            "feature: M6_F, importance: 0.0053741369079803305\n",
            "feature: M6_T, importance: 0.005331572073233811\n",
            "feature: M7_F, importance: 0.0028429737009456287\n",
            "feature: M7_T, importance: 0.0018180380094541693\n",
            "feature: M8_F, importance: 0.0029376225552204933\n",
            "feature: M8_T, importance: 0.0026151308976314343\n",
            "feature: M9_F, importance: 0.0019479700473257473\n",
            "feature: M9_T, importance: 0.00284579699328469\n",
            "feature: id_12_Found, importance: 0.002199429107878357\n",
            "feature: id_12_NotFound, importance: 0.003683428184944769\n",
            "feature: id_15_Found, importance: 0.0033311700245946055\n",
            "feature: id_15_New, importance: 0.0015599162068068704\n",
            "feature: id_15_Unknown, importance: 0.0007990101219064559\n",
            "feature: id_16_Found, importance: 0.0027045731918572923\n",
            "feature: id_16_NotFound, importance: 0.0017150371467159465\n",
            "feature: id_28_Found, importance: 0.0018644958897417608\n",
            "feature: id_28_New, importance: 0.0009426974717635496\n",
            "feature: id_29_Found, importance: 0.0027064458879130044\n",
            "feature: id_29_NotFound, importance: 0.001167952839463191\n",
            "feature: id_35_F, importance: 0.0027978362829215305\n",
            "feature: id_35_T, importance: 0.0016378327512809147\n",
            "feature: id_36_F, importance: 0.0021654298256474085\n",
            "feature: id_36_T, importance: 0.001046700013790426\n",
            "feature: id_37_F, importance: 0.002094067936682648\n",
            "feature: id_37_T, importance: 0.0025728757084904725\n",
            "feature: id_38_F, importance: 0.005803904434329784\n",
            "feature: id_38_T, importance: 0.0030206342851466015\n",
            "feature: DeviceType_desktop, importance: 0.004036240755075013\n",
            "feature: DeviceType_mobile, importance: 0.005515233608971692\n",
            "feature: TransactionDT, importance: 0.13560243359369117\n",
            "feature: TransactionAmt, importance: 0.11167396392367088\n",
            "feature: card1, importance: 0.12148282423500459\n",
            "feature: C1, importance: 0.08211187058241279\n",
            "feature: C2, importance: 0.04611954137598937\n",
            "feature: C3, importance: 0.00031690879094462026\n",
            "feature: C4, importance: 0.015945048070231196\n",
            "feature: C5, importance: 0.007758043383292369\n",
            "feature: C6, importance: 0.038752912250154835\n",
            "feature: C7, importance: 0.020592602767926693\n",
            "feature: C8, importance: 0.019663132653597603\n",
            "feature: C9, importance: 0.021563636315099943\n",
            "feature: C10, importance: 0.02292700201566332\n",
            "feature: C11, importance: 0.03661055551016999\n",
            "feature: C12, importance: 0.029067806209676323\n",
            "feature: C13, importance: 0.0735557909111233\n",
            "feature: C14, importance: 0.04131817033405471\n"
          ],
          "name": "stdout"
        }
      ]
    },
    {
      "cell_type": "code",
      "metadata": {
        "colab_type": "code",
        "id": "Rsf6SKxT2neH",
        "outputId": "7123aebb-9a0a-4128-95b2-f4fe36896a1f",
        "colab": {}
      },
      "source": [
        "len(fi)"
      ],
      "execution_count": 0,
      "outputs": [
        {
          "output_type": "execute_result",
          "data": {
            "text/plain": [
              "126"
            ]
          },
          "metadata": {
            "tags": []
          },
          "execution_count": 93
        }
      ]
    },
    {
      "cell_type": "markdown",
      "metadata": {
        "colab_type": "text",
        "id": "miEGWf3M2neI"
      },
      "source": [
        "On a au total 126 variables importantes.\n",
        "\n",
        "On trace 10 variables importantes retourner par notre modèle"
      ]
    },
    {
      "cell_type": "code",
      "metadata": {
        "colab_type": "code",
        "id": "mMH66Nt12neJ",
        "outputId": "152bd448-7c66-46c4-aa73-9ce81bf43261",
        "colab": {}
      },
      "source": [
        "sns.barplot(x=fi[0:10], y=fiName[0:10])\n",
        "plt.xlabel('Feature Importance Score')\n",
        "plt.ylabel('Features')\n",
        "plt.title(\"Visualizing Important Features\")\n",
        "plt.legend()\n",
        "plt.show()"
      ],
      "execution_count": 0,
      "outputs": [
        {
          "output_type": "stream",
          "text": [
            "No handles with labels found to put in legend.\n"
          ],
          "name": "stderr"
        },
        {
          "output_type": "display_data",
          "data": {
            "image/png": "[encoded data removed]",
            "text/plain": [
              "<Figure size 432x288 with 1 Axes>"
            ]
          },
          "metadata": {
            "tags": []
          }
        }
      ]
    },
    {
      "cell_type": "markdown",
      "metadata": {
        "colab_type": "text",
        "id": "Px9cE-9o2neN"
      },
      "source": [
        "**Utilisation du meilleur modèle (variables importantes)**\n",
        "\n",
        "Maintenant, on va prendre le meilleur modèle (qui a été formé) et l'évaluer. Espérons que celui là retourne un meilleur résultat"
      ]
    },
    {
      "cell_type": "code",
      "metadata": {
        "colab_type": "code",
        "id": "v0zBwgu92neN",
        "colab": {}
      },
      "source": [
        "X_trainEncodedBest = X_train[fiName]\n",
        "X_testEncodedBest = X_test[fiName]"
      ],
      "execution_count": 0,
      "outputs": []
    },
    {
      "cell_type": "markdown",
      "metadata": {
        "colab_type": "text",
        "id": "5rBEKr8-2neO"
      },
      "source": [
        "- **Option 1:**"
      ]
    },
    {
      "cell_type": "code",
      "metadata": {
        "colab_type": "code",
        "id": "QSaKpFjw2neP",
        "colab": {}
      },
      "source": [
        "rf_best=RandomForestClassifier( n_estimators = 485, max_features='sqrt',max_depth=164)"
      ],
      "execution_count": 0,
      "outputs": []
    },
    {
      "cell_type": "code",
      "metadata": {
        "colab_type": "code",
        "id": "b7LdhNrz2neQ",
        "outputId": "e5cc1c4b-0bd5-414e-c121-ee57f252dfe3",
        "colab": {}
      },
      "source": [
        "tstart=time.time()\n",
        "rf_best.fit(X_trainEncodedBest,y_train)\n",
        "tend = time.time()\n",
        "temps(tend-tstart)"
      ],
      "execution_count": 0,
      "outputs": [
        {
          "output_type": "stream",
          "text": [
            "temps : 00:08:01\n"
          ],
          "name": "stdout"
        }
      ]
    },
    {
      "cell_type": "code",
      "metadata": {
        "colab_type": "code",
        "id": "BtrFnuUi2neT",
        "colab": {}
      },
      "source": [
        "rf_predict_best = rf_best.predict(X_testEncodedBest)"
      ],
      "execution_count": 0,
      "outputs": []
    },
    {
      "cell_type": "code",
      "metadata": {
        "colab_type": "code",
        "id": "zvv7zhcg2neW",
        "outputId": "4f1aa073-97a6-45af-b2d1-66550b46cb7a",
        "colab": {}
      },
      "source": [
        "cm = confusion_matrix(y_test, rf_predict_best)\n",
        "plot_confusion_matrix(cm, classes = ['0', '1'],\n",
        "                      title = 'transaction Confusion Matrix')"
      ],
      "execution_count": 0,
      "outputs": [
        {
          "output_type": "stream",
          "text": [
            "Confusion matrix, without normalization\n",
            "[[187714    219]\n",
            " [  3166   3780]]\n"
          ],
          "name": "stdout"
        },
        {
          "output_type": "display_data",
          "data": {
            "image/png": "[encoded data removed]",
            "text/plain": [
              "<Figure size 720x720 with 2 Axes>"
            ]
          },
          "metadata": {
            "tags": []
          }
        }
      ]
    },
    {
      "cell_type": "code",
      "metadata": {
        "colab_type": "code",
        "id": "noLD0-4l2neY",
        "outputId": "c33d6bdd-f545-4d24-e5d0-89bfd83286ca",
        "colab": {}
      },
      "source": [
        "from sklearn.metrics import roc_curve, auc\n",
        "\n",
        "probas = rf_best.predict_proba(X_testEncodedBest)\n",
        "# probas est une matrice de deux colonnes avec la proabilités d'appartenance à chaque classe\n",
        "\n",
        "fpr, tpr, thresholds = roc_curve(y_test, probas[:, 1])\n",
        "roc_auc = auc(fpr, tpr)\n",
        "print(\"Area under the ROC curve : %f\" % roc_auc)\n",
        "\n",
        "plt.plot(fpr, tpr, label='ROC curve (area = %0.2f)' % roc_auc)\n",
        "plt.plot([0, 1], [0, 1], 'k--')\n",
        "plt.xlim([0.0, 1.0])\n",
        "plt.ylim([0.0, 1.0])\n",
        "plt.xlabel('False Positive Rate')\n",
        "plt.ylabel('True Positive Rate')\n",
        "plt.title('Receiver operating characteristic ')\n",
        "plt.legend(loc=\"lower right\");"
      ],
      "execution_count": 0,
      "outputs": [
        {
          "output_type": "stream",
          "text": [
            "Area under the ROC curve : 0.944634\n"
          ],
          "name": "stdout"
        },
        {
          "output_type": "display_data",
          "data": {
            "image/png": "[encoded data removed]",
            "text/plain": [
              "<Figure size 432x288 with 1 Axes>"
            ]
          },
          "metadata": {
            "tags": []
          }
        }
      ]
    },
    {
      "cell_type": "markdown",
      "metadata": {
        "colab_type": "text",
        "id": "f1qCmYdQ2neZ"
      },
      "source": [
        "- **Option 2:**"
      ]
    },
    {
      "cell_type": "code",
      "metadata": {
        "colab_type": "code",
        "id": "vgT5yXFK2nea",
        "colab": {}
      },
      "source": [
        "rf_best2=RandomForestClassifier(n_estimators = 188,min_samples_split=2,max_leaf_nodes= 33,max_features=0.79\n",
        "                               ,max_depth=12,bootstrap= True)"
      ],
      "execution_count": 0,
      "outputs": []
    },
    {
      "cell_type": "code",
      "metadata": {
        "colab_type": "code",
        "id": "yLp0ex0S2nec",
        "colab": {}
      },
      "source": [
        "tstart=time.time()\n",
        "rf_best2.fit(X_trainEncodedBest_rf,y_train)\n",
        "tend = time.time()\n",
        "temps(tend-tstart)"
      ],
      "execution_count": 0,
      "outputs": []
    },
    {
      "cell_type": "code",
      "metadata": {
        "colab_type": "code",
        "id": "3pGMdt8J2nef",
        "colab": {}
      },
      "source": [
        "rf_predict_best2 = rf_best2.predict(X_testEncodedBest_rf)"
      ],
      "execution_count": 0,
      "outputs": []
    },
    {
      "cell_type": "code",
      "metadata": {
        "colab_type": "code",
        "id": "dgAJPKR42nei",
        "colab": {}
      },
      "source": [
        "print(\"Accuracy:\",metrics.accuracy_score(y_test,rf_predict_best2 ))"
      ],
      "execution_count": 0,
      "outputs": []
    },
    {
      "cell_type": "markdown",
      "metadata": {
        "colab_type": "text",
        "id": "oSis36Jh2nel"
      },
      "source": [
        "## Adaptive Boosting"
      ]
    },
    {
      "cell_type": "markdown",
      "metadata": {
        "colab_type": "text",
        "id": "VsWKh0gV2nel"
      },
      "source": [
        "Optimisation des hyperparamètres"
      ]
    },
    {
      "cell_type": "code",
      "metadata": {
        "colab_type": "code",
        "id": "yeiWQYYy2nem",
        "colab": {}
      },
      "source": [
        "parameters = {'learning_rate': [0.01, 0.05, 0.1, 1]}\n",
        "gridCv = GridSearchCV(AdaBoostClassifier(), param_grid= parameters, cv=3, scoring='roc_auc')"
      ],
      "execution_count": 0,
      "outputs": []
    },
    {
      "cell_type": "code",
      "metadata": {
        "colab_type": "code",
        "id": "rN_0lrde2neo",
        "colab": {}
      },
      "source": [
        "begin = time.time()\n",
        "gridCv.fit(X,Y)\n",
        "end = time.time()"
      ],
      "execution_count": 0,
      "outputs": []
    },
    {
      "cell_type": "code",
      "metadata": {
        "colab_type": "code",
        "id": "vDvgdgsK2neq",
        "outputId": "5715882c-d1da-43cd-96c8-06bd1653602c",
        "colab": {
          "base_uri": "https://localhost:8080/",
          "height": 34
        }
      },
      "source": [
        "print(\"Time execution for optimizing hyperparapeter is {a} minutes.\".format(a =(end-begin)/60))"
      ],
      "execution_count": 0,
      "outputs": [
        {
          "output_type": "stream",
          "text": [
            "Time execution for optimizing hyperparapeter is 9.452148266633351 minutes.\n"
          ],
          "name": "stdout"
        }
      ]
    },
    {
      "cell_type": "markdown",
      "metadata": {
        "colab_type": "text",
        "id": "12KxAfg62ner"
      },
      "source": [
        "Meilleur paramètre, meileur estimateur et AUC"
      ]
    },
    {
      "cell_type": "code",
      "metadata": {
        "colab_type": "code",
        "id": "ykKy6R6a2net",
        "outputId": "c6c6bbef-3a5b-42f5-8220-c77216497e3c",
        "colab": {
          "base_uri": "https://localhost:8080/",
          "height": 34
        }
      },
      "source": [
        "gridCv.best_params_"
      ],
      "execution_count": 0,
      "outputs": [
        {
          "output_type": "execute_result",
          "data": {
            "text/plain": [
              "{'learning_rate': 1}"
            ]
          },
          "metadata": {
            "tags": []
          },
          "execution_count": 127
        }
      ]
    },
    {
      "cell_type": "code",
      "metadata": {
        "colab_type": "code",
        "id": "NnCR4zSJ2nev",
        "outputId": "e7c04c92-fc98-46cd-a866-bb4b7383fe9b",
        "colab": {
          "base_uri": "https://localhost:8080/",
          "height": 52
        }
      },
      "source": [
        "gridCv.best_estimator_"
      ],
      "execution_count": 0,
      "outputs": [
        {
          "output_type": "execute_result",
          "data": {
            "text/plain": [
              "AdaBoostClassifier(algorithm='SAMME.R', base_estimator=None, learning_rate=1,\n",
              "                   n_estimators=50, random_state=None)"
            ]
          },
          "metadata": {
            "tags": []
          },
          "execution_count": 128
        }
      ]
    },
    {
      "cell_type": "code",
      "metadata": {
        "colab_type": "code",
        "id": "UYm3-H5e2nex",
        "outputId": "6d6c135a-bc7a-4fa7-8912-df43cb7343fc",
        "colab": {
          "base_uri": "https://localhost:8080/",
          "height": 34
        }
      },
      "source": [
        "gridCv.best_score_"
      ],
      "execution_count": 0,
      "outputs": [
        {
          "output_type": "execute_result",
          "data": {
            "text/plain": [
              "0.8237338656984755"
            ]
          },
          "metadata": {
            "tags": []
          },
          "execution_count": 129
        }
      ]
    },
    {
      "cell_type": "markdown",
      "metadata": {
        "colab_type": "text",
        "id": "q48OahO32ne0"
      },
      "source": [
        "Model AdaBoost avec toutes les variables"
      ]
    },
    {
      "cell_type": "code",
      "metadata": {
        "colab_type": "code",
        "id": "MQxngOQ_2ne0",
        "colab": {}
      },
      "source": [
        "Model = AdaBoostClassifier(algorithm='SAMME.R', base_estimator=None, learning_rate= 1,\n",
        "                   n_estimators=50, random_state=None)"
      ],
      "execution_count": 0,
      "outputs": []
    },
    {
      "cell_type": "code",
      "metadata": {
        "colab_type": "code",
        "id": "ihy52-jS2ne4",
        "outputId": "ea7d4743-a18c-472a-9331-82270e6ab461",
        "colab": {
          "base_uri": "https://localhost:8080/",
          "height": 52
        }
      },
      "source": [
        "Model.fit(X,Y)"
      ],
      "execution_count": 0,
      "outputs": [
        {
          "output_type": "execute_result",
          "data": {
            "text/plain": [
              "AdaBoostClassifier(algorithm='SAMME.R', base_estimator=None, learning_rate=1,\n",
              "                   n_estimators=50, random_state=None)"
            ]
          },
          "metadata": {
            "tags": []
          },
          "execution_count": 131
        }
      ]
    },
    {
      "cell_type": "markdown",
      "metadata": {
        "colab_type": "text",
        "id": "wmMNrmGp2ne5"
      },
      "source": [
        "Probabilités prédites par le modèle"
      ]
    },
    {
      "cell_type": "code",
      "metadata": {
        "colab_type": "code",
        "id": "jnMQ79AL2ne6",
        "colab": {}
      },
      "source": [
        "predictedProba1 = pd.DataFrame(Model.predict_proba(X_testEncoded), columns=['0','1'])\n",
        "fraudTransaction = predictedProba1['1']"
      ],
      "execution_count": 0,
      "outputs": []
    },
    {
      "cell_type": "code",
      "metadata": {
        "id": "oSpt3YW5Pmku",
        "colab_type": "code",
        "colab": {}
      },
      "source": [
        "fraudTransactionADB = saveCSV(fraudTransaction, filename=\"submission.csv\")"
      ],
      "execution_count": 0,
      "outputs": []
    },
    {
      "cell_type": "markdown",
      "metadata": {
        "colab_type": "text",
        "id": "ary8mhqu2ne8"
      },
      "source": [
        "Adaboost Model avec seulement les variables importantes :"
      ]
    },
    {
      "cell_type": "markdown",
      "metadata": {
        "colab_type": "text",
        "id": "tzmwZ9MK2ne9"
      },
      "source": [
        "On utilise la méthode feature_importances_ pour trouver les variables importantes."
      ]
    },
    {
      "cell_type": "code",
      "metadata": {
        "colab_type": "code",
        "id": "k4d2Y2xb2ne9",
        "outputId": "7d264fa1-49b3-4b79-af01-ab9b1eb61fc5",
        "colab": {
          "base_uri": "https://localhost:8080/",
          "height": 457
        }
      },
      "source": [
        "importantFeature = []\n",
        "importantFeatureName = []\n",
        "for feat, importance in zip(X.columns, gridCv.best_estimator_.feature_importances_):\n",
        "  if importance!= 0:\n",
        "      importantFeature.append(importance)\n",
        "      importantFeatureName.append(feat)\n",
        "      print('feature: {f}, importance: {i}'.format(f=feat, i=importance))"
      ],
      "execution_count": 0,
      "outputs": [
        {
          "output_type": "stream",
          "text": [
            "feature: ProductCD_R, importance: 0.02\n",
            "feature: card4_discover, importance: 0.02\n",
            "feature: card4_visa, importance: 0.02\n",
            "feature: R_emaildomain_gmail.com, importance: 0.02\n",
            "feature: M3_T, importance: 0.02\n",
            "feature: M4_M0, importance: 0.02\n",
            "feature: M5_T, importance: 0.02\n",
            "feature: M6_F, importance: 0.02\n",
            "feature: M9_F, importance: 0.02\n",
            "feature: id_29_Found, importance: 0.02\n",
            "feature: DeviceType_mobile, importance: 0.02\n",
            "feature: TransactionDT, importance: 0.04\n",
            "feature: TransactionAmt, importance: 0.06\n",
            "feature: card1, importance: 0.08\n",
            "feature: C1, importance: 0.12\n",
            "feature: C2, importance: 0.02\n",
            "feature: C3, importance: 0.02\n",
            "feature: C5, importance: 0.04\n",
            "feature: C6, importance: 0.04\n",
            "feature: C7, importance: 0.08\n",
            "feature: C8, importance: 0.04\n",
            "feature: C11, importance: 0.06\n",
            "feature: C12, importance: 0.02\n",
            "feature: C13, importance: 0.04\n",
            "feature: C14, importance: 0.12\n"
          ],
          "name": "stdout"
        }
      ]
    },
    {
      "cell_type": "code",
      "metadata": {
        "colab_type": "code",
        "id": "qZPALmaK2ne_",
        "colab": {}
      },
      "source": [
        "X_trainEncodedBest = X_train[importantFeatureName]\n",
        "X_testEncodedBest = X_test[importantFeatureName]"
      ],
      "execution_count": 0,
      "outputs": []
    },
    {
      "cell_type": "code",
      "metadata": {
        "colab_type": "code",
        "id": "7oKCsuGV2nfC",
        "colab": {}
      },
      "source": [
        "begin = time.time()\n",
        "crossValScore = cross_val_score(Model, X_trainEncodedBest, y_train, cv= 3, scoring='roc_auc')\n",
        "end = time.time()"
      ],
      "execution_count": 0,
      "outputs": []
    },
    {
      "cell_type": "code",
      "metadata": {
        "colab_type": "code",
        "id": "LfItirwy2nfD",
        "outputId": "da862f90-a98e-4e2d-f01a-6ebfd5a78a4f",
        "colab": {
          "base_uri": "https://localhost:8080/",
          "height": 52
        }
      },
      "source": [
        "print(\"auc score is: {f}\".format(f=np.mean(crossValScore)))\n",
        "print(\"Time exécution is {a} minutes\".format(a = (end-begin)/60))"
      ],
      "execution_count": 0,
      "outputs": [
        {
          "output_type": "stream",
          "text": [
            "auc score is: 0.8435041254731782\n",
            "Time exécution is 0.6441983938217163 minutes\n"
          ],
          "name": "stdout"
        }
      ]
    },
    {
      "cell_type": "markdown",
      "metadata": {
        "id": "qKm51TpaQjuc",
        "colab_type": "text"
      },
      "source": [
        "On obtient un auc_score supérieur."
      ]
    },
    {
      "cell_type": "markdown",
      "metadata": {
        "colab_type": "text",
        "id": "7k_cmSXx2nfG"
      },
      "source": [
        "Probabilités des transactions frauduleuse prédites par ce modèle"
      ]
    },
    {
      "cell_type": "markdown",
      "metadata": {
        "colab_type": "text",
        "id": "86h9VVYM2nfS"
      },
      "source": [
        "Le modèle prenant en compte toutes les variables prend assez de temps et donne  une plus petite valeur de l'AUC (0.82).\n",
        "\n",
        "En ne prenant que les variables importantes on trouve un score de l'AUC de 0.84 avec un temps d'exécution est moins long."
      ]
    },
    {
      "cell_type": "code",
      "metadata": {
        "id": "k8hkQRbRSZkb",
        "colab_type": "code",
        "outputId": "0f1c8345-25c5-40c9-b797-e04d5ad8b6d4",
        "colab": {
          "base_uri": "https://localhost:8080/",
          "height": 34
        }
      },
      "source": [
        "seed = 7\n",
        "# preparation des models optimisés\n",
        "models = []\n",
        "models.append(('NB', GaussianNB()))\n",
        "models.append(('KNN', KNeighborsClassifier(n_neighbors=2)))\n",
        "models.append(('LR', LogisticRegression(solver = 'newton-cg', penalty = 'l2', C=9, class_weight = 'balanced', n_jobs=-1, random_state=0)))\n",
        "models.append(('RF', RandomForestClassifier(n_estimators = 485, max_features='sqrt',max_depth=164)))\n",
        "models.append(('ADB', AdaBoostClassifier(algorithm='SAMME.R', base_estimator=None, learning_rate= 1,\n",
        "                   n_estimators=50, random_state=None)))\n",
        "\n",
        "# évalutation de chaque model\n",
        "results = []\n",
        "names = []\n",
        "scoring = 'roc_auc'\n",
        "for name, model in models:\n",
        "\tkfold = model_selection.KFold(n_splits=5, random_state=seed)\n",
        "\tcv_results = model_selection.cross_val_score(model, X, Y, cv=kfold, scoring=scoring)\n",
        "\tresults.append(cv_results)\n",
        "\tnames.append(name)\n",
        "\tmsg = \"%s: %f (%f)\" % (name, cv_results.mean(), cv_results.std())\n",
        "\tprint(msg)"
      ],
      "execution_count": 0,
      "outputs": [
        {
          "output_type": "stream",
          "text": [
            "NB: 0.509076 (0.004409)\n"
          ],
          "name": "stdout"
        }
      ]
    },
    {
      "cell_type": "markdown",
      "metadata": {
        "colab_type": "text",
        "id": "h_YJPd2ackMP"
      },
      "source": [
        "# Comparaison "
      ]
    },
    {
      "cell_type": "code",
      "metadata": {
        "id": "smZEDa5ABU92",
        "colab_type": "code",
        "colab": {
          "base_uri": "https://localhost:8080/",
          "height": 105
        },
        "outputId": "b8586761-e646-4fbf-c5a1-3139a384c55a"
      },
      "source": [
        "seed = 7\n",
        "# preparation des models optimisés\n",
        "models = []\n",
        "models.append(('NB', GaussianNB()))\n",
        "models.append(('KNN', KNeighborsClassifier(n_neighbors=2)))\n",
        "models.append(('LR', LogisticRegression(solver = 'newton-cg', penalty = 'l2', C=9, class_weight = 'balanced', n_jobs=-1, random_state=0)))\n",
        "models.append(('RF', RandomForestClassifier(n_estimators = 485, max_features='sqrt',max_depth=164)))\n",
        "models.append(('ADB', AdaBoostClassifier(algorithm='SAMME.R', base_estimator=None, learning_rate= 1,\n",
        "                   n_estimators=50, random_state=None)))\n",
        "\n",
        "# évalutation de chaque model\n",
        "results = []\n",
        "names = []\n",
        "scoring = 'roc_auc'\n",
        "for name, model in models:\n",
        "\tkfold = model_selection.KFold(n_splits=5, random_state=seed)\n",
        "\tcv_results = model_selection.cross_val_score(model, X, Y, cv=kfold, scoring=scoring)\n",
        "\tresults.append(cv_results)\n",
        "\tnames.append(name)\n",
        "\tmsg = \"%s: %f (%f)\" % (name, cv_results.mean(), cv_results.std())\n",
        "\tprint(msg)"
      ],
      "execution_count": 53,
      "outputs": [
        {
          "output_type": "stream",
          "text": [
            "NB: 0.509076 (0.004409)\n",
            "KNN: 0.630214 (0.019375)\n",
            "LR: 0.797934 (0.018564)\n",
            "RF: 0.886692 (0.009569)\n",
            "ADB: 0.832397 (0.009978)\n"
          ],
          "name": "stdout"
        }
      ]
    },
    {
      "cell_type": "code",
      "metadata": {
        "colab_type": "code",
        "id": "TJYnoRlxdWgw",
        "outputId": "311cac6b-b601-4b0c-a27c-3d607956db63",
        "colab": {
          "base_uri": "https://localhost:8080/",
          "height": 297
        }
      },
      "source": [
        "fig = plt.figure()\n",
        "fig.suptitle('Algorithm Comparison')\n",
        "ax = fig.add_subplot(111)\n",
        "plt.boxplot(results)\n",
        "ax.set_xticklabels(names)\n",
        "plt.show()"
      ],
      "execution_count": 54,
      "outputs": [
        {
          "output_type": "display_data",
          "data": {
            "image/png": "[encoded data removed]",
            "text/plain": [
              "<Figure size 432x288 with 1 Axes>"
            ]
          },
          "metadata": {
            "tags": []
          }
        }
      ]
    },
    {
      "cell_type": "markdown",
      "metadata": {
        "id": "Y0xPmjfa65WD",
        "colab_type": "text"
      },
      "source": [
        "# Conclusion"
      ]
    },
    {
      "cell_type": "markdown",
      "metadata": {
        "id": "_Zsk4P8368Vz",
        "colab_type": "text"
      },
      "source": [
        "Le random forest et l'algorithme adaptative adaboosting donnent des meilleurs accuracy_score. "
      ]
    }
  ]
}